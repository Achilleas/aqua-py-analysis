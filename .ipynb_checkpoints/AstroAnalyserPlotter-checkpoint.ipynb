{
 "cells": [
  {
   "cell_type": "code",
   "execution_count": 9,
   "metadata": {},
   "outputs": [],
   "source": [
    "import numpy as np\n",
    "from analysis import AstrocyteAnalyzer\n",
    "from analysis import AstrocytePlotter\n",
    "from importlib import reload  # Python 3.4+ only\n",
    "AstrocyteAnalyzer = reload(AstrocyteAnalyzer)\n",
    "AstrocytePlotter = reload(AstrocytePlotter)\n",
    "import os, sys, glob\n",
    "import plotly.offline as offline\n",
    "from preprocessing import analysis_pp\n",
    "from analysis.general_utils import aqua_utils, saving_utils, plotly_utils, general_utils, compare_astro_utils, correlation_utils, duration_utils, stat_utils\n",
    "import pandas\n",
    "\n",
    "analysis_pp = reload(analysis_pp)\n",
    "aqua_utils = reload(aqua_utils)\n",
    "plotly_utils = reload(plotly_utils)\n",
    "saving_utils = reload(saving_utils)\n",
    "duration_utils = reload(duration_utils)\n",
    "compare_astro_utils = reload(compare_astro_utils)\n",
    "correlation_utils = reload(correlation_utils)\n",
    "stat_utils = reload(stat_utils)"
   ]
  },
  {
   "cell_type": "code",
   "execution_count": null,
   "metadata": {},
   "outputs": [],
   "source": [
    "output_folder = '/Users/achilleasgeorgiou/Desktop/data_output'\n",
    "astroP = AstrocytePlotter.AstrocytePlotter(output_folder)"
   ]
  },
  {
   "cell_type": "code",
   "execution_count": null,
   "metadata": {
    "scrolled": true
   },
   "outputs": [],
   "source": [
    "astroA_l = [astroA_0, astroB_0, astroB_3, astroC_0, astroC_2, astroD_A_0, astroD_A_1, astroD_B_0, astroD_B_1]\n",
    "astroA_l_good = [astroA_0, astroB_0, astroB_3, astroD_A_0, astroD_A_1, astroD_B_0, astroD_B_1]\n",
    "#Long (70+ min recordings)\n",
    "astroA_long_l = [astroA_0, astroD_A_0, astroD_A_1, astroD_B_0, astroD_B_1]\n",
    "fig = astroP.plot_comparisons_all(astroA_l, \n",
    "                            astroA_l_pairs=[[astroB_0, astroB_3], \n",
    "                                            [astroC_0, astroC_2], \n",
    "                                            [astroD_A_0, astroD_A_1], \n",
    "                                            [astroD_B_0, astroD_B_1]], \n",
    "                            astroA_l_good_pairs=[[astroB_0, astroB_3], \n",
    "                                                 [astroD_A_0, astroD_A_1], \n",
    "                                                 [astroD_B_0, astroD_B_1]], \n",
    "                            astroA_l_good=astroA_l_good,\n",
    "                            astroA_long_l=astroA_long_l)"
   ]
  },
  {
   "cell_type": "code",
   "execution_count": null,
   "metadata": {},
   "outputs": [],
   "source": [
    "x_l = [x for i in range(len(y_l_l))]\n",
    "fig, stats_d = plotly_utils.plot_scatter_mult(x_l, y_l_l, name_l, mode='lines', title='scatter', x_title='', y_title='',\n",
    "                        xrange=None, yrange=None, confidence=True, with_stats=True, point_box=True)"
   ]
  },
  {
   "cell_type": "code",
   "execution_count": null,
   "metadata": {},
   "outputs": [],
   "source": [
    "fig = plotly_utils.plot_scatter(np.arange(len(astroA_0.speed_values)), astroA_0.speed_values, mode='lines')\n",
    "offline.iplot(fig)"
   ]
  },
  {
   "cell_type": "code",
   "execution_count": null,
   "metadata": {},
   "outputs": [],
   "source": [
    "x_l = []\n",
    "y_l = []\n",
    "name_l = [astroA.print_id for astroA in astroA_l]\n",
    "for astroA in astroA_l:\n",
    "    grid = astroA.event_grids_1min['default']\n",
    "    grid = np.interp(grid, (grid.min(), grid.max()), (0, 1))\n",
    "    grid_flat = grid.flatten()\n",
    "    grid_flat_nz = grid_flat[grid_flat != 0]\n",
    "\n",
    "    hist, bin_edges = np.histogram(grid_flat_nz, bins=20, range=(0,1), density=True)\n",
    "    \n",
    "    x_l = bin_edges[:-1]\n",
    "    y_l.append(hist)\n",
    "\n",
    "y_l_fmt = []\n",
    "\n",
    "for i in range(len(y_l[0])):\n",
    "    y_l_fmt.append([y[i] for y in y_l])\n",
    "\n",
    "fig, stats_d = plotly_utils.plot_scatter_error(x_l, y_l_fmt, x_title='Pixel intensity percentile', y_title='Frequency (Density)', exp_fit=True, with_details=True)\n",
    "\n",
    "print(np.array(stats_d['data']).shape)\n",
    "\n",
    "df_data = DataFrame(np.array(stats_d['data']).T, columns=x_l, index=name_l)\n",
    "df_stats = DataFrame([stats_d['mean'], stats_d['conf_95'], stats_d['fit']], columns=x_l, index=['mean', 'conf_95', 'fit'])\n"
   ]
  },
  {
   "cell_type": "code",
   "execution_count": null,
   "metadata": {},
   "outputs": [],
   "source": [
    "sample_l_all = []\n",
    "for astroA in astroA_l:\n",
    "    d = astroP.get_individual_heatmaps_threshold_scaled(astroA_0, bh='default', threshold=1, num_samples=1, dff_mode=False, with_arr=True)\n",
    "    sample_l_all.append(d['arrs_d']['arr_r'][0])\n",
    "    \n",
    "x_l = []\n",
    "y_l = []\n",
    "\n",
    "for grid in sample_l_all:\n",
    "    grid = np.interp(grid, (grid.min(), grid.max()), (0, 1))\n",
    "    grid_flat = grid.flatten()\n",
    "    grid_flat_nz = grid_flat[grid_flat != 0]\n",
    "    #Normalize values to 1\n",
    "    grid_flat_nz /= np.max(grid_flat_nz)\n",
    "    hist, bin_edges = np.histogram(grid_flat_nz, bins=20, range=(0,1), density=True)\n",
    "    x_l = bin_edges[:-1]\n",
    "    y_l.append(hist)\n",
    "\n",
    "y_l_fmt = []\n",
    "\n",
    "for i in range(len(y_l[0])):\n",
    "    y_l_fmt.append([y[i] for y in y_l])\n",
    "\n",
    "fig, stats_d = plotly_utils.plot_scatter_error(x_l, y_l_fmt, x_title='Pixel intensity percentile', y_title='Frequency (Density)', exp_fit=False, with_details=True)\n",
    "\n",
    "df_data = DataFrame(np.array(stats_d['data']).T, columns=x_l)\n",
    "df_stats = DataFrame([stats_d['mean'], stats_d['conf_95']], columns=x_l, index=['mean', 'conf_95'])"
   ]
  },
  {
   "cell_type": "code",
   "execution_count": null,
   "metadata": {},
   "outputs": [],
   "source": [
    "base_path_a = '/Users/achilleasgeorgiou/Desktop/data_local/astro_only/m181129_d190111_c001/'\n",
    "astroA_0 = AstrocyteAnalyzer.AstrocyteAnalyzer(base_path_a, day=0, aqua_bound=True)\n",
    "\n",
    "base_path_b = '/Users/achilleasgeorgiou/Desktop/data_local/astro_only/m181129_d190222_c005/'\n",
    "\n",
    "astroB_0 = AstrocyteAnalyzer.AstrocyteAnalyzer(base_path_b, day=0, aqua_bound=True)\n",
    "astroB_3 = AstrocyteAnalyzer.AstrocyteAnalyzer(base_path_b, day=3, aqua_bound=True)\n",
    "\n",
    "\n",
    "base_path_c = '/Users/achilleasgeorgiou/Desktop/data_local/astro_only/m190129_d190226_cx/'\n",
    "\n",
    "astroC_0 = AstrocyteAnalyzer.AstrocyteAnalyzer(base_path_c, day=0, aqua_bound=True)\n",
    "astroC_2 = AstrocyteAnalyzer.AstrocyteAnalyzer(base_path_c, day=2, aqua_bound=True)\n",
    "\n",
    "base_path_d_A = '/Users/achilleasgeorgiou/Desktop/data_local/astro_only/m2000219_d190411_c003/'\n",
    "\n",
    "astroD_A_0 = AstrocyteAnalyzer.AstrocyteAnalyzer(base_path_d_A, day=0, aqua_bound=True)\n",
    "astroD_A_1 = AstrocyteAnalyzer.AstrocyteAnalyzer(base_path_d_A, day=1, aqua_bound=True)\n",
    "\n",
    "base_path_d_B = '/Users/achilleasgeorgiou/Desktop/data_local/astro_only/m2000219_d190411_c004/'\n",
    "\n",
    "astroD_B_0 = AstrocyteAnalyzer.AstrocyteAnalyzer(base_path_d_B, day=0, aqua_bound=True)\n",
    "astroD_B_1 = AstrocyteAnalyzer.AstrocyteAnalyzer(base_path_d_B, day=1, aqua_bound=True)\n"
   ]
  },
  {
   "cell_type": "code",
   "execution_count": null,
   "metadata": {},
   "outputs": [],
   "source": [
    "astroA_l = [astroA_0, astroB_0, astroB_3, astroC_0, astroC_2, astroD_A_0, astroD_A_1, astroD_B_0, astroD_B_1]\n",
    "\n",
    "astroA_longT_l = [astroA_0, astroD_A_0, astroD_A_1, astroD_B_0, astroD_B_1]\n",
    "\n",
    "for astroA in astroA_longT_l:\n",
    "    print(astroA.print_id)\n",
    "    \n",
    "    print(len(astroA.indices_d['default']) / astroA.minute_frames)"
   ]
  },
  {
   "cell_type": "markdown",
   "metadata": {},
   "source": [
    "### Astro A:"
   ]
  },
  {
   "cell_type": "code",
   "execution_count": null,
   "metadata": {
    "scrolled": true
   },
   "outputs": [],
   "source": [
    "base_path_a = '/Users/achilleasgeorgiou/Desktop/data_local/astro_only/m181129_d190111_c001/'\n",
    "astroA_0 = AstrocyteAnalyzer.AstrocyteAnalyzer(base_path_a, day=0, aqua_bound=True)"
   ]
  },
  {
   "cell_type": "code",
   "execution_count": null,
   "metadata": {},
   "outputs": [],
   "source": [
    "'''\n",
    "path = os.path.join(output_experiment_path, 'plots', 'size_v_time_corr')\n",
    "areas = np.log(astroA.res_d['area'])\n",
    "times = astroA.res_d['time_s']\n",
    "r, p = stat_utils.get_pearsonr(times, areas)\n",
    "'''\n",
    "astroA_l = [astroA_0, astroB_0, astroB_3, astroC_0, astroC_2, astroD_A_0, astroD_A_1, astroD_B_0, astroD_B_1]\n",
    "#astroA_l = [astroA_0, astroB_0, astroB_3, astroD_A_0, astroD_A_1, astroD_B_0, astroD_B_1]\n",
    "#,, astroD_A_1, astroD_B_0, astroD_B_1\n",
    "#1. get maximum speed\n",
    "#set number of frames to split\n",
    "\n",
    "def speed_event_tuple(astroA, frame_l_l, num_events_only=False):\n",
    "    '''\n",
    "    Given list of a list of frames. \n",
    "    For each sublist of frames get corresponding average speed and events that took place in tuple [avg_speed, event_l]\n",
    "    '''\n",
    "    avg_speed_l = [np.mean(astroA.speed_values[split_i]) for split_i in split_arr_i_l]\n",
    "\n",
    "    speed_frame_tuple_l = [[avg_speed_l[i], split_arr_i_l[i]] for i in range(len(split_arr_i_l))]\n",
    "    frame_subset_d = {i:speed_frame_tuple_l[i][1] for i in range(len(speed_frame_tuple_l))}\n",
    "    frame_subset_d['default'] = astroA.indices_d['default']\n",
    "    event_subset_d = aqua_utils.get_event_subsets(frame_subset_d, astroA.res_d, after_i=0, before_i=0, to_print=False)\n",
    "    if num_events_only:\n",
    "        speed_event_tuple_l = [[speed_frame_tuple_l[i][0], len(event_subset_d[i])] for i in range(len(speed_frame_tuple_l))]\n",
    "    else:\n",
    "        speed_event_tuple_l = [[speed_frame_tuple_l[i][0], event_subset_d[i]] for i in range(len(speed_frame_tuple_l))]\n",
    "    #print('SPEED FRAME TUPLE', speed_frame_tuple_l[10])\n",
    "    #print('FRAME SUBSET D', frame_subset_d[10])\n",
    "    #print('EVENT SUBSET D', event_subset_d[10])\n",
    "    print('SPEED EVENT TUPLE', speed_event_tuple_l[10])\n",
    "    return speed_event_tuple_l\n",
    "\n",
    "speed_event_tuple_d = {}\n",
    "\n",
    "for astroA in astroA_l:\n",
    "    #split n frames. Measure average speed in that bin. Measure how many events in that bin.\n",
    "    #add to histogram\n",
    "    #10 second frame splits\n",
    "    n_frame_splits = int(astroA.minute_frames / 6)\n",
    "    total_frames = len(astroA.indices_d['default'])\n",
    "    num_chunks = total_frames//n_frame_splits\n",
    "    print('NUM FRAME SPLITS {}, TOTAL FRAMES {} NUM CHUNKS {}'.format(n_frame_splits, total_frames, num_chunks))\n",
    "    split_arr_i_l = np.array_split(astroA.indices_d['default'], num_chunks)\n",
    "    speed_event_tuple_l = speed_event_tuple(astroA, split_arr_i_l, num_events_only=True)\n",
    "\n",
    "    speed_event_tuple_d[astroA.print_id] = speed_event_tuple_l\n",
    "\n",
    "#Find maximum speed, for bounds of histogram\n",
    "max_speed = 0\n",
    "for k in speed_event_tuple_d.keys():\n",
    "    max_speed_k = np.max(np.array([speed for speed, ev_l in speed_event_tuple_d[k]]))\n",
    "    print('MAX SPEED {} : {}'.format(k, max_speed_k))\n",
    "    if max_speed_k > max_speed:\n",
    "        max_speed = max_speed_k\n",
    "\n",
    "print('MAX SPEED' , max_speed)\n",
    "\n",
    "events_bins_d = {}\n",
    "n_bins = 5\n",
    "bin_values = np.linspace(0, max_speed, n_bins)\n",
    "\n",
    "for astroA in astroA_l:\n",
    "    events_bins = [[] for i in range((n_bins-1))]\n",
    "    speed_event_tuple = speed_event_tuple_d[astroA.print_id]\n",
    "\n",
    "    for sp_ev_tup in speed_event_tuple:\n",
    "        ind = np.searchsorted(bin_values, sp_ev_tup[0], side='right')-1\n",
    "        if ind == len(events_bins):\n",
    "            ind -= 1\n",
    "        events_bins[ind].append(sp_ev_tup[1] / n_frame_splits)\n",
    "    \n",
    "    #events_bins_avg = [np.mean(events_bins[i]) for i in range(len(events_bins))]\n",
    "    \n",
    "    events_bins_d[astroA.print_id] = events_bins\n",
    "    \n",
    "print(events_bins_d)\n",
    "\n",
    "x = bin_values[:-1]\n",
    "names_l = list(events_bins_d.keys())\n",
    "\n",
    "x_l = [x for i in range(len(astroA_l))]\n",
    "\n",
    "y_l_l = [events_bins_d[k] for k in names_l]\n",
    "\n",
    "x_l_dpl = [tup[0] for tup in speed_event_tuple]\n",
    "y_l_dpl = [tup[1] for tup in speed_event_tuple]\n",
    "\n",
    "r, p = stat_utils.get_pearsonr(y_l_dpl, x_l_dpl)\n",
    "\n",
    "df = pd.DataFrame({'Events': y_l_dpl, 'Speed': x_l_dpl})\n",
    "\n",
    "print('NAMES L', names_l)\n",
    "print(len(names_l))\n",
    "print('NUM YH_L_L', len(y_l_l))\n",
    "\n",
    "\n"
   ]
  },
  {
   "cell_type": "code",
   "execution_count": null,
   "metadata": {},
   "outputs": [],
   "source": [
    "import pandas as pd\n",
    "\n",
    "x_l_dpl = [tup[0] for tup in speed_event_tuple]\n",
    "y_l_dpl = [tup[1] for tup in speed_event_tuple]\n",
    "\n",
    "r, p = stat_utils.get_pearsonr(y_l_dpl, x_l_dpl)\n",
    "\n",
    "df = pd.DataFrame({'Events': y_l_dpl, 'Speed': x_l_dpl})\n",
    "\n",
    "title ='Event bin num vs Speed correlation plot'\n",
    "text = 'r = {}, p < {}'.format(general_utils.truncate(r, 2), p)\n",
    "for kind in ['reg']:\n",
    "    plotly_utils.seaborn_joint_grid(df, 'Speed', 'Events', kind=kind, text=text)\n",
    "\n"
   ]
  },
  {
   "cell_type": "code",
   "execution_count": null,
   "metadata": {
    "scrolled": true
   },
   "outputs": [],
   "source": [
    "fig, stats_d = plotly_utils.plot_scatter_mult_with_avg(x_l, y_l_l, None, names_l, mode='lines', title='scatter', x_title='Speed (cm/s)', y_title='',\n",
    "                        xrange=None, yrange=None, confidence=True, with_stats=True, point_box=False, mean_width_size=5)\n",
    "offline.iplot(fig)"
   ]
  },
  {
   "cell_type": "code",
   "execution_count": null,
   "metadata": {},
   "outputs": [],
   "source": [
    "stats_d"
   ]
  },
  {
   "cell_type": "code",
   "execution_count": null,
   "metadata": {},
   "outputs": [],
   "source": [
    "fig = plotly_utils.plot_point_box_revised(x, y_l_l[0], title='point box', x_title='', y_title='',\n",
    "                    height=400, width=600, margin_l=100, margin_b=100, err_type='conf',\n",
    "                    y_range=None, point_size_mult=1, interval_size_mult=1, return_details=False,\n",
    "                    ignore_points=False, showlegend=False, squish_x=1, squish_y=1, lines=False,\n",
    "                    with_stats=False)"
   ]
  },
  {
   "cell_type": "code",
   "execution_count": null,
   "metadata": {},
   "outputs": [],
   "source": [
    "offline.iplot(fig)"
   ]
  },
  {
   "cell_type": "code",
   "execution_count": null,
   "metadata": {},
   "outputs": [],
   "source": [
    "#astroP.generate_corr_data(astroA)"
   ]
  },
  {
   "cell_type": "code",
   "execution_count": null,
   "metadata": {},
   "outputs": [],
   "source": [
    "astroP.plot_all_single(astroA)"
   ]
  },
  {
   "cell_type": "markdown",
   "metadata": {},
   "source": [
    "### Astro B_0, B_3"
   ]
  },
  {
   "cell_type": "code",
   "execution_count": null,
   "metadata": {},
   "outputs": [],
   "source": [
    "base_path_b = '/Users/achilleasgeorgiou/Desktop/data_local/astro_only/m181129_d190222_c005/'\n",
    "\n",
    "astroB_0 = AstrocyteAnalyzer.AstrocyteAnalyzer(base_path_b, day=0, aqua_bound=True)\n",
    "astroB_3 = AstrocyteAnalyzer.AstrocyteAnalyzer(base_path_b, day=3, aqua_bound=True)"
   ]
  },
  {
   "cell_type": "code",
   "execution_count": null,
   "metadata": {
    "scrolled": false
   },
   "outputs": [],
   "source": [
    "#astroP.generate_corr_data(astroB_0)\n",
    "#astroP.generate_corr_data(astroB_3)\n",
    "#astroP.generate_corr_data_pair([astroB_0, astroB_3])"
   ]
  },
  {
   "cell_type": "code",
   "execution_count": null,
   "metadata": {
    "scrolled": true
   },
   "outputs": [],
   "source": [
    "astroP.plot_all_single(astroB_0)\n",
    "astroP.plot_all_single(astroB_3)\n",
    "#astroP.plot_comparisons([astroB_0, astroB_3])"
   ]
  },
  {
   "cell_type": "markdown",
   "metadata": {},
   "source": [
    "### Astro C"
   ]
  },
  {
   "cell_type": "code",
   "execution_count": null,
   "metadata": {
    "scrolled": true
   },
   "outputs": [],
   "source": [
    "base_path_c = '/Users/achilleasgeorgiou/Desktop/data_local/astro_only/m190129_d190226_cx/'\n",
    "\n",
    "astroC_0 = AstrocyteAnalyzer.AstrocyteAnalyzer(base_path_c, day=0, aqua_bound=True)\n",
    "astroC_2 = AstrocyteAnalyzer.AstrocyteAnalyzer(base_path_c, day=2, aqua_bound=True)"
   ]
  },
  {
   "cell_type": "code",
   "execution_count": null,
   "metadata": {},
   "outputs": [],
   "source": [
    "print(len(astroA_0.indices_d['stick_run_ind_15']))\n",
    "print(len(astroC_0.indices_d['stick_run_ind_15']))"
   ]
  },
  {
   "cell_type": "code",
   "execution_count": null,
   "metadata": {},
   "outputs": [],
   "source": [
    "len(astroA_0.indices_d['stick'])"
   ]
  },
  {
   "cell_type": "code",
   "execution_count": null,
   "metadata": {},
   "outputs": [],
   "source": [
    "len(astroC_0.indices_d['stick'])"
   ]
  },
  {
   "cell_type": "code",
   "execution_count": null,
   "metadata": {},
   "outputs": [],
   "source": [
    "np.mean(astroA_0.speed_values[astroA_0.speed_values!=0])\n",
    "np.mean(astroA_0.speed_values)"
   ]
  },
  {
   "cell_type": "code",
   "execution_count": null,
   "metadata": {},
   "outputs": [],
   "source": [
    "#astroP.generate_corr_data(astroC_0)\n",
    "#astroP.generate_corr_data(astroC_2)\n",
    "#astroP.generate_corr_data_pair([astroC_0, astroC_2])"
   ]
  },
  {
   "cell_type": "code",
   "execution_count": null,
   "metadata": {},
   "outputs": [],
   "source": [
    "astroP.plot_all_single(astroC_0)\n",
    "astroP.plot_all_single(astroC_2)\n",
    "#astroP.plot_comparisons([astroC_0, astroC_2])"
   ]
  },
  {
   "cell_type": "markdown",
   "metadata": {},
   "source": [
    "### Astro D_A"
   ]
  },
  {
   "cell_type": "code",
   "execution_count": null,
   "metadata": {},
   "outputs": [],
   "source": [
    "base_path_d_A = '/Users/achilleasgeorgiou/Desktop/data_local/astro_only/m2000219_d190411_c003/'\n",
    "\n",
    "astroD_A_0 = AstrocyteAnalyzer.AstrocyteAnalyzer(base_path_d_A, day=0, aqua_bound=True)\n",
    "astroD_A_1 = AstrocyteAnalyzer.AstrocyteAnalyzer(base_path_d_A, day=1, aqua_bound=True)"
   ]
  },
  {
   "cell_type": "code",
   "execution_count": null,
   "metadata": {},
   "outputs": [],
   "source": [
    "#astroP.generate_corr_data(astroD_A_0)\n",
    "#astroP.generate_corr_data(astroD_A_1)\n",
    "#astroP.generate_corr_data_pair([astroD_A_0, astroD_A_1])"
   ]
  },
  {
   "cell_type": "code",
   "execution_count": null,
   "metadata": {},
   "outputs": [],
   "source": [
    "astroP.plot_all_single(astroD_A_0)\n",
    "astroP.plot_all_single(astroD_A_1)\n",
    "#astroP.plot_comparisons([astroD_A_0, astroD_A_1])"
   ]
  },
  {
   "cell_type": "markdown",
   "metadata": {},
   "source": [
    "### Astro D_B"
   ]
  },
  {
   "cell_type": "code",
   "execution_count": null,
   "metadata": {
    "scrolled": true
   },
   "outputs": [],
   "source": [
    "base_path_d_B = '/Users/achilleasgeorgiou/Desktop/data_local/astro_only/m2000219_d190411_c004/'\n",
    "\n",
    "astroD_B_0 = AstrocyteAnalyzer.AstrocyteAnalyzer(base_path_d_B, day=0, aqua_bound=True)\n",
    "astroD_B_1 = AstrocyteAnalyzer.AstrocyteAnalyzer(base_path_d_B, day=1, aqua_bound=True)"
   ]
  },
  {
   "cell_type": "code",
   "execution_count": null,
   "metadata": {},
   "outputs": [],
   "source": [
    "#astroP.plot_all_single(astroD_B_0)\n",
    "#astroP.plot_all_single(astroD_B_1)\n",
    "#astroP.plot_comparisons([astroD_B_0, astroD_B_1])"
   ]
  },
  {
   "cell_type": "markdown",
   "metadata": {},
   "source": [
    "### Signals with stick running sample"
   ]
  },
  {
   "cell_type": "code",
   "execution_count": null,
   "metadata": {
    "scrolled": true
   },
   "outputs": [],
   "source": [
    "p = {'fit' : True, 'delay_step_size' : 1, 'confidence' : True}\n",
    "astroA_l = [astroA, astroB_0, astroB_3, astroC_0, astroC_2, astroD_A_0, astroD_A_1, astroD_B_0, astroD_B_1]\n",
    "\n",
    "sum_inds_filt = 0 \n",
    "inds_filt_arr = []\n",
    "sum_inds = 0\n",
    "sum_events = 0\n",
    "for astroX in astroA_l:\n",
    "    before_bh='rest_semi_exact'\n",
    "    inds_bh='running_exact_start'\n",
    "    after_bh='running_semi_exact'\n",
    "\n",
    "    '''\n",
    "    before_bh='running_semi_exact'\n",
    "    inds_bh='rest_start'\n",
    "    after_bh='rest_semi_exact'\n",
    "    '''\n",
    "\n",
    "    before_range, after_range = 30, 361\n",
    "    print('Before range: {}, After range: {}'.format(before_range, after_range))\n",
    "    inds = astroX.indices_d[inds_bh]\n",
    "\n",
    "    print('Num inds: {}'.format(len(inds)))\n",
    "    #Filter indices\n",
    "    indices_filt_before = aqua_utils.filter_range_inds(inds, astroX.indices_d[before_bh], range=(-before_range, -1), prop=1.0)\n",
    "    indices_filt_after = aqua_utils.filter_range_inds(inds, astroX.indices_d[after_bh], range=(1, after_range), prop=1.0)\n",
    "    indices_filt = np.array(np.sort(list(set(indices_filt_before) & set(indices_filt_after))))\n",
    "\n",
    "    print('Len indices {} len filt before {} len filt after {} len filt {}'.format(len(inds), len(indices_filt_before), len(indices_filt_after), len(indices_filt)))\n",
    "\n",
    "    #print('LEN INDICES FILT : {}'.format(len(indices_filt)))\n",
    "\n",
    "    delay_info_args = {'event_inds_subset' : astroX.event_subsets['default'],\n",
    "                   'min_delay' : -before_range,\n",
    "                   'max_delay' : after_range,\n",
    "                   'max_duration' : None,\n",
    "                   'unique_events' : False,\n",
    "                   'return_non_unique_delays_arr' : True\n",
    "                   }\n",
    "\n",
    "    _, _, _, signal_delays_l_l, peak_mins_l_l, valid_event_i_l_l = aqua_utils.get_delay_info_from_res(indices_filt, astroX.res_d, **delay_info_args)\n",
    "    \n",
    "    #print('EN SIGNAL DELAYS L L', len(signal_delays_l_l), 'LEN INDICES', len(indices_filt))\n",
    "\n",
    "    #print(signal_delays_l_l)\n",
    "    #break\n",
    "    total_events = np.sum([len(signal_delays_all_l) for signal_delays_all_l in signal_delays_l_l])\n",
    "    print('Total signals {} {}-{} delay {} {}'.format(total_events, before_bh, after_bh, before_range, after_range))\n",
    "    \n",
    "    sum_inds_filt += len(indices_filt)\n",
    "    sum_events += total_events\n",
    "    sum_inds += len(inds)\n",
    "    inds_filt_arr.append(len(indices_filt))\n",
    "    \n",
    "    print('INDICES FILT', indices_filt)\n",
    "print('Sum potential inds: {}, Sum inds_filt: {}, Sum events: {}'.format(sum_inds, sum_inds_filt, sum_events))\n",
    "print(inds_filt_arr)\n",
    "#Total signals 1164 rest_semi_exact-running_semi_exact delay 31 61\n",
    "#Sum inds: 796, Sum events: 4282\n",
    "\n",
    "\n",
    "#Sum inds: 801, Sum events: 3122\n",
    "\n",
    "\n",
    "#Run to rest : Sum potential inds: 801, Sum inds_filt: 177, Sum events: 3089\n",
    "#                 [27, 13, 22, 8, 17, 7, 39, 11, 33]\n",
    "                                      #[10015 17000 33164 36021 36512 38118 38889]\n",
    "#Rest to run : Sum potential inds: 796, Sum inds_filt: 226, Sum events: 4263\n",
    "#                [29, 19, 21, 10, 20, 11, 50, 18, 48]\n",
    "                                    #[ 3030  4614  9756 16723 19779 25706 32922 35776 36283 37880 38721]\n",
    "    \n",
    "    \n",
    "#    108"
   ]
  },
  {
   "cell_type": "code",
   "execution_count": null,
   "metadata": {},
   "outputs": [],
   "source": [
    "time_from = 11700\n",
    "time_to = 12000\n",
    "#Obtain stick signal\n",
    "\n",
    "stick_start_bin = np.zeros([len(astroA.stick_bin)])\n",
    "stick_start_bin[astroA.indices_d['stick_exact_start']] = 1\n",
    "\n",
    "stick_signal = stick_start_bin[time_from:time_to]\n",
    "#Obtain running signal\n",
    "running_signal = astroA.speed_values[time_from:time_to]\n",
    "\n",
    "fig_running = plotly_utils.plot_scatter_fmt(np.arange(len(running_signal)), running_signal, astype='float')\n",
    "fig_stick = plotly_utils.plot_scatter_fmt(np.arange(len(stick_signal)), stick_signal, astype='int')\n",
    "\n",
    "saving_utils.save_plotly_fig(fig_running, os.path.join(stick_run_sample_path, 'running'), width=1000, height=1000, font_size=None, save_multiple_formats=True)\n",
    "saving_utils.save_plotly_fig(fig_stick, os.path.join(stick_run_sample_path, 'stick'), width=1000, height=1000, font_size=None, save_multiple_formats=True)\n",
    "\n",
    "offline.iplot(fig_running)\n",
    "offline.iplot(fig_stick)\n",
    "\n",
    "#Obtain available events during this period\n",
    "interval_events = list(set(np.where(astroA.res_d['tBegin'] > time_from)[0]) & set(np.where(astroA.res_d['tEnd'] < time_to)[0]))\n",
    "\n",
    "for i, event_i in enumerate(interval_events[0:10]):\n",
    "    adj_from = int(time_from % astroA.input_shape[2])\n",
    "    adj_to = int(time_to % astroA.input_shape[2])\n",
    "    \n",
    "    if adj_to < adj_from:\n",
    "        print('Skipping: change time from to')\n",
    "        continue\n",
    "    \n",
    "    print('ADJ FROM {} ADJ TO {}'.format(adj_from, adj_to))\n",
    "    y = astroA.res_d['dff_only'][event_i][adj_from:adj_to]\n",
    "    x = np.arange(0, adj_to-adj_from)\n",
    "    \n",
    "    adj_begin = int(astroA.res_d['tBegin'][event_i] % astroA.input_shape[2]) - adj_from\n",
    "    adj_end = int(astroA.res_d['tEnd'][event_i] % astroA.input_shape[2]) - adj_from\n",
    "    \n",
    "    print(adj_begin, adj_end)\n",
    "    fig = plotly_utils.plot_scatter_signal(x, y, adj_begin, adj_end, mode='lines', title='scatter', x_title='', y_title='', with_legend=False)\n",
    "    saving_utils.save_plotly_fig(fig, os.path.join(stick_run_sample_path, 'event_{}'.format(i)))\n",
    "    offline.iplot(fig)"
   ]
  },
  {
   "cell_type": "code",
   "execution_count": null,
   "metadata": {},
   "outputs": [],
   "source": [
    "np.max(astroA.speed_values)"
   ]
  },
  {
   "cell_type": "code",
   "execution_count": null,
   "metadata": {
    "scrolled": false
   },
   "outputs": [],
   "source": []
  },
  {
   "cell_type": "code",
   "execution_count": null,
   "metadata": {},
   "outputs": [],
   "source": [
    "astroA"
   ]
  },
  {
   "cell_type": "code",
   "execution_count": null,
   "metadata": {},
   "outputs": [],
   "source": [
    "#Generate heatmap plot\n",
    "#Average event and df/f over 1 minute duration\n",
    "#Look for outliers (check on computer)\n",
    "\n",
    "#Examples where this isn't working\n",
    "#...\n",
    "#astroA bottom right is an artifact, remove\n",
    "#m2000219_d190411_c003 day 1 on the right artifact\n",
    "\n",
    "astroA."
   ]
  },
  {
   "cell_type": "code",
   "execution_count": null,
   "metadata": {},
   "outputs": [],
   "source": [
    "\n",
    "for i, ev in enumerate(np.argsort(astroB_0.res_d['area'])[::-1]):\n",
    "    if i == 2000:\n",
    "        break\n",
    "\n",
    "    print(astroB_0.res_d['tBegin'][ev] // 2726.0, astroB_0.res_d['tBegin'][ev] % 2726)\n",
    "    print(ev)\n",
    "    print('Max:', astroB_0.res_d['area'][ev])\n",
    "print(np.argmax(astroB_0.res_d['area']))\n",
    "\n",
    "print(len(astroB_0.res_d['area']))"
   ]
  },
  {
   "cell_type": "code",
   "execution_count": null,
   "metadata": {},
   "outputs": [],
   "source": [
    "dff_grid = aqua_utils.get_dff_grid_from_x2D(astroA.res_d['x2D'], astroA.res_d['dff_only'], [astroA.input_shape[0], astroA.input_shape[1]])\n",
    "dff_grid[149:172, 467:483] = 0\n",
    "offline.iplot(plotly_utils.plot_contour(dff_grid))\n",
    "#149, 467: 172,483\n",
    "astroA.id"
   ]
  },
  {
   "cell_type": "code",
   "execution_count": null,
   "metadata": {},
   "outputs": [],
   "source": [
    "print(astroD_A_1.id)\n",
    "\n",
    "dff_grid = aqua_utils.get_dff_grid_from_x2D(astroD_A_1.res_d['x2D'], astroD_A_1.res_d['dff_only'], [astroD_A_1.input_shape[0], astroD_A_1.input_shape[1]])\n",
    "dff_grid[234:260, 480:496] = 0\n",
    "#dff_grid = np.log2(dff_grid + 0.001) / np.log2(np.max(dff_grid))\n",
    "#dff_grid[dff_grid == (np.log2(0.001) / np.log2(np.max(dff_grid)))] = 0\n",
    "#dff_grid = np.interp(dff_grid,[0, np.max(dff_grid)],[0,10])\n",
    "offline.iplot(plotly_utils.plot_contour(dff_grid))\n",
    "\n",
    "#m2000219_d190411_c003 day 1 on the right artifact"
   ]
  },
  {
   "cell_type": "code",
   "execution_count": null,
   "metadata": {},
   "outputs": [],
   "source": [
    "dff_grid_B_0 = aqua_utils.get_dff_grid_from_x2D(astroB_0.res_d['x2D'], astroB_0.res_d['dff_only'], [astroB_0.input_shape[0], astroB_0.input_shape[1]])\n",
    "dff_grid_B_3 = aqua_utils.get_dff_grid_from_x2D(astroB_3.res_d['x2D'], astroB_3.res_d['dff_only'], [astroB_3.input_shape[0], astroB_3.input_shape[1]])"
   ]
  },
  {
   "cell_type": "code",
   "execution_count": null,
   "metadata": {},
   "outputs": [],
   "source": [
    "i = 21\n",
    "astro = astroB_3\n",
    "#Find rest - run -stick transition points\n",
    "possible_spots_0 = list(np.sort(list(set(astro.indices_d['stick_exact_start']) & set(astro.indices_d['running_exact']))))\n",
    "print(possible_spots_0)\n",
    "\n",
    "time_from = possible_spots_0[i] - 500\n",
    "time_to = possible_spots_0[i] + 500\n",
    "\n",
    "stick_start_bin = np.zeros([len(astro.stick_bin)])\n",
    "stick_start_bin[astro.indices_d['stick_exact_start']] = 1\n",
    "\n",
    "stick_signal = stick_start_bin[time_from:time_to]\n",
    "#Obtain running signal\n",
    "running_signal = astro.speed_values[time_from:time_to]\n",
    "\n",
    "fig_running = plotly_utils.plot_scatter_fmt(np.arange(len(running_signal)), running_signal, astype='float')\n",
    "fig_stick = plotly_utils.plot_scatter_fmt(np.arange(len(stick_signal)), stick_signal, astype='int')\n",
    "\n",
    "print(possible_spots_0[i])\n",
    "print(possible_spots_0[i] // 2726 + 1, possible_spots_0[i] % 2726)\n",
    "offline.iplot(fig_running)\n",
    "offline.iplot(fig_stick)"
   ]
  },
  {
   "cell_type": "code",
   "execution_count": null,
   "metadata": {},
   "outputs": [],
   "source": [
    "possible_spots_3 = list(np.sort(list(set(astroB_3.indices_d['stick_exact_start']) & set(astroB_3.indices_d['running_exact']))))\n"
   ]
  }
 ],
 "metadata": {
  "kernelspec": {
   "display_name": "Python 3",
   "language": "python",
   "name": "python3"
  },
  "language_info": {
   "codemirror_mode": {
    "name": "ipython",
    "version": 3
   },
   "file_extension": ".py",
   "mimetype": "text/x-python",
   "name": "python",
   "nbconvert_exporter": "python",
   "pygments_lexer": "ipython3",
   "version": "3.7.0"
  }
 },
 "nbformat": 4,
 "nbformat_minor": 2
}
