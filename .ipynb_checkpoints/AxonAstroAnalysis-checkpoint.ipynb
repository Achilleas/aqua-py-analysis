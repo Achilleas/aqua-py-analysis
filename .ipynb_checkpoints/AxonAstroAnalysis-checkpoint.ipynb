{
 "cells": [
  {
   "cell_type": "code",
   "execution_count": 4,
   "metadata": {
    "scrolled": true
   },
   "outputs": [],
   "source": [
    "from analysis import AxonAstroAnalyzer, AxonAstroPlotter\n",
    "from importlib import reload\n",
    "AxonAstroAnalyzer = reload(AxonAstroAnalyzer)\n",
    "AxonAstroPlotter = reload(AxonAstroPlotter)\n",
    "import numpy as np\n",
    "import os, sys, glob\n",
    "import plotly.offline as offline"
   ]
  },
  {
   "cell_type": "code",
   "execution_count": null,
   "metadata": {},
   "outputs": [],
   "source": [
    "output_folder = '/Users/achilleasgeorgiou/Desktop/data_output'\n",
    "AA_plotter = AxonAstroPlotter.AxonAstroPlotter(output_folder)"
   ]
  },
  {
   "cell_type": "code",
   "execution_count": null,
   "metadata": {},
   "outputs": [],
   "source": [
    "AA_plotter.plot_all_mult([AA1, AA2, AA3])"
   ]
  },
  {
   "cell_type": "code",
   "execution_count": null,
   "metadata": {
    "scrolled": false
   },
   "outputs": [],
   "source": [
    "base_path = '/Users/achilleasgeorgiou/Desktop/data_local/astro_axon/180912_003/'\n",
    "day = '0'\n",
    "num_axons=3\n",
    "num_astro_far=3\n",
    "AA1 = AxonAstroAnalyzer.AxonAstroAnalyzer(base_path, day, num_axons=num_axons, num_astro_far=num_astro_far)"
   ]
  },
  {
   "cell_type": "code",
   "execution_count": null,
   "metadata": {
    "scrolled": false
   },
   "outputs": [],
   "source": [
    "AA_plotter.plot_all_single(AA1)"
   ]
  },
  {
   "cell_type": "code",
   "execution_count": null,
   "metadata": {},
   "outputs": [],
   "source": [
    "base_path = '/Users/achilleasgeorgiou/Desktop/data_local/astro_axon/181012_002/'\n",
    "day = '0'\n",
    "num_axons=2\n",
    "num_astro_far=2\n",
    "AA2 = AxonAstroAnalyzer.AxonAstroAnalyzer(base_path, day, num_axons=num_axons, num_astro_far=num_astro_far)"
   ]
  },
  {
   "cell_type": "code",
   "execution_count": null,
   "metadata": {},
   "outputs": [],
   "source": [
    "AA_plotter.plot_all_single(AA2)"
   ]
  },
  {
   "cell_type": "code",
   "execution_count": null,
   "metadata": {
    "scrolled": false
   },
   "outputs": [],
   "source": [
    "base_path = '/Users/achilleasgeorgiou/Desktop/data_local/astro_axon/181022_003/'\n",
    "day = '0'\n",
    "num_axons=3\n",
    "num_astro_far=2\n",
    "AA3 = AxonAstroAnalyzer.AxonAstroAnalyzer(base_path, day, num_axons=num_axons, num_astro_far=num_astro_far)"
   ]
  },
  {
   "cell_type": "code",
   "execution_count": null,
   "metadata": {},
   "outputs": [],
   "source": [
    "AA_plotter.plot_all_single(AA3)"
   ]
  },
  {
   "cell_type": "markdown",
   "metadata": {
    "heading_collapsed": true
   },
   "source": [
    "### Axon signals after stick run (Dont delete) "
   ]
  },
  {
   "cell_type": "code",
   "execution_count": null,
   "metadata": {
    "hidden": true
   },
   "outputs": [],
   "source": [
    "time_from = 43050\n",
    "time_to = 43250\n",
    "\n",
    "#Obtain stick signal\n",
    "stick_start_bin = np.zeros([len(AA2.stick_bin)])\n",
    "stick_start_bin[AA2.indices_d['stick_exact_start']] = 1\n",
    "stick_signal = stick_start_bin[time_from:time_to]\n",
    "\n",
    "#Obtain running signal\n",
    "running_signal = AA2.speed_values[time_from:time_to]\n",
    "print('???', len(AA2.speed_values))\n",
    "\n",
    "print(np.where(stick_start_bin != 0))\n",
    "\n",
    "fig_running = plotly_utils.plot_scatter_fmt(np.arange(len(running_signal)), running_signal, astype='float', straight_lines_only=True)\n",
    "fig_stick = plotly_utils.plot_scatter_fmt(np.arange(len(stick_signal)), stick_signal, astype='int', straight_lines_only=True)\n",
    "\n",
    "offline.iplot(fig_running)\n",
    "offline.iplot(fig_stick)"
   ]
  },
  {
   "cell_type": "code",
   "execution_count": null,
   "metadata": {
    "hidden": true
   },
   "outputs": [],
   "source": [
    "AA_l = [AA1, AA1, AA2, AA2, AA2, AA2]\n",
    "times = [[15250, 15400], [11100, 11300], [33400, 33500], [36700, 36900], [37700, 37900], [43050, 43250]]\n",
    "\n",
    "for AA_i, AA in enumerate(AA_l):\n",
    "        time_from, time_to = times[AA_i][0], times[AA_i][1]\n",
    "        \n",
    "        output_experiment_path = AA_plotter.get_output_experiment_path(AA)\n",
    "        plot_path = os.path.join(output_experiment_path, 'plots', 'axon_signal_stick_run_samples_{}'.format(AA_i))\n",
    "\n",
    "        try:\n",
    "            os.makedirs(plot_path)\n",
    "        except:\n",
    "            pass\n",
    "\n",
    "        #Obtain stick signal\n",
    "        stick_start_bin = np.zeros([len(AA.stick_bin)])\n",
    "        stick_start_bin[AA.indices_d['stick_exact_start']] = 1\n",
    "        stick_signal = stick_start_bin[time_from:time_to]\n",
    "\n",
    "        #Obtain running signal\n",
    "        running_signal = AA.speed_values[time_from:time_to]\n",
    "        \n",
    "        fig_running = plotly_utils.plot_scatter_fmt(np.arange(len(running_signal)), running_signal, astype='float', straight_lines_only=True)\n",
    "        fig_stick = plotly_utils.plot_scatter_fmt(np.arange(len(stick_signal)), stick_signal, astype='int', straight_lines_only=True)\n",
    "\n",
    "        offline.iplot(fig_running)\n",
    "        offline.iplot(fig_stick)\n",
    "    \n",
    "\n",
    "        saving_utils.save_plotly_fig(fig_running, os.path.join(plot_path, 'running'), width=1000, height=1000, font_size=None, save_multiple_formats=True)\n",
    "        saving_utils.save_plotly_fig(fig_stick, os.path.join(plot_path, 'stick'), width=1000, height=1000, font_size=None, save_multiple_formats=True)\n",
    "\n",
    "        #Obtain available axon events during this period\n",
    "        for k in AA.events_contained['default']:\n",
    "            if k not in ['cell_bound', 'axons', 'all']:\n",
    "                area_events = np.array(AA.events_contained['default'][k])\n",
    "                area_times = np.array(AA.times_contained['default'][k])\n",
    "\n",
    "                area_start_times = np.array([area_time[0] for area_time in area_times])\n",
    "                area_end_times = np.array([area_time[1] for area_time in area_times])\n",
    "                \n",
    "                area_events_i = np.array(list(set(np.where(area_start_times > time_from)[0]) & set(np.where(area_end_times < time_to)[0])))\n",
    "                \n",
    "                if len(area_events_i) == 0:\n",
    "                    continue\n",
    "                area_interval_events = area_events[np.array(list(set(np.where(area_start_times > time_from)[0]) & set(np.where(area_end_times < time_to)[0])))]\n",
    "\n",
    "                print(len(area_interval_events))\n",
    "                for i, event_i in enumerate(area_interval_events[:min(len(area_interval_events), 30)]):\n",
    "                    print(event_i)\n",
    "                    print('TIME FROM: {} TO: {}'.format(time_from, time_to))\n",
    "                    print('EVENT FROM: {} TO: {}'.format(AA.res_d['tBegin'][event_i], AA.res_d['tEnd'][event_i]))\n",
    "\n",
    "                    adj_from = int(time_from % AA.input_shape[2])\n",
    "                    adj_to = int(time_to % AA.input_shape[2])\n",
    "\n",
    "                    if adj_to < adj_from:\n",
    "                        print('Skipping: change time from to')\n",
    "                        continue\n",
    "\n",
    "                    #print('ADJ FROM {} ADJ TO {}'.format(adj_from, adj_to))\n",
    "                    y = AA.res_d['dff_only'][event_i][adj_from:adj_to]\n",
    "                    x = np.arange(0, adj_to-adj_from)\n",
    "\n",
    "                    adj_begin = int(AA.res_d['tBegin'][event_i] % AA.input_shape[2]) - adj_from\n",
    "                    adj_end = int(AA.res_d['tEnd'][event_i] % AA.input_shape[2]) - adj_from\n",
    "\n",
    "                    #print('LEN X', len(x))\n",
    "                    #print('ADJ BEGIN', adj_begin)\n",
    "                    #print('ADJ END', adj_end)\n",
    "\n",
    "                    print(adj_begin, adj_end)\n",
    "                    fig = plotly_utils.plot_scatter_signal(x, y, adj_begin, adj_end, mode='lines', title='scatter', x_title='', y_title='', with_legend=False)\n",
    "                    saving_utils.save_plotly_fig(fig, os.path.join(plot_path, '{}-{}'.format(k, i)))\n",
    "                    #offline.iplot(fig)\n"
   ]
  }
 ],
 "metadata": {
  "kernelspec": {
   "display_name": "Python 3",
   "language": "python",
   "name": "python3"
  },
  "language_info": {
   "codemirror_mode": {
    "name": "ipython",
    "version": 3
   },
   "file_extension": ".py",
   "mimetype": "text/x-python",
   "name": "python",
   "nbconvert_exporter": "python",
   "pygments_lexer": "ipython3",
   "version": "3.7.0"
  }
 },
 "nbformat": 4,
 "nbformat_minor": 2
}
