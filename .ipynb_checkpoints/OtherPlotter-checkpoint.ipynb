{
 "cells": [
  {
   "cell_type": "code",
   "execution_count": 1,
   "metadata": {},
   "outputs": [],
   "source": [
    "import numpy as np\n",
    "from importlib import reload  # Python 3.4+ only.\n",
    "import h5py\n",
    "import os, sys, glob\n",
    "import plotly.offline as offline\n",
    "from preprocessing import analysis_pp\n",
    "from analysis.general_utils import aqua_utils, saving_utils, plotly_utils, general_utils, compare_astro_utils, correlation_utils, duration_utils, stat_utils\n",
    "import csv\n",
    "import scipy\n",
    "import scipy.stats\n",
    "from scipy.stats.stats import power_divergence\n",
    "from scipy.stats import ttest_ind_from_stats\n",
    "\n",
    "#Use this if you want to view multiple Figures in one cell output\n",
    "#offline.init_notebook_mode(connected=True)\n",
    "#offline.iplot(figure)\n",
    "\n",
    "analysis_pp = reload(analysis_pp)\n",
    "aqua_utils = reload(aqua_utils)\n",
    "plotly_utils = reload(plotly_utils)\n",
    "saving_utils = reload(saving_utils)\n",
    "duration_utils = reload(duration_utils)\n",
    "compare_astro_utils = reload(compare_astro_utils)\n",
    "correlation_utils = reload(correlation_utils)\n",
    "stat_utils = reload(stat_utils)"
   ]
  },
  {
   "cell_type": "code",
   "execution_count": 2,
   "metadata": {},
   "outputs": [
    {
     "name": "stdout",
     "output_type": "stream",
     "text": [
      "a [100   1   1   1]\n",
      "b [100   1   1   1]\n",
      "mean_a 25.75\n",
      "mean_b 25.75\n",
      "std_a 42.868257487329714\n",
      "std_b 42.868257487329714\n",
      "top_a [ 74.25 -24.75 -24.75 -24.75]\n",
      "top_b [ 74.25 -24.75 -24.75 -24.75]\n",
      "top [-1837.6875 -1225.125   -612.5625  7350.75    -612.5625 -1225.125\n",
      " -1837.6875]\n",
      "bottom 7350.75\n",
      "Corr = top/bottom = [-0.25       -0.16666667 -0.08333333  1.         -0.08333333 -0.16666667\n",
      " -0.25      ]\n"
     ]
    }
   ],
   "source": [
    "import scipy.signal as ss\n",
    "import numpy as np\n",
    "d = {}\n",
    "d['a'] = np.array([100, 1, 1, 1])\n",
    "d['b'] = np.array([100, 1, 1, 1])\n",
    "\n",
    "d['mean_a'] = np.mean(d['a'])\n",
    "d['mean_b'] = np.mean(d['b'])\n",
    "\n",
    "d['std_a'] = np.std(d['a'])\n",
    "d['std_b'] = np.std(d['b'])\n",
    "\n",
    "d['top_a'] = d['a'] - d['mean_a']\n",
    "d['top_b'] = d['b'] - d['mean_b']\n",
    "\n",
    "d['top'] = ss.correlate(d['top_a'], d['top_b'])\n",
    "d['bottom'] = d['std_a']*d['std_b']*len(d['a'])\n",
    "\n",
    "\n",
    "for k in d.keys():\n",
    "    print(k, d[k])\n",
    "\n",
    "print('Corr = top/bottom = {}'.format(d['top']/ d['bottom']))"
   ]
  },
  {
   "cell_type": "code",
   "execution_count": 5,
   "metadata": {},
   "outputs": [
    {
     "data": {
      "application/vnd.plotly.v1+json": {
       "config": {
        "plotlyServerURL": "https://plot.ly"
       },
       "data": [
        {
         "type": "bar",
         "y": [
          2,
          3,
          1
         ]
        }
       ],
       "layout": {
        "template": {
         "data": {
          "bar": [
           {
            "error_x": {
             "color": "#2a3f5f"
            },
            "error_y": {
             "color": "#2a3f5f"
            },
            "marker": {
             "line": {
              "color": "#E5ECF6",
              "width": 0.5
             }
            },
            "type": "bar"
           }
          ],
          "barpolar": [
           {
            "marker": {
             "line": {
              "color": "#E5ECF6",
              "width": 0.5
             }
            },
            "type": "barpolar"
           }
          ],
          "carpet": [
           {
            "aaxis": {
             "endlinecolor": "#2a3f5f",
             "gridcolor": "white",
             "linecolor": "white",
             "minorgridcolor": "white",
             "startlinecolor": "#2a3f5f"
            },
            "baxis": {
             "endlinecolor": "#2a3f5f",
             "gridcolor": "white",
             "linecolor": "white",
             "minorgridcolor": "white",
             "startlinecolor": "#2a3f5f"
            },
            "type": "carpet"
           }
          ],
          "choropleth": [
           {
            "colorbar": {
             "outlinewidth": 0,
             "ticks": ""
            },
            "type": "choropleth"
           }
          ],
          "contour": [
           {
            "colorbar": {
             "outlinewidth": 0,
             "ticks": ""
            },
            "colorscale": [
             [
              0,
              "#0d0887"
             ],
             [
              0.1111111111111111,
              "#46039f"
             ],
             [
              0.2222222222222222,
              "#7201a8"
             ],
             [
              0.3333333333333333,
              "#9c179e"
             ],
             [
              0.4444444444444444,
              "#bd3786"
             ],
             [
              0.5555555555555556,
              "#d8576b"
             ],
             [
              0.6666666666666666,
              "#ed7953"
             ],
             [
              0.7777777777777778,
              "#fb9f3a"
             ],
             [
              0.8888888888888888,
              "#fdca26"
             ],
             [
              1,
              "#f0f921"
             ]
            ],
            "type": "contour"
           }
          ],
          "contourcarpet": [
           {
            "colorbar": {
             "outlinewidth": 0,
             "ticks": ""
            },
            "type": "contourcarpet"
           }
          ],
          "heatmap": [
           {
            "colorbar": {
             "outlinewidth": 0,
             "ticks": ""
            },
            "colorscale": [
             [
              0,
              "#0d0887"
             ],
             [
              0.1111111111111111,
              "#46039f"
             ],
             [
              0.2222222222222222,
              "#7201a8"
             ],
             [
              0.3333333333333333,
              "#9c179e"
             ],
             [
              0.4444444444444444,
              "#bd3786"
             ],
             [
              0.5555555555555556,
              "#d8576b"
             ],
             [
              0.6666666666666666,
              "#ed7953"
             ],
             [
              0.7777777777777778,
              "#fb9f3a"
             ],
             [
              0.8888888888888888,
              "#fdca26"
             ],
             [
              1,
              "#f0f921"
             ]
            ],
            "type": "heatmap"
           }
          ],
          "heatmapgl": [
           {
            "colorbar": {
             "outlinewidth": 0,
             "ticks": ""
            },
            "colorscale": [
             [
              0,
              "#0d0887"
             ],
             [
              0.1111111111111111,
              "#46039f"
             ],
             [
              0.2222222222222222,
              "#7201a8"
             ],
             [
              0.3333333333333333,
              "#9c179e"
             ],
             [
              0.4444444444444444,
              "#bd3786"
             ],
             [
              0.5555555555555556,
              "#d8576b"
             ],
             [
              0.6666666666666666,
              "#ed7953"
             ],
             [
              0.7777777777777778,
              "#fb9f3a"
             ],
             [
              0.8888888888888888,
              "#fdca26"
             ],
             [
              1,
              "#f0f921"
             ]
            ],
            "type": "heatmapgl"
           }
          ],
          "histogram": [
           {
            "marker": {
             "colorbar": {
              "outlinewidth": 0,
              "ticks": ""
             }
            },
            "type": "histogram"
           }
          ],
          "histogram2d": [
           {
            "colorbar": {
             "outlinewidth": 0,
             "ticks": ""
            },
            "colorscale": [
             [
              0,
              "#0d0887"
             ],
             [
              0.1111111111111111,
              "#46039f"
             ],
             [
              0.2222222222222222,
              "#7201a8"
             ],
             [
              0.3333333333333333,
              "#9c179e"
             ],
             [
              0.4444444444444444,
              "#bd3786"
             ],
             [
              0.5555555555555556,
              "#d8576b"
             ],
             [
              0.6666666666666666,
              "#ed7953"
             ],
             [
              0.7777777777777778,
              "#fb9f3a"
             ],
             [
              0.8888888888888888,
              "#fdca26"
             ],
             [
              1,
              "#f0f921"
             ]
            ],
            "type": "histogram2d"
           }
          ],
          "histogram2dcontour": [
           {
            "colorbar": {
             "outlinewidth": 0,
             "ticks": ""
            },
            "colorscale": [
             [
              0,
              "#0d0887"
             ],
             [
              0.1111111111111111,
              "#46039f"
             ],
             [
              0.2222222222222222,
              "#7201a8"
             ],
             [
              0.3333333333333333,
              "#9c179e"
             ],
             [
              0.4444444444444444,
              "#bd3786"
             ],
             [
              0.5555555555555556,
              "#d8576b"
             ],
             [
              0.6666666666666666,
              "#ed7953"
             ],
             [
              0.7777777777777778,
              "#fb9f3a"
             ],
             [
              0.8888888888888888,
              "#fdca26"
             ],
             [
              1,
              "#f0f921"
             ]
            ],
            "type": "histogram2dcontour"
           }
          ],
          "mesh3d": [
           {
            "colorbar": {
             "outlinewidth": 0,
             "ticks": ""
            },
            "type": "mesh3d"
           }
          ],
          "parcoords": [
           {
            "line": {
             "colorbar": {
              "outlinewidth": 0,
              "ticks": ""
             }
            },
            "type": "parcoords"
           }
          ],
          "pie": [
           {
            "automargin": true,
            "type": "pie"
           }
          ],
          "scatter": [
           {
            "marker": {
             "colorbar": {
              "outlinewidth": 0,
              "ticks": ""
             }
            },
            "type": "scatter"
           }
          ],
          "scatter3d": [
           {
            "line": {
             "colorbar": {
              "outlinewidth": 0,
              "ticks": ""
             }
            },
            "marker": {
             "colorbar": {
              "outlinewidth": 0,
              "ticks": ""
             }
            },
            "type": "scatter3d"
           }
          ],
          "scattercarpet": [
           {
            "marker": {
             "colorbar": {
              "outlinewidth": 0,
              "ticks": ""
             }
            },
            "type": "scattercarpet"
           }
          ],
          "scattergeo": [
           {
            "marker": {
             "colorbar": {
              "outlinewidth": 0,
              "ticks": ""
             }
            },
            "type": "scattergeo"
           }
          ],
          "scattergl": [
           {
            "marker": {
             "colorbar": {
              "outlinewidth": 0,
              "ticks": ""
             }
            },
            "type": "scattergl"
           }
          ],
          "scattermapbox": [
           {
            "marker": {
             "colorbar": {
              "outlinewidth": 0,
              "ticks": ""
             }
            },
            "type": "scattermapbox"
           }
          ],
          "scatterpolar": [
           {
            "marker": {
             "colorbar": {
              "outlinewidth": 0,
              "ticks": ""
             }
            },
            "type": "scatterpolar"
           }
          ],
          "scatterpolargl": [
           {
            "marker": {
             "colorbar": {
              "outlinewidth": 0,
              "ticks": ""
             }
            },
            "type": "scatterpolargl"
           }
          ],
          "scatterternary": [
           {
            "marker": {
             "colorbar": {
              "outlinewidth": 0,
              "ticks": ""
             }
            },
            "type": "scatterternary"
           }
          ],
          "surface": [
           {
            "colorbar": {
             "outlinewidth": 0,
             "ticks": ""
            },
            "colorscale": [
             [
              0,
              "#0d0887"
             ],
             [
              0.1111111111111111,
              "#46039f"
             ],
             [
              0.2222222222222222,
              "#7201a8"
             ],
             [
              0.3333333333333333,
              "#9c179e"
             ],
             [
              0.4444444444444444,
              "#bd3786"
             ],
             [
              0.5555555555555556,
              "#d8576b"
             ],
             [
              0.6666666666666666,
              "#ed7953"
             ],
             [
              0.7777777777777778,
              "#fb9f3a"
             ],
             [
              0.8888888888888888,
              "#fdca26"
             ],
             [
              1,
              "#f0f921"
             ]
            ],
            "type": "surface"
           }
          ],
          "table": [
           {
            "cells": {
             "fill": {
              "color": "#EBF0F8"
             },
             "line": {
              "color": "white"
             }
            },
            "header": {
             "fill": {
              "color": "#C8D4E3"
             },
             "line": {
              "color": "white"
             }
            },
            "type": "table"
           }
          ]
         },
         "layout": {
          "annotationdefaults": {
           "arrowcolor": "#2a3f5f",
           "arrowhead": 0,
           "arrowwidth": 1
          },
          "coloraxis": {
           "colorbar": {
            "outlinewidth": 0,
            "ticks": ""
           }
          },
          "colorscale": {
           "diverging": [
            [
             0,
             "#8e0152"
            ],
            [
             0.1,
             "#c51b7d"
            ],
            [
             0.2,
             "#de77ae"
            ],
            [
             0.3,
             "#f1b6da"
            ],
            [
             0.4,
             "#fde0ef"
            ],
            [
             0.5,
             "#f7f7f7"
            ],
            [
             0.6,
             "#e6f5d0"
            ],
            [
             0.7,
             "#b8e186"
            ],
            [
             0.8,
             "#7fbc41"
            ],
            [
             0.9,
             "#4d9221"
            ],
            [
             1,
             "#276419"
            ]
           ],
           "sequential": [
            [
             0,
             "#0d0887"
            ],
            [
             0.1111111111111111,
             "#46039f"
            ],
            [
             0.2222222222222222,
             "#7201a8"
            ],
            [
             0.3333333333333333,
             "#9c179e"
            ],
            [
             0.4444444444444444,
             "#bd3786"
            ],
            [
             0.5555555555555556,
             "#d8576b"
            ],
            [
             0.6666666666666666,
             "#ed7953"
            ],
            [
             0.7777777777777778,
             "#fb9f3a"
            ],
            [
             0.8888888888888888,
             "#fdca26"
            ],
            [
             1,
             "#f0f921"
            ]
           ],
           "sequentialminus": [
            [
             0,
             "#0d0887"
            ],
            [
             0.1111111111111111,
             "#46039f"
            ],
            [
             0.2222222222222222,
             "#7201a8"
            ],
            [
             0.3333333333333333,
             "#9c179e"
            ],
            [
             0.4444444444444444,
             "#bd3786"
            ],
            [
             0.5555555555555556,
             "#d8576b"
            ],
            [
             0.6666666666666666,
             "#ed7953"
            ],
            [
             0.7777777777777778,
             "#fb9f3a"
            ],
            [
             0.8888888888888888,
             "#fdca26"
            ],
            [
             1,
             "#f0f921"
            ]
           ]
          },
          "colorway": [
           "#636efa",
           "#EF553B",
           "#00cc96",
           "#ab63fa",
           "#FFA15A",
           "#19d3f3",
           "#FF6692",
           "#B6E880",
           "#FF97FF",
           "#FECB52"
          ],
          "font": {
           "color": "#2a3f5f"
          },
          "geo": {
           "bgcolor": "white",
           "lakecolor": "white",
           "landcolor": "#E5ECF6",
           "showlakes": true,
           "showland": true,
           "subunitcolor": "white"
          },
          "hoverlabel": {
           "align": "left"
          },
          "hovermode": "closest",
          "mapbox": {
           "style": "light"
          },
          "paper_bgcolor": "white",
          "plot_bgcolor": "#E5ECF6",
          "polar": {
           "angularaxis": {
            "gridcolor": "white",
            "linecolor": "white",
            "ticks": ""
           },
           "bgcolor": "#E5ECF6",
           "radialaxis": {
            "gridcolor": "white",
            "linecolor": "white",
            "ticks": ""
           }
          },
          "scene": {
           "xaxis": {
            "backgroundcolor": "#E5ECF6",
            "gridcolor": "white",
            "gridwidth": 2,
            "linecolor": "white",
            "showbackground": true,
            "ticks": "",
            "zerolinecolor": "white"
           },
           "yaxis": {
            "backgroundcolor": "#E5ECF6",
            "gridcolor": "white",
            "gridwidth": 2,
            "linecolor": "white",
            "showbackground": true,
            "ticks": "",
            "zerolinecolor": "white"
           },
           "zaxis": {
            "backgroundcolor": "#E5ECF6",
            "gridcolor": "white",
            "gridwidth": 2,
            "linecolor": "white",
            "showbackground": true,
            "ticks": "",
            "zerolinecolor": "white"
           }
          },
          "shapedefaults": {
           "line": {
            "color": "#2a3f5f"
           }
          },
          "ternary": {
           "aaxis": {
            "gridcolor": "white",
            "linecolor": "white",
            "ticks": ""
           },
           "baxis": {
            "gridcolor": "white",
            "linecolor": "white",
            "ticks": ""
           },
           "bgcolor": "#E5ECF6",
           "caxis": {
            "gridcolor": "white",
            "linecolor": "white",
            "ticks": ""
           }
          },
          "title": {
           "x": 0.05
          },
          "xaxis": {
           "automargin": true,
           "gridcolor": "white",
           "linecolor": "white",
           "ticks": "",
           "title": {
            "standoff": 15
           },
           "zerolinecolor": "white",
           "zerolinewidth": 2
          },
          "yaxis": {
           "automargin": true,
           "gridcolor": "white",
           "linecolor": "white",
           "ticks": "",
           "title": {
            "standoff": 15
           },
           "zerolinecolor": "white",
           "zerolinewidth": 2
          }
         }
        }
       }
      },
      "text/html": [
       "<div>\n",
       "        \n",
       "        \n",
       "            <div id=\"dab0efae-2c8d-457f-9f34-af6664171904\" class=\"plotly-graph-div\" style=\"height:525px; width:100%;\"></div>\n",
       "            <script type=\"text/javascript\">\n",
       "                require([\"plotly\"], function(Plotly) {\n",
       "                    window.PLOTLYENV=window.PLOTLYENV || {};\n",
       "                    \n",
       "                if (document.getElementById(\"dab0efae-2c8d-457f-9f34-af6664171904\")) {\n",
       "                    Plotly.newPlot(\n",
       "                        'dab0efae-2c8d-457f-9f34-af6664171904',\n",
       "                        [{\"type\": \"bar\", \"y\": [2, 3, 1]}],\n",
       "                        {\"template\": {\"data\": {\"bar\": [{\"error_x\": {\"color\": \"#2a3f5f\"}, \"error_y\": {\"color\": \"#2a3f5f\"}, \"marker\": {\"line\": {\"color\": \"#E5ECF6\", \"width\": 0.5}}, \"type\": \"bar\"}], \"barpolar\": [{\"marker\": {\"line\": {\"color\": \"#E5ECF6\", \"width\": 0.5}}, \"type\": \"barpolar\"}], \"carpet\": [{\"aaxis\": {\"endlinecolor\": \"#2a3f5f\", \"gridcolor\": \"white\", \"linecolor\": \"white\", \"minorgridcolor\": \"white\", \"startlinecolor\": \"#2a3f5f\"}, \"baxis\": {\"endlinecolor\": \"#2a3f5f\", \"gridcolor\": \"white\", \"linecolor\": \"white\", \"minorgridcolor\": \"white\", \"startlinecolor\": \"#2a3f5f\"}, \"type\": \"carpet\"}], \"choropleth\": [{\"colorbar\": {\"outlinewidth\": 0, \"ticks\": \"\"}, \"type\": \"choropleth\"}], \"contour\": [{\"colorbar\": {\"outlinewidth\": 0, \"ticks\": \"\"}, \"colorscale\": [[0.0, \"#0d0887\"], [0.1111111111111111, \"#46039f\"], [0.2222222222222222, \"#7201a8\"], [0.3333333333333333, \"#9c179e\"], [0.4444444444444444, \"#bd3786\"], [0.5555555555555556, \"#d8576b\"], [0.6666666666666666, \"#ed7953\"], [0.7777777777777778, \"#fb9f3a\"], [0.8888888888888888, \"#fdca26\"], [1.0, \"#f0f921\"]], \"type\": \"contour\"}], \"contourcarpet\": [{\"colorbar\": {\"outlinewidth\": 0, \"ticks\": \"\"}, \"type\": \"contourcarpet\"}], \"heatmap\": [{\"colorbar\": {\"outlinewidth\": 0, \"ticks\": \"\"}, \"colorscale\": [[0.0, \"#0d0887\"], [0.1111111111111111, \"#46039f\"], [0.2222222222222222, \"#7201a8\"], [0.3333333333333333, \"#9c179e\"], [0.4444444444444444, \"#bd3786\"], [0.5555555555555556, \"#d8576b\"], [0.6666666666666666, \"#ed7953\"], [0.7777777777777778, \"#fb9f3a\"], [0.8888888888888888, \"#fdca26\"], [1.0, \"#f0f921\"]], \"type\": \"heatmap\"}], \"heatmapgl\": [{\"colorbar\": {\"outlinewidth\": 0, \"ticks\": \"\"}, \"colorscale\": [[0.0, \"#0d0887\"], [0.1111111111111111, \"#46039f\"], [0.2222222222222222, \"#7201a8\"], [0.3333333333333333, \"#9c179e\"], [0.4444444444444444, \"#bd3786\"], [0.5555555555555556, \"#d8576b\"], [0.6666666666666666, \"#ed7953\"], [0.7777777777777778, \"#fb9f3a\"], [0.8888888888888888, \"#fdca26\"], [1.0, \"#f0f921\"]], \"type\": \"heatmapgl\"}], \"histogram\": [{\"marker\": {\"colorbar\": {\"outlinewidth\": 0, \"ticks\": \"\"}}, \"type\": \"histogram\"}], \"histogram2d\": [{\"colorbar\": {\"outlinewidth\": 0, \"ticks\": \"\"}, \"colorscale\": [[0.0, \"#0d0887\"], [0.1111111111111111, \"#46039f\"], [0.2222222222222222, \"#7201a8\"], [0.3333333333333333, \"#9c179e\"], [0.4444444444444444, \"#bd3786\"], [0.5555555555555556, \"#d8576b\"], [0.6666666666666666, \"#ed7953\"], [0.7777777777777778, \"#fb9f3a\"], [0.8888888888888888, \"#fdca26\"], [1.0, \"#f0f921\"]], \"type\": \"histogram2d\"}], \"histogram2dcontour\": [{\"colorbar\": {\"outlinewidth\": 0, \"ticks\": \"\"}, \"colorscale\": [[0.0, \"#0d0887\"], [0.1111111111111111, \"#46039f\"], [0.2222222222222222, \"#7201a8\"], [0.3333333333333333, \"#9c179e\"], [0.4444444444444444, \"#bd3786\"], [0.5555555555555556, \"#d8576b\"], [0.6666666666666666, \"#ed7953\"], [0.7777777777777778, \"#fb9f3a\"], [0.8888888888888888, \"#fdca26\"], [1.0, \"#f0f921\"]], \"type\": \"histogram2dcontour\"}], \"mesh3d\": [{\"colorbar\": {\"outlinewidth\": 0, \"ticks\": \"\"}, \"type\": \"mesh3d\"}], \"parcoords\": [{\"line\": {\"colorbar\": {\"outlinewidth\": 0, \"ticks\": \"\"}}, \"type\": \"parcoords\"}], \"pie\": [{\"automargin\": true, \"type\": \"pie\"}], \"scatter\": [{\"marker\": {\"colorbar\": {\"outlinewidth\": 0, \"ticks\": \"\"}}, \"type\": \"scatter\"}], \"scatter3d\": [{\"line\": {\"colorbar\": {\"outlinewidth\": 0, \"ticks\": \"\"}}, \"marker\": {\"colorbar\": {\"outlinewidth\": 0, \"ticks\": \"\"}}, \"type\": \"scatter3d\"}], \"scattercarpet\": [{\"marker\": {\"colorbar\": {\"outlinewidth\": 0, \"ticks\": \"\"}}, \"type\": \"scattercarpet\"}], \"scattergeo\": [{\"marker\": {\"colorbar\": {\"outlinewidth\": 0, \"ticks\": \"\"}}, \"type\": \"scattergeo\"}], \"scattergl\": [{\"marker\": {\"colorbar\": {\"outlinewidth\": 0, \"ticks\": \"\"}}, \"type\": \"scattergl\"}], \"scattermapbox\": [{\"marker\": {\"colorbar\": {\"outlinewidth\": 0, \"ticks\": \"\"}}, \"type\": \"scattermapbox\"}], \"scatterpolar\": [{\"marker\": {\"colorbar\": {\"outlinewidth\": 0, \"ticks\": \"\"}}, \"type\": \"scatterpolar\"}], \"scatterpolargl\": [{\"marker\": {\"colorbar\": {\"outlinewidth\": 0, \"ticks\": \"\"}}, \"type\": \"scatterpolargl\"}], \"scatterternary\": [{\"marker\": {\"colorbar\": {\"outlinewidth\": 0, \"ticks\": \"\"}}, \"type\": \"scatterternary\"}], \"surface\": [{\"colorbar\": {\"outlinewidth\": 0, \"ticks\": \"\"}, \"colorscale\": [[0.0, \"#0d0887\"], [0.1111111111111111, \"#46039f\"], [0.2222222222222222, \"#7201a8\"], [0.3333333333333333, \"#9c179e\"], [0.4444444444444444, \"#bd3786\"], [0.5555555555555556, \"#d8576b\"], [0.6666666666666666, \"#ed7953\"], [0.7777777777777778, \"#fb9f3a\"], [0.8888888888888888, \"#fdca26\"], [1.0, \"#f0f921\"]], \"type\": \"surface\"}], \"table\": [{\"cells\": {\"fill\": {\"color\": \"#EBF0F8\"}, \"line\": {\"color\": \"white\"}}, \"header\": {\"fill\": {\"color\": \"#C8D4E3\"}, \"line\": {\"color\": \"white\"}}, \"type\": \"table\"}]}, \"layout\": {\"annotationdefaults\": {\"arrowcolor\": \"#2a3f5f\", \"arrowhead\": 0, \"arrowwidth\": 1}, \"coloraxis\": {\"colorbar\": {\"outlinewidth\": 0, \"ticks\": \"\"}}, \"colorscale\": {\"diverging\": [[0, \"#8e0152\"], [0.1, \"#c51b7d\"], [0.2, \"#de77ae\"], [0.3, \"#f1b6da\"], [0.4, \"#fde0ef\"], [0.5, \"#f7f7f7\"], [0.6, \"#e6f5d0\"], [0.7, \"#b8e186\"], [0.8, \"#7fbc41\"], [0.9, \"#4d9221\"], [1, \"#276419\"]], \"sequential\": [[0.0, \"#0d0887\"], [0.1111111111111111, \"#46039f\"], [0.2222222222222222, \"#7201a8\"], [0.3333333333333333, \"#9c179e\"], [0.4444444444444444, \"#bd3786\"], [0.5555555555555556, \"#d8576b\"], [0.6666666666666666, \"#ed7953\"], [0.7777777777777778, \"#fb9f3a\"], [0.8888888888888888, \"#fdca26\"], [1.0, \"#f0f921\"]], \"sequentialminus\": [[0.0, \"#0d0887\"], [0.1111111111111111, \"#46039f\"], [0.2222222222222222, \"#7201a8\"], [0.3333333333333333, \"#9c179e\"], [0.4444444444444444, \"#bd3786\"], [0.5555555555555556, \"#d8576b\"], [0.6666666666666666, \"#ed7953\"], [0.7777777777777778, \"#fb9f3a\"], [0.8888888888888888, \"#fdca26\"], [1.0, \"#f0f921\"]]}, \"colorway\": [\"#636efa\", \"#EF553B\", \"#00cc96\", \"#ab63fa\", \"#FFA15A\", \"#19d3f3\", \"#FF6692\", \"#B6E880\", \"#FF97FF\", \"#FECB52\"], \"font\": {\"color\": \"#2a3f5f\"}, \"geo\": {\"bgcolor\": \"white\", \"lakecolor\": \"white\", \"landcolor\": \"#E5ECF6\", \"showlakes\": true, \"showland\": true, \"subunitcolor\": \"white\"}, \"hoverlabel\": {\"align\": \"left\"}, \"hovermode\": \"closest\", \"mapbox\": {\"style\": \"light\"}, \"paper_bgcolor\": \"white\", \"plot_bgcolor\": \"#E5ECF6\", \"polar\": {\"angularaxis\": {\"gridcolor\": \"white\", \"linecolor\": \"white\", \"ticks\": \"\"}, \"bgcolor\": \"#E5ECF6\", \"radialaxis\": {\"gridcolor\": \"white\", \"linecolor\": \"white\", \"ticks\": \"\"}}, \"scene\": {\"xaxis\": {\"backgroundcolor\": \"#E5ECF6\", \"gridcolor\": \"white\", \"gridwidth\": 2, \"linecolor\": \"white\", \"showbackground\": true, \"ticks\": \"\", \"zerolinecolor\": \"white\"}, \"yaxis\": {\"backgroundcolor\": \"#E5ECF6\", \"gridcolor\": \"white\", \"gridwidth\": 2, \"linecolor\": \"white\", \"showbackground\": true, \"ticks\": \"\", \"zerolinecolor\": \"white\"}, \"zaxis\": {\"backgroundcolor\": \"#E5ECF6\", \"gridcolor\": \"white\", \"gridwidth\": 2, \"linecolor\": \"white\", \"showbackground\": true, \"ticks\": \"\", \"zerolinecolor\": \"white\"}}, \"shapedefaults\": {\"line\": {\"color\": \"#2a3f5f\"}}, \"ternary\": {\"aaxis\": {\"gridcolor\": \"white\", \"linecolor\": \"white\", \"ticks\": \"\"}, \"baxis\": {\"gridcolor\": \"white\", \"linecolor\": \"white\", \"ticks\": \"\"}, \"bgcolor\": \"#E5ECF6\", \"caxis\": {\"gridcolor\": \"white\", \"linecolor\": \"white\", \"ticks\": \"\"}}, \"title\": {\"x\": 0.05}, \"xaxis\": {\"automargin\": true, \"gridcolor\": \"white\", \"linecolor\": \"white\", \"ticks\": \"\", \"title\": {\"standoff\": 15}, \"zerolinecolor\": \"white\", \"zerolinewidth\": 2}, \"yaxis\": {\"automargin\": true, \"gridcolor\": \"white\", \"linecolor\": \"white\", \"ticks\": \"\", \"title\": {\"standoff\": 15}, \"zerolinecolor\": \"white\", \"zerolinewidth\": 2}}}},\n",
       "                        {\"responsive\": true}\n",
       "                    ).then(function(){\n",
       "                            \n",
       "var gd = document.getElementById('dab0efae-2c8d-457f-9f34-af6664171904');\n",
       "var x = new MutationObserver(function (mutations, observer) {{\n",
       "        var display = window.getComputedStyle(gd).display;\n",
       "        if (!display || display === 'none') {{\n",
       "            console.log([gd, 'removed!']);\n",
       "            Plotly.purge(gd);\n",
       "            observer.disconnect();\n",
       "        }}\n",
       "}});\n",
       "\n",
       "// Listen for the removal of the full notebook cells\n",
       "var notebookContainer = gd.closest('#notebook-container');\n",
       "if (notebookContainer) {{\n",
       "    x.observe(notebookContainer, {childList: true});\n",
       "}}\n",
       "\n",
       "// Listen for the clearing of the current output cell\n",
       "var outputEl = gd.closest('.output');\n",
       "if (outputEl) {{\n",
       "    x.observe(outputEl, {childList: true});\n",
       "}}\n",
       "\n",
       "                        })\n",
       "                };\n",
       "                });\n",
       "            </script>\n",
       "        </div>"
      ]
     },
     "metadata": {},
     "output_type": "display_data"
    }
   ],
   "source": [
    "from plotly import graph_objs as go\n",
    "\n",
    "fig = go.Figure(data=go.Bar(y=[2, 3, 1]))\n",
    "fig.show()"
   ]
  },
  {
   "cell_type": "code",
   "execution_count": 7,
   "metadata": {},
   "outputs": [
    {
     "name": "stdout",
     "output_type": "stream",
     "text": [
      "x 2\n",
      "y 2 5\n",
      "XD 0\n",
      "GW\n",
      "5\n",
      "XD 1\n",
      "Control\n",
      "5\n",
      "THE MEANS LIST HEREEE [108.8, 103.6]\n",
      "25.657637215659804\n",
      "LOW LIST [25.657637215659804, 72.97592376279684]\n",
      "HIGH LIST [191.9423627843402, 134.22407623720315]\n",
      "B\n",
      "C\n",
      "Returning fig???\n"
     ]
    },
    {
     "data": {
      "application/vnd.plotly.v1+json": {
       "config": {
        "linkText": "Export to plot.ly",
        "plotlyServerURL": "https://plot.ly",
        "showLink": false
       },
       "data": [
        {
         "boxpoints": "all",
         "fillcolor": "rgba(0,0,0,0)",
         "jitter": 0.15,
         "line": {
          "color": "rgba(0,0,0,0)"
         },
         "marker": {
          "color": "rgb(66,244,143)",
          "size": 7
         },
         "pointpos": 0,
         "showlegend": false,
         "type": "box",
         "whiskerwidth": 0.2,
         "x": [
          "GW",
          "GW",
          "GW",
          "GW",
          "GW"
         ],
         "y": [
          42,
          219,
          73,
          102,
          108
         ]
        },
        {
         "boxpoints": "all",
         "fillcolor": "rgba(0,0,0,0)",
         "jitter": 0.15,
         "line": {
          "color": "rgba(0,0,0,0)"
         },
         "marker": {
          "color": "rgb(66,167,244)",
          "size": 7
         },
         "pointpos": 0,
         "showlegend": false,
         "type": "box",
         "whiskerwidth": 0.2,
         "x": [
          "Control",
          "Control",
          "Control",
          "Control",
          "Control"
         ],
         "y": [
          136,
          124,
          83,
          84,
          91
         ]
        }
       ],
       "layout": {
        "boxgap": 0,
        "margin": {
         "b": 100,
         "l": 100,
         "r": 30,
         "t": 100
        },
        "paper_bgcolor": "rgb(255, 255, 255)",
        "plot_bgcolor": "rgb(255, 255, 255)",
        "shapes": [
         {
          "line": {
           "color": "black",
           "width": 1.5
          },
          "opacity": 0.7,
          "type": "line",
          "x0": -0.02,
          "x1": 0.02,
          "y0": 25.657637215659804,
          "y1": 25.657637215659804
         },
         {
          "line": {
           "color": "black",
           "width": 1.5
          },
          "opacity": 0.7,
          "type": "line",
          "x0": -0.02,
          "x1": 0.02,
          "y0": 191.9423627843402,
          "y1": 191.9423627843402
         },
         {
          "line": {
           "color": "black",
           "width": 1.5
          },
          "opacity": 0.7,
          "type": "line",
          "x0": 0,
          "x1": 0,
          "y0": 25.657637215659804,
          "y1": 191.9423627843402
         },
         {
          "fillcolor": "rgb(66,244,143)",
          "line": {
           "color": "black",
           "width": 1.5
          },
          "path": " M -0.02 108.8 L 0 105.25999999999999 L 0.02 108.8 L 0 112.34 Z",
          "type": "path"
         },
         {
          "line": {
           "color": "black",
           "width": 1.5
          },
          "opacity": 0.7,
          "type": "line",
          "x0": 0.98,
          "x1": 1.02,
          "y0": 72.97592376279684,
          "y1": 72.97592376279684
         },
         {
          "line": {
           "color": "black",
           "width": 1.5
          },
          "opacity": 0.7,
          "type": "line",
          "x0": 0.98,
          "x1": 1.02,
          "y0": 134.22407623720315,
          "y1": 134.22407623720315
         },
         {
          "line": {
           "color": "black",
           "width": 1.5
          },
          "opacity": 0.7,
          "type": "line",
          "x0": 1,
          "x1": 1,
          "y0": 72.97592376279684,
          "y1": 134.22407623720315
         },
         {
          "fillcolor": "rgb(66,167,244)",
          "line": {
           "color": "black",
           "width": 1.5
          },
          "path": " M 0.98 103.6 L 1 100.05999999999999 L 1.02 103.6 L 1 107.14 Z",
          "type": "path"
         }
        ],
        "showlegend": false,
        "template": {
         "data": {
          "bar": [
           {
            "error_x": {
             "color": "#2a3f5f"
            },
            "error_y": {
             "color": "#2a3f5f"
            },
            "marker": {
             "line": {
              "color": "#E5ECF6",
              "width": 0.5
             }
            },
            "type": "bar"
           }
          ],
          "barpolar": [
           {
            "marker": {
             "line": {
              "color": "#E5ECF6",
              "width": 0.5
             }
            },
            "type": "barpolar"
           }
          ],
          "carpet": [
           {
            "aaxis": {
             "endlinecolor": "#2a3f5f",
             "gridcolor": "white",
             "linecolor": "white",
             "minorgridcolor": "white",
             "startlinecolor": "#2a3f5f"
            },
            "baxis": {
             "endlinecolor": "#2a3f5f",
             "gridcolor": "white",
             "linecolor": "white",
             "minorgridcolor": "white",
             "startlinecolor": "#2a3f5f"
            },
            "type": "carpet"
           }
          ],
          "choropleth": [
           {
            "colorbar": {
             "outlinewidth": 0,
             "ticks": ""
            },
            "type": "choropleth"
           }
          ],
          "contour": [
           {
            "colorbar": {
             "outlinewidth": 0,
             "ticks": ""
            },
            "colorscale": [
             [
              0,
              "#0d0887"
             ],
             [
              0.1111111111111111,
              "#46039f"
             ],
             [
              0.2222222222222222,
              "#7201a8"
             ],
             [
              0.3333333333333333,
              "#9c179e"
             ],
             [
              0.4444444444444444,
              "#bd3786"
             ],
             [
              0.5555555555555556,
              "#d8576b"
             ],
             [
              0.6666666666666666,
              "#ed7953"
             ],
             [
              0.7777777777777778,
              "#fb9f3a"
             ],
             [
              0.8888888888888888,
              "#fdca26"
             ],
             [
              1,
              "#f0f921"
             ]
            ],
            "type": "contour"
           }
          ],
          "contourcarpet": [
           {
            "colorbar": {
             "outlinewidth": 0,
             "ticks": ""
            },
            "type": "contourcarpet"
           }
          ],
          "heatmap": [
           {
            "colorbar": {
             "outlinewidth": 0,
             "ticks": ""
            },
            "colorscale": [
             [
              0,
              "#0d0887"
             ],
             [
              0.1111111111111111,
              "#46039f"
             ],
             [
              0.2222222222222222,
              "#7201a8"
             ],
             [
              0.3333333333333333,
              "#9c179e"
             ],
             [
              0.4444444444444444,
              "#bd3786"
             ],
             [
              0.5555555555555556,
              "#d8576b"
             ],
             [
              0.6666666666666666,
              "#ed7953"
             ],
             [
              0.7777777777777778,
              "#fb9f3a"
             ],
             [
              0.8888888888888888,
              "#fdca26"
             ],
             [
              1,
              "#f0f921"
             ]
            ],
            "type": "heatmap"
           }
          ],
          "heatmapgl": [
           {
            "colorbar": {
             "outlinewidth": 0,
             "ticks": ""
            },
            "colorscale": [
             [
              0,
              "#0d0887"
             ],
             [
              0.1111111111111111,
              "#46039f"
             ],
             [
              0.2222222222222222,
              "#7201a8"
             ],
             [
              0.3333333333333333,
              "#9c179e"
             ],
             [
              0.4444444444444444,
              "#bd3786"
             ],
             [
              0.5555555555555556,
              "#d8576b"
             ],
             [
              0.6666666666666666,
              "#ed7953"
             ],
             [
              0.7777777777777778,
              "#fb9f3a"
             ],
             [
              0.8888888888888888,
              "#fdca26"
             ],
             [
              1,
              "#f0f921"
             ]
            ],
            "type": "heatmapgl"
           }
          ],
          "histogram": [
           {
            "marker": {
             "colorbar": {
              "outlinewidth": 0,
              "ticks": ""
             }
            },
            "type": "histogram"
           }
          ],
          "histogram2d": [
           {
            "colorbar": {
             "outlinewidth": 0,
             "ticks": ""
            },
            "colorscale": [
             [
              0,
              "#0d0887"
             ],
             [
              0.1111111111111111,
              "#46039f"
             ],
             [
              0.2222222222222222,
              "#7201a8"
             ],
             [
              0.3333333333333333,
              "#9c179e"
             ],
             [
              0.4444444444444444,
              "#bd3786"
             ],
             [
              0.5555555555555556,
              "#d8576b"
             ],
             [
              0.6666666666666666,
              "#ed7953"
             ],
             [
              0.7777777777777778,
              "#fb9f3a"
             ],
             [
              0.8888888888888888,
              "#fdca26"
             ],
             [
              1,
              "#f0f921"
             ]
            ],
            "type": "histogram2d"
           }
          ],
          "histogram2dcontour": [
           {
            "colorbar": {
             "outlinewidth": 0,
             "ticks": ""
            },
            "colorscale": [
             [
              0,
              "#0d0887"
             ],
             [
              0.1111111111111111,
              "#46039f"
             ],
             [
              0.2222222222222222,
              "#7201a8"
             ],
             [
              0.3333333333333333,
              "#9c179e"
             ],
             [
              0.4444444444444444,
              "#bd3786"
             ],
             [
              0.5555555555555556,
              "#d8576b"
             ],
             [
              0.6666666666666666,
              "#ed7953"
             ],
             [
              0.7777777777777778,
              "#fb9f3a"
             ],
             [
              0.8888888888888888,
              "#fdca26"
             ],
             [
              1,
              "#f0f921"
             ]
            ],
            "type": "histogram2dcontour"
           }
          ],
          "mesh3d": [
           {
            "colorbar": {
             "outlinewidth": 0,
             "ticks": ""
            },
            "type": "mesh3d"
           }
          ],
          "parcoords": [
           {
            "line": {
             "colorbar": {
              "outlinewidth": 0,
              "ticks": ""
             }
            },
            "type": "parcoords"
           }
          ],
          "pie": [
           {
            "automargin": true,
            "type": "pie"
           }
          ],
          "scatter": [
           {
            "marker": {
             "colorbar": {
              "outlinewidth": 0,
              "ticks": ""
             }
            },
            "type": "scatter"
           }
          ],
          "scatter3d": [
           {
            "line": {
             "colorbar": {
              "outlinewidth": 0,
              "ticks": ""
             }
            },
            "marker": {
             "colorbar": {
              "outlinewidth": 0,
              "ticks": ""
             }
            },
            "type": "scatter3d"
           }
          ],
          "scattercarpet": [
           {
            "marker": {
             "colorbar": {
              "outlinewidth": 0,
              "ticks": ""
             }
            },
            "type": "scattercarpet"
           }
          ],
          "scattergeo": [
           {
            "marker": {
             "colorbar": {
              "outlinewidth": 0,
              "ticks": ""
             }
            },
            "type": "scattergeo"
           }
          ],
          "scattergl": [
           {
            "marker": {
             "colorbar": {
              "outlinewidth": 0,
              "ticks": ""
             }
            },
            "type": "scattergl"
           }
          ],
          "scattermapbox": [
           {
            "marker": {
             "colorbar": {
              "outlinewidth": 0,
              "ticks": ""
             }
            },
            "type": "scattermapbox"
           }
          ],
          "scatterpolar": [
           {
            "marker": {
             "colorbar": {
              "outlinewidth": 0,
              "ticks": ""
             }
            },
            "type": "scatterpolar"
           }
          ],
          "scatterpolargl": [
           {
            "marker": {
             "colorbar": {
              "outlinewidth": 0,
              "ticks": ""
             }
            },
            "type": "scatterpolargl"
           }
          ],
          "scatterternary": [
           {
            "marker": {
             "colorbar": {
              "outlinewidth": 0,
              "ticks": ""
             }
            },
            "type": "scatterternary"
           }
          ],
          "surface": [
           {
            "colorbar": {
             "outlinewidth": 0,
             "ticks": ""
            },
            "colorscale": [
             [
              0,
              "#0d0887"
             ],
             [
              0.1111111111111111,
              "#46039f"
             ],
             [
              0.2222222222222222,
              "#7201a8"
             ],
             [
              0.3333333333333333,
              "#9c179e"
             ],
             [
              0.4444444444444444,
              "#bd3786"
             ],
             [
              0.5555555555555556,
              "#d8576b"
             ],
             [
              0.6666666666666666,
              "#ed7953"
             ],
             [
              0.7777777777777778,
              "#fb9f3a"
             ],
             [
              0.8888888888888888,
              "#fdca26"
             ],
             [
              1,
              "#f0f921"
             ]
            ],
            "type": "surface"
           }
          ],
          "table": [
           {
            "cells": {
             "fill": {
              "color": "#EBF0F8"
             },
             "line": {
              "color": "white"
             }
            },
            "header": {
             "fill": {
              "color": "#C8D4E3"
             },
             "line": {
              "color": "white"
             }
            },
            "type": "table"
           }
          ]
         },
         "layout": {
          "annotationdefaults": {
           "arrowcolor": "#2a3f5f",
           "arrowhead": 0,
           "arrowwidth": 1
          },
          "coloraxis": {
           "colorbar": {
            "outlinewidth": 0,
            "ticks": ""
           }
          },
          "colorscale": {
           "diverging": [
            [
             0,
             "#8e0152"
            ],
            [
             0.1,
             "#c51b7d"
            ],
            [
             0.2,
             "#de77ae"
            ],
            [
             0.3,
             "#f1b6da"
            ],
            [
             0.4,
             "#fde0ef"
            ],
            [
             0.5,
             "#f7f7f7"
            ],
            [
             0.6,
             "#e6f5d0"
            ],
            [
             0.7,
             "#b8e186"
            ],
            [
             0.8,
             "#7fbc41"
            ],
            [
             0.9,
             "#4d9221"
            ],
            [
             1,
             "#276419"
            ]
           ],
           "sequential": [
            [
             0,
             "#0d0887"
            ],
            [
             0.1111111111111111,
             "#46039f"
            ],
            [
             0.2222222222222222,
             "#7201a8"
            ],
            [
             0.3333333333333333,
             "#9c179e"
            ],
            [
             0.4444444444444444,
             "#bd3786"
            ],
            [
             0.5555555555555556,
             "#d8576b"
            ],
            [
             0.6666666666666666,
             "#ed7953"
            ],
            [
             0.7777777777777778,
             "#fb9f3a"
            ],
            [
             0.8888888888888888,
             "#fdca26"
            ],
            [
             1,
             "#f0f921"
            ]
           ],
           "sequentialminus": [
            [
             0,
             "#0d0887"
            ],
            [
             0.1111111111111111,
             "#46039f"
            ],
            [
             0.2222222222222222,
             "#7201a8"
            ],
            [
             0.3333333333333333,
             "#9c179e"
            ],
            [
             0.4444444444444444,
             "#bd3786"
            ],
            [
             0.5555555555555556,
             "#d8576b"
            ],
            [
             0.6666666666666666,
             "#ed7953"
            ],
            [
             0.7777777777777778,
             "#fb9f3a"
            ],
            [
             0.8888888888888888,
             "#fdca26"
            ],
            [
             1,
             "#f0f921"
            ]
           ]
          },
          "colorway": [
           "#636efa",
           "#EF553B",
           "#00cc96",
           "#ab63fa",
           "#FFA15A",
           "#19d3f3",
           "#FF6692",
           "#B6E880",
           "#FF97FF",
           "#FECB52"
          ],
          "font": {
           "color": "#2a3f5f"
          },
          "geo": {
           "bgcolor": "white",
           "lakecolor": "white",
           "landcolor": "#E5ECF6",
           "showlakes": true,
           "showland": true,
           "subunitcolor": "white"
          },
          "hoverlabel": {
           "align": "left"
          },
          "hovermode": "closest",
          "mapbox": {
           "style": "light"
          },
          "paper_bgcolor": "white",
          "plot_bgcolor": "#E5ECF6",
          "polar": {
           "angularaxis": {
            "gridcolor": "white",
            "linecolor": "white",
            "ticks": ""
           },
           "bgcolor": "#E5ECF6",
           "radialaxis": {
            "gridcolor": "white",
            "linecolor": "white",
            "ticks": ""
           }
          },
          "scene": {
           "xaxis": {
            "backgroundcolor": "#E5ECF6",
            "gridcolor": "white",
            "gridwidth": 2,
            "linecolor": "white",
            "showbackground": true,
            "ticks": "",
            "zerolinecolor": "white"
           },
           "yaxis": {
            "backgroundcolor": "#E5ECF6",
            "gridcolor": "white",
            "gridwidth": 2,
            "linecolor": "white",
            "showbackground": true,
            "ticks": "",
            "zerolinecolor": "white"
           },
           "zaxis": {
            "backgroundcolor": "#E5ECF6",
            "gridcolor": "white",
            "gridwidth": 2,
            "linecolor": "white",
            "showbackground": true,
            "ticks": "",
            "zerolinecolor": "white"
           }
          },
          "shapedefaults": {
           "line": {
            "color": "#2a3f5f"
           }
          },
          "ternary": {
           "aaxis": {
            "gridcolor": "white",
            "linecolor": "white",
            "ticks": ""
           },
           "baxis": {
            "gridcolor": "white",
            "linecolor": "white",
            "ticks": ""
           },
           "bgcolor": "#E5ECF6",
           "caxis": {
            "gridcolor": "white",
            "linecolor": "white",
            "ticks": ""
           }
          },
          "title": {
           "x": 0.05
          },
          "xaxis": {
           "automargin": true,
           "gridcolor": "white",
           "linecolor": "white",
           "ticks": "",
           "title": {
            "standoff": 15
           },
           "zerolinecolor": "white",
           "zerolinewidth": 2
          },
          "yaxis": {
           "automargin": true,
           "gridcolor": "white",
           "linecolor": "white",
           "ticks": "",
           "title": {
            "standoff": 15
           },
           "zerolinecolor": "white",
           "zerolinewidth": 2
          }
         }
        },
        "title": {
         "text": "GW/Control Test p=8.60e-01"
        },
        "xaxis": {
         "title": {
          "text": ""
         }
        },
        "yaxis": {
         "gridcolor": "rgb(255, 255, 255)",
         "gridwidth": 1,
         "range": [
          24.37475535487681,
          229.95000000000002
         ],
         "title": {
          "text": ""
         },
         "zerolinecolor": "rgb(255, 255, 255)",
         "zerolinewidth": 2
        }
       }
      },
      "text/html": [
       "<div>\n",
       "        \n",
       "        \n",
       "            <div id=\"9e3bbd87-1c1b-45d9-9ffd-ae85bc2bcf69\" class=\"plotly-graph-div\" style=\"height:525px; width:100%;\"></div>\n",
       "            <script type=\"text/javascript\">\n",
       "                require([\"plotly\"], function(Plotly) {\n",
       "                    window.PLOTLYENV=window.PLOTLYENV || {};\n",
       "                    \n",
       "                if (document.getElementById(\"9e3bbd87-1c1b-45d9-9ffd-ae85bc2bcf69\")) {\n",
       "                    Plotly.newPlot(\n",
       "                        '9e3bbd87-1c1b-45d9-9ffd-ae85bc2bcf69',\n",
       "                        [{\"boxpoints\": \"all\", \"fillcolor\": \"rgba(0,0,0,0)\", \"jitter\": 0.15, \"line\": {\"color\": \"rgba(0,0,0,0)\"}, \"marker\": {\"color\": \"rgb(66,244,143)\", \"size\": 7}, \"pointpos\": 0, \"showlegend\": false, \"type\": \"box\", \"whiskerwidth\": 0.2, \"x\": [\"GW\", \"GW\", \"GW\", \"GW\", \"GW\"], \"y\": [42, 219, 73, 102, 108]}, {\"boxpoints\": \"all\", \"fillcolor\": \"rgba(0,0,0,0)\", \"jitter\": 0.15, \"line\": {\"color\": \"rgba(0,0,0,0)\"}, \"marker\": {\"color\": \"rgb(66,167,244)\", \"size\": 7}, \"pointpos\": 0, \"showlegend\": false, \"type\": \"box\", \"whiskerwidth\": 0.2, \"x\": [\"Control\", \"Control\", \"Control\", \"Control\", \"Control\"], \"y\": [136, 124, 83, 84, 91]}],\n",
       "                        {\"boxgap\": 0, \"margin\": {\"b\": 100, \"l\": 100, \"r\": 30, \"t\": 100}, \"paper_bgcolor\": \"rgb(255, 255, 255)\", \"plot_bgcolor\": \"rgb(255, 255, 255)\", \"shapes\": [{\"line\": {\"color\": \"black\", \"width\": 1.5}, \"opacity\": 0.7, \"type\": \"line\", \"x0\": -0.02, \"x1\": 0.02, \"y0\": 25.657637215659804, \"y1\": 25.657637215659804}, {\"line\": {\"color\": \"black\", \"width\": 1.5}, \"opacity\": 0.7, \"type\": \"line\", \"x0\": -0.02, \"x1\": 0.02, \"y0\": 191.9423627843402, \"y1\": 191.9423627843402}, {\"line\": {\"color\": \"black\", \"width\": 1.5}, \"opacity\": 0.7, \"type\": \"line\", \"x0\": 0, \"x1\": 0, \"y0\": 25.657637215659804, \"y1\": 191.9423627843402}, {\"fillcolor\": \"rgb(66,244,143)\", \"line\": {\"color\": \"black\", \"width\": 1.5}, \"path\": \" M -0.02 108.8 L 0 105.25999999999999 L 0.02 108.8 L 0 112.34 Z\", \"type\": \"path\"}, {\"line\": {\"color\": \"black\", \"width\": 1.5}, \"opacity\": 0.7, \"type\": \"line\", \"x0\": 0.98, \"x1\": 1.02, \"y0\": 72.97592376279684, \"y1\": 72.97592376279684}, {\"line\": {\"color\": \"black\", \"width\": 1.5}, \"opacity\": 0.7, \"type\": \"line\", \"x0\": 0.98, \"x1\": 1.02, \"y0\": 134.22407623720315, \"y1\": 134.22407623720315}, {\"line\": {\"color\": \"black\", \"width\": 1.5}, \"opacity\": 0.7, \"type\": \"line\", \"x0\": 1, \"x1\": 1, \"y0\": 72.97592376279684, \"y1\": 134.22407623720315}, {\"fillcolor\": \"rgb(66,167,244)\", \"line\": {\"color\": \"black\", \"width\": 1.5}, \"path\": \" M 0.98 103.6 L 1 100.05999999999999 L 1.02 103.6 L 1 107.14 Z\", \"type\": \"path\"}], \"showlegend\": false, \"template\": {\"data\": {\"bar\": [{\"error_x\": {\"color\": \"#2a3f5f\"}, \"error_y\": {\"color\": \"#2a3f5f\"}, \"marker\": {\"line\": {\"color\": \"#E5ECF6\", \"width\": 0.5}}, \"type\": \"bar\"}], \"barpolar\": [{\"marker\": {\"line\": {\"color\": \"#E5ECF6\", \"width\": 0.5}}, \"type\": \"barpolar\"}], \"carpet\": [{\"aaxis\": {\"endlinecolor\": \"#2a3f5f\", \"gridcolor\": \"white\", \"linecolor\": \"white\", \"minorgridcolor\": \"white\", \"startlinecolor\": \"#2a3f5f\"}, \"baxis\": {\"endlinecolor\": \"#2a3f5f\", \"gridcolor\": \"white\", \"linecolor\": \"white\", \"minorgridcolor\": \"white\", \"startlinecolor\": \"#2a3f5f\"}, \"type\": \"carpet\"}], \"choropleth\": [{\"colorbar\": {\"outlinewidth\": 0, \"ticks\": \"\"}, \"type\": \"choropleth\"}], \"contour\": [{\"colorbar\": {\"outlinewidth\": 0, \"ticks\": \"\"}, \"colorscale\": [[0.0, \"#0d0887\"], [0.1111111111111111, \"#46039f\"], [0.2222222222222222, \"#7201a8\"], [0.3333333333333333, \"#9c179e\"], [0.4444444444444444, \"#bd3786\"], [0.5555555555555556, \"#d8576b\"], [0.6666666666666666, \"#ed7953\"], [0.7777777777777778, \"#fb9f3a\"], [0.8888888888888888, \"#fdca26\"], [1.0, \"#f0f921\"]], \"type\": \"contour\"}], \"contourcarpet\": [{\"colorbar\": {\"outlinewidth\": 0, \"ticks\": \"\"}, \"type\": \"contourcarpet\"}], \"heatmap\": [{\"colorbar\": {\"outlinewidth\": 0, \"ticks\": \"\"}, \"colorscale\": [[0.0, \"#0d0887\"], [0.1111111111111111, \"#46039f\"], [0.2222222222222222, \"#7201a8\"], [0.3333333333333333, \"#9c179e\"], [0.4444444444444444, \"#bd3786\"], [0.5555555555555556, \"#d8576b\"], [0.6666666666666666, \"#ed7953\"], [0.7777777777777778, \"#fb9f3a\"], [0.8888888888888888, \"#fdca26\"], [1.0, \"#f0f921\"]], \"type\": \"heatmap\"}], \"heatmapgl\": [{\"colorbar\": {\"outlinewidth\": 0, \"ticks\": \"\"}, \"colorscale\": [[0.0, \"#0d0887\"], [0.1111111111111111, \"#46039f\"], [0.2222222222222222, \"#7201a8\"], [0.3333333333333333, \"#9c179e\"], [0.4444444444444444, \"#bd3786\"], [0.5555555555555556, \"#d8576b\"], [0.6666666666666666, \"#ed7953\"], [0.7777777777777778, \"#fb9f3a\"], [0.8888888888888888, \"#fdca26\"], [1.0, \"#f0f921\"]], \"type\": \"heatmapgl\"}], \"histogram\": [{\"marker\": {\"colorbar\": {\"outlinewidth\": 0, \"ticks\": \"\"}}, \"type\": \"histogram\"}], \"histogram2d\": [{\"colorbar\": {\"outlinewidth\": 0, \"ticks\": \"\"}, \"colorscale\": [[0.0, \"#0d0887\"], [0.1111111111111111, \"#46039f\"], [0.2222222222222222, \"#7201a8\"], [0.3333333333333333, \"#9c179e\"], [0.4444444444444444, \"#bd3786\"], [0.5555555555555556, \"#d8576b\"], [0.6666666666666666, \"#ed7953\"], [0.7777777777777778, \"#fb9f3a\"], [0.8888888888888888, \"#fdca26\"], [1.0, \"#f0f921\"]], \"type\": \"histogram2d\"}], \"histogram2dcontour\": [{\"colorbar\": {\"outlinewidth\": 0, \"ticks\": \"\"}, \"colorscale\": [[0.0, \"#0d0887\"], [0.1111111111111111, \"#46039f\"], [0.2222222222222222, \"#7201a8\"], [0.3333333333333333, \"#9c179e\"], [0.4444444444444444, \"#bd3786\"], [0.5555555555555556, \"#d8576b\"], [0.6666666666666666, \"#ed7953\"], [0.7777777777777778, \"#fb9f3a\"], [0.8888888888888888, \"#fdca26\"], [1.0, \"#f0f921\"]], \"type\": \"histogram2dcontour\"}], \"mesh3d\": [{\"colorbar\": {\"outlinewidth\": 0, \"ticks\": \"\"}, \"type\": \"mesh3d\"}], \"parcoords\": [{\"line\": {\"colorbar\": {\"outlinewidth\": 0, \"ticks\": \"\"}}, \"type\": \"parcoords\"}], \"pie\": [{\"automargin\": true, \"type\": \"pie\"}], \"scatter\": [{\"marker\": {\"colorbar\": {\"outlinewidth\": 0, \"ticks\": \"\"}}, \"type\": \"scatter\"}], \"scatter3d\": [{\"line\": {\"colorbar\": {\"outlinewidth\": 0, \"ticks\": \"\"}}, \"marker\": {\"colorbar\": {\"outlinewidth\": 0, \"ticks\": \"\"}}, \"type\": \"scatter3d\"}], \"scattercarpet\": [{\"marker\": {\"colorbar\": {\"outlinewidth\": 0, \"ticks\": \"\"}}, \"type\": \"scattercarpet\"}], \"scattergeo\": [{\"marker\": {\"colorbar\": {\"outlinewidth\": 0, \"ticks\": \"\"}}, \"type\": \"scattergeo\"}], \"scattergl\": [{\"marker\": {\"colorbar\": {\"outlinewidth\": 0, \"ticks\": \"\"}}, \"type\": \"scattergl\"}], \"scattermapbox\": [{\"marker\": {\"colorbar\": {\"outlinewidth\": 0, \"ticks\": \"\"}}, \"type\": \"scattermapbox\"}], \"scatterpolar\": [{\"marker\": {\"colorbar\": {\"outlinewidth\": 0, \"ticks\": \"\"}}, \"type\": \"scatterpolar\"}], \"scatterpolargl\": [{\"marker\": {\"colorbar\": {\"outlinewidth\": 0, \"ticks\": \"\"}}, \"type\": \"scatterpolargl\"}], \"scatterternary\": [{\"marker\": {\"colorbar\": {\"outlinewidth\": 0, \"ticks\": \"\"}}, \"type\": \"scatterternary\"}], \"surface\": [{\"colorbar\": {\"outlinewidth\": 0, \"ticks\": \"\"}, \"colorscale\": [[0.0, \"#0d0887\"], [0.1111111111111111, \"#46039f\"], [0.2222222222222222, \"#7201a8\"], [0.3333333333333333, \"#9c179e\"], [0.4444444444444444, \"#bd3786\"], [0.5555555555555556, \"#d8576b\"], [0.6666666666666666, \"#ed7953\"], [0.7777777777777778, \"#fb9f3a\"], [0.8888888888888888, \"#fdca26\"], [1.0, \"#f0f921\"]], \"type\": \"surface\"}], \"table\": [{\"cells\": {\"fill\": {\"color\": \"#EBF0F8\"}, \"line\": {\"color\": \"white\"}}, \"header\": {\"fill\": {\"color\": \"#C8D4E3\"}, \"line\": {\"color\": \"white\"}}, \"type\": \"table\"}]}, \"layout\": {\"annotationdefaults\": {\"arrowcolor\": \"#2a3f5f\", \"arrowhead\": 0, \"arrowwidth\": 1}, \"coloraxis\": {\"colorbar\": {\"outlinewidth\": 0, \"ticks\": \"\"}}, \"colorscale\": {\"diverging\": [[0, \"#8e0152\"], [0.1, \"#c51b7d\"], [0.2, \"#de77ae\"], [0.3, \"#f1b6da\"], [0.4, \"#fde0ef\"], [0.5, \"#f7f7f7\"], [0.6, \"#e6f5d0\"], [0.7, \"#b8e186\"], [0.8, \"#7fbc41\"], [0.9, \"#4d9221\"], [1, \"#276419\"]], \"sequential\": [[0.0, \"#0d0887\"], [0.1111111111111111, \"#46039f\"], [0.2222222222222222, \"#7201a8\"], [0.3333333333333333, \"#9c179e\"], [0.4444444444444444, \"#bd3786\"], [0.5555555555555556, \"#d8576b\"], [0.6666666666666666, \"#ed7953\"], [0.7777777777777778, \"#fb9f3a\"], [0.8888888888888888, \"#fdca26\"], [1.0, \"#f0f921\"]], \"sequentialminus\": [[0.0, \"#0d0887\"], [0.1111111111111111, \"#46039f\"], [0.2222222222222222, \"#7201a8\"], [0.3333333333333333, \"#9c179e\"], [0.4444444444444444, \"#bd3786\"], [0.5555555555555556, \"#d8576b\"], [0.6666666666666666, \"#ed7953\"], [0.7777777777777778, \"#fb9f3a\"], [0.8888888888888888, \"#fdca26\"], [1.0, \"#f0f921\"]]}, \"colorway\": [\"#636efa\", \"#EF553B\", \"#00cc96\", \"#ab63fa\", \"#FFA15A\", \"#19d3f3\", \"#FF6692\", \"#B6E880\", \"#FF97FF\", \"#FECB52\"], \"font\": {\"color\": \"#2a3f5f\"}, \"geo\": {\"bgcolor\": \"white\", \"lakecolor\": \"white\", \"landcolor\": \"#E5ECF6\", \"showlakes\": true, \"showland\": true, \"subunitcolor\": \"white\"}, \"hoverlabel\": {\"align\": \"left\"}, \"hovermode\": \"closest\", \"mapbox\": {\"style\": \"light\"}, \"paper_bgcolor\": \"white\", \"plot_bgcolor\": \"#E5ECF6\", \"polar\": {\"angularaxis\": {\"gridcolor\": \"white\", \"linecolor\": \"white\", \"ticks\": \"\"}, \"bgcolor\": \"#E5ECF6\", \"radialaxis\": {\"gridcolor\": \"white\", \"linecolor\": \"white\", \"ticks\": \"\"}}, \"scene\": {\"xaxis\": {\"backgroundcolor\": \"#E5ECF6\", \"gridcolor\": \"white\", \"gridwidth\": 2, \"linecolor\": \"white\", \"showbackground\": true, \"ticks\": \"\", \"zerolinecolor\": \"white\"}, \"yaxis\": {\"backgroundcolor\": \"#E5ECF6\", \"gridcolor\": \"white\", \"gridwidth\": 2, \"linecolor\": \"white\", \"showbackground\": true, \"ticks\": \"\", \"zerolinecolor\": \"white\"}, \"zaxis\": {\"backgroundcolor\": \"#E5ECF6\", \"gridcolor\": \"white\", \"gridwidth\": 2, \"linecolor\": \"white\", \"showbackground\": true, \"ticks\": \"\", \"zerolinecolor\": \"white\"}}, \"shapedefaults\": {\"line\": {\"color\": \"#2a3f5f\"}}, \"ternary\": {\"aaxis\": {\"gridcolor\": \"white\", \"linecolor\": \"white\", \"ticks\": \"\"}, \"baxis\": {\"gridcolor\": \"white\", \"linecolor\": \"white\", \"ticks\": \"\"}, \"bgcolor\": \"#E5ECF6\", \"caxis\": {\"gridcolor\": \"white\", \"linecolor\": \"white\", \"ticks\": \"\"}}, \"title\": {\"x\": 0.05}, \"xaxis\": {\"automargin\": true, \"gridcolor\": \"white\", \"linecolor\": \"white\", \"ticks\": \"\", \"title\": {\"standoff\": 15}, \"zerolinecolor\": \"white\", \"zerolinewidth\": 2}, \"yaxis\": {\"automargin\": true, \"gridcolor\": \"white\", \"linecolor\": \"white\", \"ticks\": \"\", \"title\": {\"standoff\": 15}, \"zerolinecolor\": \"white\", \"zerolinewidth\": 2}}}, \"title\": {\"text\": \"GW/Control Test p=8.60e-01\"}, \"xaxis\": {\"title\": {\"text\": \"\"}}, \"yaxis\": {\"gridcolor\": \"rgb(255, 255, 255)\", \"gridwidth\": 1, \"range\": [24.37475535487681, 229.95000000000002], \"title\": {\"text\": \"\"}, \"zerolinecolor\": \"rgb(255, 255, 255)\", \"zerolinewidth\": 2}},\n",
       "                        {\"responsive\": true}\n",
       "                    ).then(function(){\n",
       "                            \n",
       "var gd = document.getElementById('9e3bbd87-1c1b-45d9-9ffd-ae85bc2bcf69');\n",
       "var x = new MutationObserver(function (mutations, observer) {{\n",
       "        var display = window.getComputedStyle(gd).display;\n",
       "        if (!display || display === 'none') {{\n",
       "            console.log([gd, 'removed!']);\n",
       "            Plotly.purge(gd);\n",
       "            observer.disconnect();\n",
       "        }}\n",
       "}});\n",
       "\n",
       "// Listen for the removal of the full notebook cells\n",
       "var notebookContainer = gd.closest('#notebook-container');\n",
       "if (notebookContainer) {{\n",
       "    x.observe(notebookContainer, {childList: true});\n",
       "}}\n",
       "\n",
       "// Listen for the clearing of the current output cell\n",
       "var outputEl = gd.closest('.output');\n",
       "if (outputEl) {{\n",
       "    x.observe(outputEl, {childList: true});\n",
       "}}\n",
       "\n",
       "                        })\n",
       "                };\n",
       "                });\n",
       "            </script>\n",
       "        </div>"
      ]
     },
     "metadata": {},
     "output_type": "display_data"
    }
   ],
   "source": [
    "#GW/Control\n",
    "gw_y=[42, 219, 73, 102, 108]\n",
    "control_y = [136, 124, 83, 84, 91]\n",
    "\n",
    "tstat, pvalue = ttest_ind_from_stats(np.mean(gw_y), np.std(gw_y), len(gw_y), np.mean(control_y), np.std(control_y), len(control_y))\n",
    "\n",
    "fig = plotly_utils.plot_point_box_revised(['GW', 'Control'], [gw_y, control_y], title='GW/Control Test p={:.2e}'.format(pvalue), width=500, height=500)\n",
    "#saving_utils.save_plotly_fig(fig, 'insert path', width=500, height=500)\n",
    "offline.iplot(fig)\n",
    "#offline.iplot(go.FigureWidget(fig))"
   ]
  },
  {
   "cell_type": "code",
   "execution_count": 7,
   "metadata": {
    "scrolled": true
   },
   "outputs": [
    {
     "name": "stdout",
     "output_type": "stream",
     "text": [
      "2.22\n",
      "2.22\n"
     ]
    },
    {
     "data": {
      "application/vnd.plotly.v1+json": {
       "config": {
        "linkText": "Export to plot.ly",
        "plotlyServerURL": "https://plot.ly",
        "showLink": false
       },
       "data": [
        {
         "boxpoints": "all",
         "fillcolor": "rgba(0,0,0,0)",
         "jitter": 0.15,
         "line": {
          "color": "rgba(0,0,0,0)"
         },
         "marker": {
          "color": "rgb(66,244,143)",
          "size": 7
         },
         "name": "Contralateral",
         "pointpos": 0,
         "type": "box",
         "uid": "cdda1f7b-7f05-4515-8cc5-792ae7909344",
         "whiskerwidth": 0.2,
         "y": [
          130,
          101,
          50,
          33,
          54
         ]
        },
        {
         "boxpoints": "all",
         "fillcolor": "rgba(0,0,0,0)",
         "jitter": 0.15,
         "line": {
          "color": "rgba(0,0,0,0)"
         },
         "marker": {
          "color": "rgb(66,167,244)",
          "size": 7
         },
         "name": "Ipsilateral",
         "pointpos": 0,
         "type": "box",
         "uid": "9de5c265-8b62-40af-90ea-f9c5564869c0",
         "whiskerwidth": 0.2,
         "y": [
          54,
          133,
          87,
          75,
          144
         ]
        }
       ],
       "layout": {
        "boxgap": 0,
        "margin": {
         "b": 100,
         "l": 100,
         "r": 30,
         "t": 100
        },
        "paper_bgcolor": "rgb(255, 255, 255)",
        "plot_bgcolor": "rgb(255, 255, 255)",
        "shapes": [
         {
          "line": {
           "color": "black",
           "width": 1.5
          },
          "opacity": 0.7,
          "type": "line",
          "x0": -0.02,
          "x1": 0.02,
          "y0": 23.4653654797906,
          "y1": 23.4653654797906
         },
         {
          "line": {
           "color": "black",
           "width": 1.5
          },
          "opacity": 0.7,
          "type": "line",
          "x0": -0.02,
          "x1": 0.02,
          "y0": 123.7346345202094,
          "y1": 123.7346345202094
         },
         {
          "line": {
           "color": "black",
           "width": 1.5
          },
          "opacity": 0.7,
          "type": "line",
          "x0": 0,
          "x1": 0,
          "y0": 23.4653654797906,
          "y1": 123.7346345202094
         },
         {
          "fillcolor": "rgb(66,244,143)",
          "line": {
           "color": "black",
           "width": 1.5
          },
          "path": " M -0.02 73.6 L 0 71.38 L 0.02 73.6 L 0 75.82 Z",
          "type": "path"
         },
         {
          "line": {
           "color": "black",
           "width": 1.5
          },
          "opacity": 0.7,
          "type": "line",
          "x0": 0.98,
          "x1": 1.02,
          "y0": 50.81125775567949,
          "y1": 50.81125775567949
         },
         {
          "line": {
           "color": "black",
           "width": 1.5
          },
          "opacity": 0.7,
          "type": "line",
          "x0": 0.98,
          "x1": 1.02,
          "y0": 146.3887422443205,
          "y1": 146.3887422443205
         },
         {
          "line": {
           "color": "black",
           "width": 1.5
          },
          "opacity": 0.7,
          "type": "line",
          "x0": 1,
          "x1": 1,
          "y0": 50.81125775567949,
          "y1": 146.3887422443205
         },
         {
          "fillcolor": "rgb(66,167,244)",
          "line": {
           "color": "black",
           "width": 1.5
          },
          "path": " M 0.98 98.6 L 1 96.38 L 1.02 98.6 L 1 100.82 Z",
          "type": "path"
         }
        ],
        "showlegend": false,
        "title": {
         "text": "Contralateral/Ipsilateral p=2.95e-01"
        },
        "xaxis": {
         "title": {
          "text": ""
         }
        },
        "yaxis": {
         "gridcolor": "rgb(255, 255, 255)",
         "gridwidth": 1,
         "title": {
          "text": ""
         },
         "zerolinecolor": "rgb(255, 255, 255)",
         "zerolinewidth": 2
        }
       }
      },
      "text/html": [
       "<div id=\"96fb7ff8-ec17-42c3-b277-92b97f9d98d6\" style=\"height: 525px; width: 100%;\" class=\"plotly-graph-div\"></div><script type=\"text/javascript\">require([\"plotly\"], function(Plotly) { window.PLOTLYENV=window.PLOTLYENV || {};window.PLOTLYENV.BASE_URL=\"https://plot.ly\";Plotly.newPlot(\"96fb7ff8-ec17-42c3-b277-92b97f9d98d6\", [{\"boxpoints\": \"all\", \"fillcolor\": \"rgba(0,0,0,0)\", \"jitter\": 0.15, \"line\": {\"color\": \"rgba(0,0,0,0)\"}, \"marker\": {\"color\": \"rgb(66,244,143)\", \"size\": 7}, \"name\": \"Contralateral\", \"pointpos\": 0, \"whiskerwidth\": 0.2, \"y\": [130, 101, 50, 33, 54], \"type\": \"box\", \"uid\": \"cdda1f7b-7f05-4515-8cc5-792ae7909344\"}, {\"boxpoints\": \"all\", \"fillcolor\": \"rgba(0,0,0,0)\", \"jitter\": 0.15, \"line\": {\"color\": \"rgba(0,0,0,0)\"}, \"marker\": {\"color\": \"rgb(66,167,244)\", \"size\": 7}, \"name\": \"Ipsilateral\", \"pointpos\": 0, \"whiskerwidth\": 0.2, \"y\": [54, 133, 87, 75, 144], \"type\": \"box\", \"uid\": \"9de5c265-8b62-40af-90ea-f9c5564869c0\"}], {\"boxgap\": 0, \"margin\": {\"b\": 100, \"l\": 100, \"r\": 30, \"t\": 100}, \"paper_bgcolor\": \"rgb(255, 255, 255)\", \"plot_bgcolor\": \"rgb(255, 255, 255)\", \"shapes\": [{\"line\": {\"color\": \"black\", \"width\": 1.5}, \"opacity\": 0.7, \"type\": \"line\", \"x0\": -0.02, \"x1\": 0.02, \"y0\": 23.4653654797906, \"y1\": 23.4653654797906}, {\"line\": {\"color\": \"black\", \"width\": 1.5}, \"opacity\": 0.7, \"type\": \"line\", \"x0\": -0.02, \"x1\": 0.02, \"y0\": 123.7346345202094, \"y1\": 123.7346345202094}, {\"line\": {\"color\": \"black\", \"width\": 1.5}, \"opacity\": 0.7, \"type\": \"line\", \"x0\": 0, \"x1\": 0, \"y0\": 23.4653654797906, \"y1\": 123.7346345202094}, {\"fillcolor\": \"rgb(66,244,143)\", \"line\": {\"color\": \"black\", \"width\": 1.5}, \"path\": \" M -0.02 73.6 L 0 71.38 L 0.02 73.6 L 0 75.82 Z\", \"type\": \"path\"}, {\"line\": {\"color\": \"black\", \"width\": 1.5}, \"opacity\": 0.7, \"type\": \"line\", \"x0\": 0.98, \"x1\": 1.02, \"y0\": 50.81125775567949, \"y1\": 50.81125775567949}, {\"line\": {\"color\": \"black\", \"width\": 1.5}, \"opacity\": 0.7, \"type\": \"line\", \"x0\": 0.98, \"x1\": 1.02, \"y0\": 146.3887422443205, \"y1\": 146.3887422443205}, {\"line\": {\"color\": \"black\", \"width\": 1.5}, \"opacity\": 0.7, \"type\": \"line\", \"x0\": 1, \"x1\": 1, \"y0\": 50.81125775567949, \"y1\": 146.3887422443205}, {\"fillcolor\": \"rgb(66,167,244)\", \"line\": {\"color\": \"black\", \"width\": 1.5}, \"path\": \" M 0.98 98.6 L 1 96.38 L 1.02 98.6 L 1 100.82 Z\", \"type\": \"path\"}], \"showlegend\": false, \"title\": {\"text\": \"Contralateral/Ipsilateral p=2.95e-01\"}, \"xaxis\": {\"title\": {\"text\": \"\"}}, \"yaxis\": {\"gridcolor\": \"rgb(255, 255, 255)\", \"gridwidth\": 1, \"title\": {\"text\": \"\"}, \"zerolinecolor\": \"rgb(255, 255, 255)\", \"zerolinewidth\": 2}}, {\"showLink\": false, \"linkText\": \"Export to plot.ly\", \"plotlyServerURL\": \"https://plot.ly\"})});</script><script type=\"text/javascript\">window.addEventListener(\"resize\", function(){window._Plotly.Plots.resize(document.getElementById(\"96fb7ff8-ec17-42c3-b277-92b97f9d98d6\"));});</script>"
      ],
      "text/vnd.plotly.v1+html": [
       "<div id=\"96fb7ff8-ec17-42c3-b277-92b97f9d98d6\" style=\"height: 525px; width: 100%;\" class=\"plotly-graph-div\"></div><script type=\"text/javascript\">require([\"plotly\"], function(Plotly) { window.PLOTLYENV=window.PLOTLYENV || {};window.PLOTLYENV.BASE_URL=\"https://plot.ly\";Plotly.newPlot(\"96fb7ff8-ec17-42c3-b277-92b97f9d98d6\", [{\"boxpoints\": \"all\", \"fillcolor\": \"rgba(0,0,0,0)\", \"jitter\": 0.15, \"line\": {\"color\": \"rgba(0,0,0,0)\"}, \"marker\": {\"color\": \"rgb(66,244,143)\", \"size\": 7}, \"name\": \"Contralateral\", \"pointpos\": 0, \"whiskerwidth\": 0.2, \"y\": [130, 101, 50, 33, 54], \"type\": \"box\", \"uid\": \"cdda1f7b-7f05-4515-8cc5-792ae7909344\"}, {\"boxpoints\": \"all\", \"fillcolor\": \"rgba(0,0,0,0)\", \"jitter\": 0.15, \"line\": {\"color\": \"rgba(0,0,0,0)\"}, \"marker\": {\"color\": \"rgb(66,167,244)\", \"size\": 7}, \"name\": \"Ipsilateral\", \"pointpos\": 0, \"whiskerwidth\": 0.2, \"y\": [54, 133, 87, 75, 144], \"type\": \"box\", \"uid\": \"9de5c265-8b62-40af-90ea-f9c5564869c0\"}], {\"boxgap\": 0, \"margin\": {\"b\": 100, \"l\": 100, \"r\": 30, \"t\": 100}, \"paper_bgcolor\": \"rgb(255, 255, 255)\", \"plot_bgcolor\": \"rgb(255, 255, 255)\", \"shapes\": [{\"line\": {\"color\": \"black\", \"width\": 1.5}, \"opacity\": 0.7, \"type\": \"line\", \"x0\": -0.02, \"x1\": 0.02, \"y0\": 23.4653654797906, \"y1\": 23.4653654797906}, {\"line\": {\"color\": \"black\", \"width\": 1.5}, \"opacity\": 0.7, \"type\": \"line\", \"x0\": -0.02, \"x1\": 0.02, \"y0\": 123.7346345202094, \"y1\": 123.7346345202094}, {\"line\": {\"color\": \"black\", \"width\": 1.5}, \"opacity\": 0.7, \"type\": \"line\", \"x0\": 0, \"x1\": 0, \"y0\": 23.4653654797906, \"y1\": 123.7346345202094}, {\"fillcolor\": \"rgb(66,244,143)\", \"line\": {\"color\": \"black\", \"width\": 1.5}, \"path\": \" M -0.02 73.6 L 0 71.38 L 0.02 73.6 L 0 75.82 Z\", \"type\": \"path\"}, {\"line\": {\"color\": \"black\", \"width\": 1.5}, \"opacity\": 0.7, \"type\": \"line\", \"x0\": 0.98, \"x1\": 1.02, \"y0\": 50.81125775567949, \"y1\": 50.81125775567949}, {\"line\": {\"color\": \"black\", \"width\": 1.5}, \"opacity\": 0.7, \"type\": \"line\", \"x0\": 0.98, \"x1\": 1.02, \"y0\": 146.3887422443205, \"y1\": 146.3887422443205}, {\"line\": {\"color\": \"black\", \"width\": 1.5}, \"opacity\": 0.7, \"type\": \"line\", \"x0\": 1, \"x1\": 1, \"y0\": 50.81125775567949, \"y1\": 146.3887422443205}, {\"fillcolor\": \"rgb(66,167,244)\", \"line\": {\"color\": \"black\", \"width\": 1.5}, \"path\": \" M 0.98 98.6 L 1 96.38 L 1.02 98.6 L 1 100.82 Z\", \"type\": \"path\"}], \"showlegend\": false, \"title\": {\"text\": \"Contralateral/Ipsilateral p=2.95e-01\"}, \"xaxis\": {\"title\": {\"text\": \"\"}}, \"yaxis\": {\"gridcolor\": \"rgb(255, 255, 255)\", \"gridwidth\": 1, \"title\": {\"text\": \"\"}, \"zerolinecolor\": \"rgb(255, 255, 255)\", \"zerolinewidth\": 2}}, {\"showLink\": false, \"linkText\": \"Export to plot.ly\", \"plotlyServerURL\": \"https://plot.ly\"})});</script><script type=\"text/javascript\">window.addEventListener(\"resize\", function(){window._Plotly.Plots.resize(document.getElementById(\"96fb7ff8-ec17-42c3-b277-92b97f9d98d6\"));});</script>"
      ]
     },
     "metadata": {},
     "output_type": "display_data"
    }
   ],
   "source": [
    "contralateral = [130, 101, 50, 33, 54]\n",
    "ipsilateral = [54, 133, 87, 75, 144]\n",
    "\n",
    "tstat, pvalue = ttest_ind_from_stats(np.mean(contralateral), np.std(contralateral), len(contralateral), \n",
    "                                     np.mean(ipsilateral), np.std(ipsilateral), len(ipsilateral))\n",
    "\n",
    "point_box_2 = plotly_utils.plot_point_box_revised(['Contralateral', 'Ipsilateral'], [contralateral, ipsilateral], title='Contralateral/Ipsilateral p={:.2e}'.format(pvalue), width=500, height=500)\n",
    "saving_utils.save_plotly_fig(point_box_2, os.path.join(base_path,'contralateral_ipsilateral'), width=500, height=500)\n",
    "\n",
    "offline.iplot(point_box_2)"
   ]
  },
  {
   "cell_type": "code",
   "execution_count": 8,
   "metadata": {},
   "outputs": [
    {
     "name": "stdout",
     "output_type": "stream",
     "text": [
      "0.6776062133333334\n",
      "0.6776062133333334\n",
      "0.6776062133333334\n"
     ]
    },
    {
     "data": {
      "application/vnd.plotly.v1+json": {
       "config": {
        "linkText": "Export to plot.ly",
        "plotlyServerURL": "https://plot.ly",
        "showLink": false
       },
       "data": [
        {
         "boxpoints": "all",
         "fillcolor": "rgba(0,0,0,0)",
         "jitter": 0.15,
         "line": {
          "color": "rgba(0,0,0,0)"
         },
         "marker": {
          "color": "rgb(66,244,143)",
          "size": 7
         },
         "name": "1h background",
         "pointpos": 0,
         "type": "box",
         "uid": "f704deff-f67c-48ef-b3b1-615abf19bf19",
         "whiskerwidth": 0.2,
         "y": [
          9.4,
          7.8,
          7.645113,
          7.506638,
          6.388628,
          5.879534,
          6.30877,
          10.17189,
          8.694524,
          11.10024
         ]
        },
        {
         "boxpoints": "all",
         "fillcolor": "rgba(0,0,0,0)",
         "jitter": 0.15,
         "line": {
          "color": "rgba(0,0,0,0)"
         },
         "marker": {
          "color": "rgb(66,167,244)",
          "size": 7
         },
         "name": "10d background",
         "pointpos": 0,
         "type": "box",
         "uid": "060cb11a-798b-401e-9b4b-d29e5d1427c0",
         "whiskerwidth": 0.2,
         "y": [
          13.7,
          8.747743,
          23.88229,
          21.5893,
          16.30327,
          13.2,
          24.9,
          25.6,
          19.4,
          25.4,
          18.7,
          23.4
         ]
        },
        {
         "boxpoints": "all",
         "fillcolor": "rgba(0,0,0,0)",
         "jitter": 0.15,
         "line": {
          "color": "rgba(0,0,0,0)"
         },
         "marker": {
          "color": "rgb(244,66,167)",
          "size": 7
         },
         "name": "Cell body",
         "pointpos": 0,
         "type": "box",
         "uid": "74418c2d-ddee-4187-afd5-0c76994ce4da",
         "whiskerwidth": 0.2,
         "y": [
          31.19128,
          41,
          29,
          26.90802,
          36.84701,
          53.33333,
          32.27459,
          56.7,
          32.7,
          41.9,
          38.1,
          36,
          46.1,
          39,
          56.2
         ]
        }
       ],
       "layout": {
        "boxgap": 0,
        "margin": {
         "b": 100,
         "l": 100,
         "r": 30,
         "t": 100
        },
        "paper_bgcolor": "rgb(255, 255, 255)",
        "plot_bgcolor": "rgb(255, 255, 255)",
        "shapes": [
         {
          "line": {
           "color": "black",
           "width": 1.5
          },
          "opacity": 0.7,
          "type": "line",
          "x0": -0.02,
          "x1": 0.02,
          "y0": 6.8492768114378055,
          "y1": 6.8492768114378055
         },
         {
          "line": {
           "color": "black",
           "width": 1.5
          },
          "opacity": 0.7,
          "type": "line",
          "x0": -0.02,
          "x1": 0.02,
          "y0": 9.329790588562195,
          "y1": 9.329790588562195
         },
         {
          "line": {
           "color": "black",
           "width": 1.5
          },
          "opacity": 0.7,
          "type": "line",
          "x0": 0,
          "x1": 0,
          "y0": 6.8492768114378055,
          "y1": 9.329790588562195
         },
         {
          "fillcolor": "rgb(66,244,143)",
          "line": {
           "color": "black",
           "width": 1.5
          },
          "path": " M -0.02 8.0895337 L 0 7.411927486666667 L 0.02 8.0895337 L 0 8.767139913333335 Z",
          "type": "path"
         },
         {
          "line": {
           "color": "black",
           "width": 1.5
          },
          "opacity": 0.7,
          "type": "line",
          "x0": 0.98,
          "x1": 1.02,
          "y0": 16.037641740204254,
          "y1": 16.037641740204254
         },
         {
          "line": {
           "color": "black",
           "width": 1.5
          },
          "opacity": 0.7,
          "type": "line",
          "x0": 0.98,
          "x1": 1.02,
          "y0": 23.09945875979575,
          "y1": 23.09945875979575
         },
         {
          "line": {
           "color": "black",
           "width": 1.5
          },
          "opacity": 0.7,
          "type": "line",
          "x0": 1,
          "x1": 1,
          "y0": 16.037641740204254,
          "y1": 23.09945875979575
         },
         {
          "fillcolor": "rgb(66,167,244)",
          "line": {
           "color": "black",
           "width": 1.5
          },
          "path": " M 0.98 19.56855025 L 1 18.890944036666667 L 1.02 19.56855025 L 1 20.246156463333335 Z",
          "type": "path"
         },
         {
          "line": {
           "color": "black",
           "width": 1.5
          },
          "opacity": 0.7,
          "type": "line",
          "x0": 1.98,
          "x1": 2.02,
          "y0": 34.53432998140932,
          "y1": 34.53432998140932
         },
         {
          "line": {
           "color": "black",
           "width": 1.5
          },
          "opacity": 0.7,
          "type": "line",
          "x0": 1.98,
          "x1": 2.02,
          "y0": 45.099567351924016,
          "y1": 45.099567351924016
         },
         {
          "line": {
           "color": "black",
           "width": 1.5
          },
          "opacity": 0.7,
          "type": "line",
          "x0": 2,
          "x1": 2,
          "y0": 34.53432998140932,
          "y1": 45.099567351924016
         },
         {
          "fillcolor": "rgb(244,66,167)",
          "line": {
           "color": "black",
           "width": 1.5
          },
          "path": " M 1.98 39.81694866666667 L 2 39.139342453333335 L 2.02 39.81694866666667 L 2 40.49455488 Z",
          "type": "path"
         }
        ],
        "showlegend": false,
        "title": {
         "text": "Capsid density"
        },
        "xaxis": {
         "title": {
          "text": ""
         }
        },
        "yaxis": {
         "gridcolor": "rgb(255, 255, 255)",
         "gridwidth": 1,
         "title": {
          "text": ""
         },
         "zerolinecolor": "rgb(255, 255, 255)",
         "zerolinewidth": 2
        }
       }
      },
      "text/html": [
       "<div id=\"8da8d4a5-7273-4187-9dbd-c2fc0877b4c7\" style=\"height: 525px; width: 100%;\" class=\"plotly-graph-div\"></div><script type=\"text/javascript\">require([\"plotly\"], function(Plotly) { window.PLOTLYENV=window.PLOTLYENV || {};window.PLOTLYENV.BASE_URL=\"https://plot.ly\";Plotly.newPlot(\"8da8d4a5-7273-4187-9dbd-c2fc0877b4c7\", [{\"boxpoints\": \"all\", \"fillcolor\": \"rgba(0,0,0,0)\", \"jitter\": 0.15, \"line\": {\"color\": \"rgba(0,0,0,0)\"}, \"marker\": {\"color\": \"rgb(66,244,143)\", \"size\": 7}, \"name\": \"1h background\", \"pointpos\": 0, \"whiskerwidth\": 0.2, \"y\": [9.4, 7.8, 7.645113, 7.506638, 6.388628, 5.879534, 6.30877, 10.17189, 8.694524, 11.10024], \"type\": \"box\", \"uid\": \"f704deff-f67c-48ef-b3b1-615abf19bf19\"}, {\"boxpoints\": \"all\", \"fillcolor\": \"rgba(0,0,0,0)\", \"jitter\": 0.15, \"line\": {\"color\": \"rgba(0,0,0,0)\"}, \"marker\": {\"color\": \"rgb(66,167,244)\", \"size\": 7}, \"name\": \"10d background\", \"pointpos\": 0, \"whiskerwidth\": 0.2, \"y\": [13.7, 8.747743, 23.88229, 21.5893, 16.30327, 13.2, 24.9, 25.6, 19.4, 25.4, 18.7, 23.4], \"type\": \"box\", \"uid\": \"060cb11a-798b-401e-9b4b-d29e5d1427c0\"}, {\"boxpoints\": \"all\", \"fillcolor\": \"rgba(0,0,0,0)\", \"jitter\": 0.15, \"line\": {\"color\": \"rgba(0,0,0,0)\"}, \"marker\": {\"color\": \"rgb(244,66,167)\", \"size\": 7}, \"name\": \"Cell body\", \"pointpos\": 0, \"whiskerwidth\": 0.2, \"y\": [31.19128, 41, 29, 26.90802, 36.84701, 53.33333, 32.27459, 56.7, 32.7, 41.9, 38.1, 36, 46.1, 39, 56.2], \"type\": \"box\", \"uid\": \"74418c2d-ddee-4187-afd5-0c76994ce4da\"}], {\"boxgap\": 0, \"margin\": {\"b\": 100, \"l\": 100, \"r\": 30, \"t\": 100}, \"paper_bgcolor\": \"rgb(255, 255, 255)\", \"plot_bgcolor\": \"rgb(255, 255, 255)\", \"shapes\": [{\"line\": {\"color\": \"black\", \"width\": 1.5}, \"opacity\": 0.7, \"type\": \"line\", \"x0\": -0.02, \"x1\": 0.02, \"y0\": 6.8492768114378055, \"y1\": 6.8492768114378055}, {\"line\": {\"color\": \"black\", \"width\": 1.5}, \"opacity\": 0.7, \"type\": \"line\", \"x0\": -0.02, \"x1\": 0.02, \"y0\": 9.329790588562195, \"y1\": 9.329790588562195}, {\"line\": {\"color\": \"black\", \"width\": 1.5}, \"opacity\": 0.7, \"type\": \"line\", \"x0\": 0, \"x1\": 0, \"y0\": 6.8492768114378055, \"y1\": 9.329790588562195}, {\"fillcolor\": \"rgb(66,244,143)\", \"line\": {\"color\": \"black\", \"width\": 1.5}, \"path\": \" M -0.02 8.0895337 L 0 7.411927486666667 L 0.02 8.0895337 L 0 8.767139913333335 Z\", \"type\": \"path\"}, {\"line\": {\"color\": \"black\", \"width\": 1.5}, \"opacity\": 0.7, \"type\": \"line\", \"x0\": 0.98, \"x1\": 1.02, \"y0\": 16.037641740204254, \"y1\": 16.037641740204254}, {\"line\": {\"color\": \"black\", \"width\": 1.5}, \"opacity\": 0.7, \"type\": \"line\", \"x0\": 0.98, \"x1\": 1.02, \"y0\": 23.09945875979575, \"y1\": 23.09945875979575}, {\"line\": {\"color\": \"black\", \"width\": 1.5}, \"opacity\": 0.7, \"type\": \"line\", \"x0\": 1, \"x1\": 1, \"y0\": 16.037641740204254, \"y1\": 23.09945875979575}, {\"fillcolor\": \"rgb(66,167,244)\", \"line\": {\"color\": \"black\", \"width\": 1.5}, \"path\": \" M 0.98 19.56855025 L 1 18.890944036666667 L 1.02 19.56855025 L 1 20.246156463333335 Z\", \"type\": \"path\"}, {\"line\": {\"color\": \"black\", \"width\": 1.5}, \"opacity\": 0.7, \"type\": \"line\", \"x0\": 1.98, \"x1\": 2.02, \"y0\": 34.53432998140932, \"y1\": 34.53432998140932}, {\"line\": {\"color\": \"black\", \"width\": 1.5}, \"opacity\": 0.7, \"type\": \"line\", \"x0\": 1.98, \"x1\": 2.02, \"y0\": 45.099567351924016, \"y1\": 45.099567351924016}, {\"line\": {\"color\": \"black\", \"width\": 1.5}, \"opacity\": 0.7, \"type\": \"line\", \"x0\": 2, \"x1\": 2, \"y0\": 34.53432998140932, \"y1\": 45.099567351924016}, {\"fillcolor\": \"rgb(244,66,167)\", \"line\": {\"color\": \"black\", \"width\": 1.5}, \"path\": \" M 1.98 39.81694866666667 L 2 39.139342453333335 L 2.02 39.81694866666667 L 2 40.49455488 Z\", \"type\": \"path\"}], \"showlegend\": false, \"title\": {\"text\": \"Capsid density\"}, \"xaxis\": {\"title\": {\"text\": \"\"}}, \"yaxis\": {\"gridcolor\": \"rgb(255, 255, 255)\", \"gridwidth\": 1, \"title\": {\"text\": \"\"}, \"zerolinecolor\": \"rgb(255, 255, 255)\", \"zerolinewidth\": 2}}, {\"showLink\": false, \"linkText\": \"Export to plot.ly\", \"plotlyServerURL\": \"https://plot.ly\"})});</script><script type=\"text/javascript\">window.addEventListener(\"resize\", function(){window._Plotly.Plots.resize(document.getElementById(\"8da8d4a5-7273-4187-9dbd-c2fc0877b4c7\"));});</script>"
      ],
      "text/vnd.plotly.v1+html": [
       "<div id=\"8da8d4a5-7273-4187-9dbd-c2fc0877b4c7\" style=\"height: 525px; width: 100%;\" class=\"plotly-graph-div\"></div><script type=\"text/javascript\">require([\"plotly\"], function(Plotly) { window.PLOTLYENV=window.PLOTLYENV || {};window.PLOTLYENV.BASE_URL=\"https://plot.ly\";Plotly.newPlot(\"8da8d4a5-7273-4187-9dbd-c2fc0877b4c7\", [{\"boxpoints\": \"all\", \"fillcolor\": \"rgba(0,0,0,0)\", \"jitter\": 0.15, \"line\": {\"color\": \"rgba(0,0,0,0)\"}, \"marker\": {\"color\": \"rgb(66,244,143)\", \"size\": 7}, \"name\": \"1h background\", \"pointpos\": 0, \"whiskerwidth\": 0.2, \"y\": [9.4, 7.8, 7.645113, 7.506638, 6.388628, 5.879534, 6.30877, 10.17189, 8.694524, 11.10024], \"type\": \"box\", \"uid\": \"f704deff-f67c-48ef-b3b1-615abf19bf19\"}, {\"boxpoints\": \"all\", \"fillcolor\": \"rgba(0,0,0,0)\", \"jitter\": 0.15, \"line\": {\"color\": \"rgba(0,0,0,0)\"}, \"marker\": {\"color\": \"rgb(66,167,244)\", \"size\": 7}, \"name\": \"10d background\", \"pointpos\": 0, \"whiskerwidth\": 0.2, \"y\": [13.7, 8.747743, 23.88229, 21.5893, 16.30327, 13.2, 24.9, 25.6, 19.4, 25.4, 18.7, 23.4], \"type\": \"box\", \"uid\": \"060cb11a-798b-401e-9b4b-d29e5d1427c0\"}, {\"boxpoints\": \"all\", \"fillcolor\": \"rgba(0,0,0,0)\", \"jitter\": 0.15, \"line\": {\"color\": \"rgba(0,0,0,0)\"}, \"marker\": {\"color\": \"rgb(244,66,167)\", \"size\": 7}, \"name\": \"Cell body\", \"pointpos\": 0, \"whiskerwidth\": 0.2, \"y\": [31.19128, 41, 29, 26.90802, 36.84701, 53.33333, 32.27459, 56.7, 32.7, 41.9, 38.1, 36, 46.1, 39, 56.2], \"type\": \"box\", \"uid\": \"74418c2d-ddee-4187-afd5-0c76994ce4da\"}], {\"boxgap\": 0, \"margin\": {\"b\": 100, \"l\": 100, \"r\": 30, \"t\": 100}, \"paper_bgcolor\": \"rgb(255, 255, 255)\", \"plot_bgcolor\": \"rgb(255, 255, 255)\", \"shapes\": [{\"line\": {\"color\": \"black\", \"width\": 1.5}, \"opacity\": 0.7, \"type\": \"line\", \"x0\": -0.02, \"x1\": 0.02, \"y0\": 6.8492768114378055, \"y1\": 6.8492768114378055}, {\"line\": {\"color\": \"black\", \"width\": 1.5}, \"opacity\": 0.7, \"type\": \"line\", \"x0\": -0.02, \"x1\": 0.02, \"y0\": 9.329790588562195, \"y1\": 9.329790588562195}, {\"line\": {\"color\": \"black\", \"width\": 1.5}, \"opacity\": 0.7, \"type\": \"line\", \"x0\": 0, \"x1\": 0, \"y0\": 6.8492768114378055, \"y1\": 9.329790588562195}, {\"fillcolor\": \"rgb(66,244,143)\", \"line\": {\"color\": \"black\", \"width\": 1.5}, \"path\": \" M -0.02 8.0895337 L 0 7.411927486666667 L 0.02 8.0895337 L 0 8.767139913333335 Z\", \"type\": \"path\"}, {\"line\": {\"color\": \"black\", \"width\": 1.5}, \"opacity\": 0.7, \"type\": \"line\", \"x0\": 0.98, \"x1\": 1.02, \"y0\": 16.037641740204254, \"y1\": 16.037641740204254}, {\"line\": {\"color\": \"black\", \"width\": 1.5}, \"opacity\": 0.7, \"type\": \"line\", \"x0\": 0.98, \"x1\": 1.02, \"y0\": 23.09945875979575, \"y1\": 23.09945875979575}, {\"line\": {\"color\": \"black\", \"width\": 1.5}, \"opacity\": 0.7, \"type\": \"line\", \"x0\": 1, \"x1\": 1, \"y0\": 16.037641740204254, \"y1\": 23.09945875979575}, {\"fillcolor\": \"rgb(66,167,244)\", \"line\": {\"color\": \"black\", \"width\": 1.5}, \"path\": \" M 0.98 19.56855025 L 1 18.890944036666667 L 1.02 19.56855025 L 1 20.246156463333335 Z\", \"type\": \"path\"}, {\"line\": {\"color\": \"black\", \"width\": 1.5}, \"opacity\": 0.7, \"type\": \"line\", \"x0\": 1.98, \"x1\": 2.02, \"y0\": 34.53432998140932, \"y1\": 34.53432998140932}, {\"line\": {\"color\": \"black\", \"width\": 1.5}, \"opacity\": 0.7, \"type\": \"line\", \"x0\": 1.98, \"x1\": 2.02, \"y0\": 45.099567351924016, \"y1\": 45.099567351924016}, {\"line\": {\"color\": \"black\", \"width\": 1.5}, \"opacity\": 0.7, \"type\": \"line\", \"x0\": 2, \"x1\": 2, \"y0\": 34.53432998140932, \"y1\": 45.099567351924016}, {\"fillcolor\": \"rgb(244,66,167)\", \"line\": {\"color\": \"black\", \"width\": 1.5}, \"path\": \" M 1.98 39.81694866666667 L 2 39.139342453333335 L 2.02 39.81694866666667 L 2 40.49455488 Z\", \"type\": \"path\"}], \"showlegend\": false, \"title\": {\"text\": \"Capsid density\"}, \"xaxis\": {\"title\": {\"text\": \"\"}}, \"yaxis\": {\"gridcolor\": \"rgb(255, 255, 255)\", \"gridwidth\": 1, \"title\": {\"text\": \"\"}, \"zerolinecolor\": \"rgb(255, 255, 255)\", \"zerolinewidth\": 2}}, {\"showLink\": false, \"linkText\": \"Export to plot.ly\", \"plotlyServerURL\": \"https://plot.ly\"})});</script><script type=\"text/javascript\">window.addEventListener(\"resize\", function(){window._Plotly.Plots.resize(document.getElementById(\"8da8d4a5-7273-4187-9dbd-c2fc0877b4c7\"));});</script>"
      ]
     },
     "metadata": {},
     "output_type": "display_data"
    }
   ],
   "source": [
    "hour_1 = [9.4, 7.8, 7.645113, 7.506638, 6.388628, 5.879534, 6.30877, 10.17189, 8.694524, 11.10024]\n",
    "day_10 = [13.7, 8.747743, 23.88229, 21.5893, 16.30327, 13.2, 24.9, 25.6, 19.4, 25.4, 18.7, 23.4]\n",
    "cell_body = [31.19128, 41, 29, 26.90802, 36.84701, 53.33333, 32.27459, 56.7, 32.7, 41.9, 38.1, 36, 46.1, 39, 56.2]\n",
    "\n",
    "\n",
    "point_box_3 = plotly_utils.plot_point_box_revised(['1h background', '10d background', 'Cell body'], [hour_1, day_10, cell_body], title='Capsid density'.format(pvalue), width=500, height=500)\n",
    "saving_utils.save_plotly_fig(point_box_3, os.path.join(base_path, 'capsid_density'), width=500, height=500)\n",
    "offline.iplot(point_box_3)"
   ]
  }
 ],
 "metadata": {
  "kernelspec": {
   "display_name": "Python 3",
   "language": "python",
   "name": "python3"
  },
  "language_info": {
   "codemirror_mode": {
    "name": "ipython",
    "version": 3
   },
   "file_extension": ".py",
   "mimetype": "text/x-python",
   "name": "python",
   "nbconvert_exporter": "python",
   "pygments_lexer": "ipython3",
   "version": "3.7.0"
  }
 },
 "nbformat": 4,
 "nbformat_minor": 2
}
