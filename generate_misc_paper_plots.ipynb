{
 "cells": [
  {
   "cell_type": "code",
   "execution_count": null,
   "source": [
    "import numpy as np\n",
    "from analysis import AstrocyteAnalyzer\n",
    "from analysis import AstrocytePlotter\n",
    "from importlib import reload  # Python 3.4+ only\n",
    "AstrocyteAnalyzer = reload(AstrocyteAnalyzer)\n",
    "AstrocytePlotter = reload(AstrocytePlotter)\n",
    "import os, sys, glob\n",
    "import plotly.offline as offline\n",
    "from preprocessing import analysis_pp\n",
    "from analysis.general_utils import aqua_utils, saving_utils, plotly_utils, general_utils, compare_astro_utils, correlation_utils, duration_utils, stat_utils\n",
    "import pandas as pd\n",
    "from scipy.stats import ttest_ind_from_stats\n",
    "\n",
    "analysis_pp = reload(analysis_pp)\n",
    "aqua_utils = reload(aqua_utils)\n",
    "plotly_utils = reload(plotly_utils)\n",
    "saving_utils = reload(saving_utils)\n",
    "duration_utils = reload(duration_utils)\n",
    "compare_astro_utils = reload(compare_astro_utils)\n",
    "correlation_utils = reload(correlation_utils)\n",
    "stat_utils = reload(stat_utils)"
   ],
   "outputs": [],
   "metadata": {}
  },
  {
   "cell_type": "code",
   "execution_count": null,
   "source": [
    "output_base_folder = '/Users/achilsleasgeorgiou/Desktop/data_output'\n",
    "output_folder = os.path.join(output_base_folder, 'misc') "
   ],
   "outputs": [],
   "metadata": {}
  },
  {
   "cell_type": "code",
   "execution_count": null,
   "source": [
    "#GW/Control\n",
    "gw_y=[42, 219, 73, 102, 108]\n",
    "control_y = [136, 124, 83, 84, 91]\n",
    "\n",
    "tstat, pvalue = ttest_ind_from_stats(np.mean(gw_y), np.std(gw_y), len(gw_y), np.mean(control_y), np.std(control_y), len(control_y))\n",
    "\n",
    "point_box = plotly_utils.plot_point_box_revised(['GW', 'Control'], [gw_y, control_y], title='GW/Control Test p={:.2e}'.format(pvalue), width=500, height=500)\n",
    "point_box.show('svg')\n",
    "\n",
    "saving_utils.dict_to_csv({'gw_y' : gw_y, 'control_y' : control_y}, 'gw_control_data', output_folder)"
   ],
   "outputs": [],
   "metadata": {}
  },
  {
   "cell_type": "code",
   "execution_count": 9,
   "source": [
    "contralateral = [130, 101, 50, 33, 54]\n",
    "ipsilateral = [54, 133, 87, 75, 144]\n",
    "\n",
    "tstat, pvalue = ttest_ind_from_stats(np.mean(contralateral), np.std(contralateral), len(contralateral), \n",
    "                                     np.mean(ipsilateral), np.std(ipsilateral), len(ipsilateral))\n",
    "\n",
    "point_box_2 = plotly_utils.plot_point_box_revised(['Contralateral', 'Ipsilateral'], [contralateral, ipsilateral], title='Contralateral/Ipsilateral p={:.2e}'.format(pvalue), width=500, height=500)\n",
    "\n",
    "point_box_2.show('svg')\n",
    "\n",
    "saving_utils.dict_to_csv({'contralateral' : contralateral, 'ipsilateral' : ipsilateral}, 'contralateral_ipsilateral_data', output_folder)"
   ],
   "outputs": [
    {
     "output_type": "display_data",
     "data": {
      "image/svg+xml": "<svg class=\"main-svg\" xmlns=\"http://www.w3.org/2000/svg\" xmlns:xlink=\"http://www.w3.org/1999/xlink\" width=\"700\" height=\"450\" style=\"\" viewBox=\"0 0 700 450\"><rect x=\"0\" y=\"0\" width=\"700\" height=\"450\" style=\"fill: rgb(255, 255, 255); fill-opacity: 1;\"/><defs id=\"defs-79751f\"><g class=\"clips\"><clipPath id=\"clip79751fxyplot\" class=\"plotclip\"><rect width=\"570\" height=\"250\"/></clipPath><clipPath class=\"axesclip\" id=\"clip79751fx\"><rect x=\"100\" y=\"0\" width=\"570\" height=\"450\"/></clipPath><clipPath class=\"axesclip\" id=\"clip79751fy\"><rect x=\"0\" y=\"100\" width=\"700\" height=\"250\"/></clipPath><clipPath class=\"axesclip\" id=\"clip79751fxy\"><rect x=\"100\" y=\"100\" width=\"570\" height=\"250\"/></clipPath></g><g class=\"gradients\"/></defs><g class=\"bglayer\"/><g class=\"layer-below\"><g class=\"imagelayer\"/><g class=\"shapelayer\"/></g><g class=\"cartesianlayer\"><g class=\"subplot xy\"><g class=\"layer-subplot\"><g class=\"shapelayer\"/><g class=\"imagelayer\"/></g><g class=\"gridlayer\"><g class=\"x\"/><g class=\"y\"><path class=\"ygrid crisp\" transform=\"translate(0,316.31)\" d=\"M100,0h570\" style=\"stroke: rgb(255, 255, 255); stroke-opacity: 1; stroke-width: 1px;\"/><path class=\"ygrid crisp\" transform=\"translate(0,278.27)\" d=\"M100,0h570\" style=\"stroke: rgb(255, 255, 255); stroke-opacity: 1; stroke-width: 1px;\"/><path class=\"ygrid crisp\" transform=\"translate(0,240.22)\" d=\"M100,0h570\" style=\"stroke: rgb(255, 255, 255); stroke-opacity: 1; stroke-width: 1px;\"/><path class=\"ygrid crisp\" transform=\"translate(0,202.17000000000002)\" d=\"M100,0h570\" style=\"stroke: rgb(255, 255, 255); stroke-opacity: 1; stroke-width: 1px;\"/><path class=\"ygrid crisp\" transform=\"translate(0,164.12)\" d=\"M100,0h570\" style=\"stroke: rgb(255, 255, 255); stroke-opacity: 1; stroke-width: 1px;\"/><path class=\"ygrid crisp\" transform=\"translate(0,126.08)\" d=\"M100,0h570\" style=\"stroke: rgb(255, 255, 255); stroke-opacity: 1; stroke-width: 1px;\"/></g></g><g class=\"zerolinelayer\"/><path class=\"xlines-below\"/><path class=\"ylines-below\"/><g class=\"overlines-below\"/><g class=\"xaxislayer-below\"/><g class=\"yaxislayer-below\"/><g class=\"overaxes-below\"/><g class=\"plot\" transform=\"translate(100, 100)\" clip-path=\"url('#clip79751fxyplot')\"><g class=\"boxlayer mlayer\"><g class=\"trace boxes\" style=\"opacity: 1;\"><path class=\"box\" d=\"M42.75,189.68H242.25M42.75,205.37H242.25V86.48H42.75ZM142.5,205.37V229.63M142.5,86.48V45.1M122.55,229.63H162.45M122.55,45.1H162.45\" style=\"vector-effect: non-scaling-stroke; stroke-width: 2px; stroke: rgb(0, 0, 0); stroke-opacity: 0; fill: rgb(0, 0, 0); fill-opacity: 0;\"/><g class=\"points\"><path class=\"point\" transform=\"translate(150.26,229.63)\" d=\"M3.5,0A3.5,3.5 0 1,1 0,-3.5A3.5,3.5 0 0,1 3.5,0Z\" style=\"opacity: 1; stroke-width: 0px; fill: rgb(66, 244, 143); fill-opacity: 1;\"/><path class=\"point\" transform=\"translate(132.96,197.29)\" d=\"M3.5,0A3.5,3.5 0 1,1 0,-3.5A3.5,3.5 0 0,1 3.5,0Z\" style=\"opacity: 1; stroke-width: 0px; fill: rgb(66, 244, 143); fill-opacity: 1;\"/><path class=\"point\" transform=\"translate(154.1,189.68)\" d=\"M3.5,0A3.5,3.5 0 1,1 0,-3.5A3.5,3.5 0 0,1 3.5,0Z\" style=\"opacity: 1; stroke-width: 0px; fill: rgb(66, 244, 143); fill-opacity: 1;\"/><path class=\"point\" transform=\"translate(129.84,100.27)\" d=\"M3.5,0A3.5,3.5 0 1,1 0,-3.5A3.5,3.5 0 0,1 3.5,0Z\" style=\"opacity: 1; stroke-width: 0px; fill: rgb(66, 244, 143); fill-opacity: 1;\"/><path class=\"point\" transform=\"translate(138.81,45.1)\" d=\"M3.5,0A3.5,3.5 0 1,1 0,-3.5A3.5,3.5 0 0,1 3.5,0Z\" style=\"opacity: 1; stroke-width: 0px; fill: rgb(66, 244, 143); fill-opacity: 1;\"/></g></g><g class=\"trace boxes\" style=\"opacity: 1;\"><path class=\"box\" d=\"M327.75,126.9H527.25M327.75,159.72H527.25V34.16H327.75ZM427.5,159.72V189.68M427.5,34.16V18.47M407.55,189.68H447.45M407.55,18.47H447.45\" style=\"vector-effect: non-scaling-stroke; stroke-width: 2px; stroke: rgb(0, 0, 0); stroke-opacity: 0; fill: rgb(0, 0, 0); fill-opacity: 0;\"/><g class=\"points\"><path class=\"point\" transform=\"translate(435.26,189.68)\" d=\"M3.5,0A3.5,3.5 0 1,1 0,-3.5A3.5,3.5 0 0,1 3.5,0Z\" style=\"opacity: 1; stroke-width: 0px; fill: rgb(66, 167, 244); fill-opacity: 1;\"/><path class=\"point\" transform=\"translate(417.96,149.73)\" d=\"M3.5,0A3.5,3.5 0 1,1 0,-3.5A3.5,3.5 0 0,1 3.5,0Z\" style=\"opacity: 1; stroke-width: 0px; fill: rgb(66, 167, 244); fill-opacity: 1;\"/><path class=\"point\" transform=\"translate(439.1,126.9)\" d=\"M3.5,0A3.5,3.5 0 1,1 0,-3.5A3.5,3.5 0 0,1 3.5,0Z\" style=\"opacity: 1; stroke-width: 0px; fill: rgb(66, 167, 244); fill-opacity: 1;\"/><path class=\"point\" transform=\"translate(414.84,39.39)\" d=\"M3.5,0A3.5,3.5 0 1,1 0,-3.5A3.5,3.5 0 0,1 3.5,0Z\" style=\"opacity: 1; stroke-width: 0px; fill: rgb(66, 167, 244); fill-opacity: 1;\"/><path class=\"point\" transform=\"translate(423.81,18.47)\" d=\"M3.5,0A3.5,3.5 0 1,1 0,-3.5A3.5,3.5 0 0,1 3.5,0Z\" style=\"opacity: 1; stroke-width: 0px; fill: rgb(66, 167, 244); fill-opacity: 1;\"/></g></g></g></g><g class=\"overplot\"/><path class=\"xlines-above crisp\" d=\"M0,0\" style=\"fill: none;\"/><path class=\"ylines-above crisp\" d=\"M0,0\" style=\"fill: none;\"/><g class=\"overlines-above\"/><g class=\"xaxislayer-above\"><g class=\"xtick\"><text text-anchor=\"middle\" x=\"0\" y=\"363\" transform=\"translate(242.5,0)\" style=\"font-family: 'Open Sans', verdana, arial, sans-serif; font-size: 12px; fill: rgb(42, 63, 95); fill-opacity: 1; white-space: pre;\">Contralateral</text></g><g class=\"xtick\"><text text-anchor=\"middle\" x=\"0\" y=\"363\" transform=\"translate(527.5,0)\" style=\"font-family: 'Open Sans', verdana, arial, sans-serif; font-size: 12px; fill: rgb(42, 63, 95); fill-opacity: 1; white-space: pre;\">Ipsilateral</text></g></g><g class=\"yaxislayer-above\"><g class=\"ytick\"><text text-anchor=\"end\" x=\"99\" y=\"4.199999999999999\" transform=\"translate(0,316.31)\" style=\"font-family: 'Open Sans', verdana, arial, sans-serif; font-size: 12px; fill: rgb(42, 63, 95); fill-opacity: 1; white-space: pre;\">40</text></g><g class=\"ytick\"><text text-anchor=\"end\" x=\"99\" y=\"4.199999999999999\" transform=\"translate(0,278.27)\" style=\"font-family: 'Open Sans', verdana, arial, sans-serif; font-size: 12px; fill: rgb(42, 63, 95); fill-opacity: 1; white-space: pre;\">60</text></g><g class=\"ytick\"><text text-anchor=\"end\" x=\"99\" y=\"4.199999999999999\" transform=\"translate(0,240.22)\" style=\"font-family: 'Open Sans', verdana, arial, sans-serif; font-size: 12px; fill: rgb(42, 63, 95); fill-opacity: 1; white-space: pre;\">80</text></g><g class=\"ytick\"><text text-anchor=\"end\" x=\"99\" y=\"4.199999999999999\" transform=\"translate(0,202.17000000000002)\" style=\"font-family: 'Open Sans', verdana, arial, sans-serif; font-size: 12px; fill: rgb(42, 63, 95); fill-opacity: 1; white-space: pre;\">100</text></g><g class=\"ytick\"><text text-anchor=\"end\" x=\"99\" y=\"4.199999999999999\" transform=\"translate(0,164.12)\" style=\"font-family: 'Open Sans', verdana, arial, sans-serif; font-size: 12px; fill: rgb(42, 63, 95); fill-opacity: 1; white-space: pre;\">120</text></g><g class=\"ytick\"><text text-anchor=\"end\" x=\"99\" y=\"4.199999999999999\" transform=\"translate(0,126.08)\" style=\"font-family: 'Open Sans', verdana, arial, sans-serif; font-size: 12px; fill: rgb(42, 63, 95); fill-opacity: 1; white-space: pre;\">140</text></g></g><g class=\"overaxes-above\"/></g></g><g class=\"polarlayer\"/><g class=\"ternarylayer\"/><g class=\"geolayer\"/><g class=\"funnelarealayer\"/><g class=\"pielayer\"/><g class=\"treemaplayer\"/><g class=\"sunburstlayer\"/><g class=\"glimages\"/><defs id=\"topdefs-79751f\"><g class=\"clips\"/></defs><g class=\"layer-above\"><g class=\"imagelayer\"/><g class=\"shapelayer\"><path data-index=\"0\" fill-rule=\"evenodd\" d=\"M236.8,347.77L248.2,347.77\" clip-path=\"url('#clip79751fxy')\" style=\"opacity: 0.7; stroke: rgb(0, 0, 0); stroke-opacity: 1; fill: rgb(0, 0, 0); fill-opacity: 0; stroke-width: 1.5px;\"/><path data-index=\"1\" fill-rule=\"evenodd\" d=\"M236.8,157.02L248.2,157.02\" clip-path=\"url('#clip79751fxy')\" style=\"opacity: 0.7; stroke: rgb(0, 0, 0); stroke-opacity: 1; fill: rgb(0, 0, 0); fill-opacity: 0; stroke-width: 1.5px;\"/><path data-index=\"2\" fill-rule=\"evenodd\" d=\"M242.5,347.77L242.5,157.02\" clip-path=\"url('#clip79751fxy')\" style=\"opacity: 0.7; stroke: rgb(0, 0, 0); stroke-opacity: 1; fill: rgb(0, 0, 0); fill-opacity: 0; stroke-width: 1.5px;\"/><path data-index=\"3\" fill-rule=\"evenodd\" d=\" M 236.8 252.39 L 242.5 256.62 L 248.2 252.39 L 242.5 248.17 Z\" clip-path=\"url('#clip79751fxy')\" style=\"opacity: 1; stroke: rgb(0, 0, 0); stroke-opacity: 1; fill: rgb(66, 244, 143); fill-opacity: 1; stroke-width: 1.5px;\"/><path data-index=\"4\" fill-rule=\"evenodd\" d=\"M521.8,295.75L533.2,295.75\" clip-path=\"url('#clip79751fxy')\" style=\"opacity: 0.7; stroke: rgb(0, 0, 0); stroke-opacity: 1; fill: rgb(0, 0, 0); fill-opacity: 0; stroke-width: 1.5px;\"/><path data-index=\"5\" fill-rule=\"evenodd\" d=\"M521.8,113.92L533.2,113.92\" clip-path=\"url('#clip79751fxy')\" style=\"opacity: 0.7; stroke: rgb(0, 0, 0); stroke-opacity: 1; fill: rgb(0, 0, 0); fill-opacity: 0; stroke-width: 1.5px;\"/><path data-index=\"6\" fill-rule=\"evenodd\" d=\"M527.5,295.75L527.5,113.92\" clip-path=\"url('#clip79751fxy')\" style=\"opacity: 0.7; stroke: rgb(0, 0, 0); stroke-opacity: 1; fill: rgb(0, 0, 0); fill-opacity: 0; stroke-width: 1.5px;\"/><path data-index=\"7\" fill-rule=\"evenodd\" d=\" M 521.8 204.84 L 527.5 209.06 L 533.2 204.84 L 527.5 200.61 Z\" clip-path=\"url('#clip79751fxy')\" style=\"opacity: 1; stroke: rgb(0, 0, 0); stroke-opacity: 1; fill: rgb(66, 167, 244); fill-opacity: 1; stroke-width: 1.5px;\"/></g></g><g class=\"infolayer\"><g class=\"g-gtitle\"><text class=\"gtitle\" x=\"35\" y=\"50\" text-anchor=\"start\" dy=\"0em\" style=\"font-family: 'Open Sans', verdana, arial, sans-serif; font-size: 17px; fill: rgb(42, 63, 95); opacity: 1; font-weight: normal; white-space: pre;\">Contralateral/Ipsilateral p=2.95e-01</text></g><g class=\"g-xtitle\"/><g class=\"g-ytitle\"/></g></svg>"
     },
     "metadata": {}
    },
    {
     "output_type": "execute_result",
     "data": {
      "text/plain": [
       "   contralateral  ipsilateral\n",
       "0            130           54\n",
       "1            101          133\n",
       "2             50           87\n",
       "3             33           75\n",
       "4             54          144"
      ],
      "text/html": [
       "<div>\n",
       "<style scoped>\n",
       "    .dataframe tbody tr th:only-of-type {\n",
       "        vertical-align: middle;\n",
       "    }\n",
       "\n",
       "    .dataframe tbody tr th {\n",
       "        vertical-align: top;\n",
       "    }\n",
       "\n",
       "    .dataframe thead th {\n",
       "        text-align: right;\n",
       "    }\n",
       "</style>\n",
       "<table border=\"1\" class=\"dataframe\">\n",
       "  <thead>\n",
       "    <tr style=\"text-align: right;\">\n",
       "      <th></th>\n",
       "      <th>contralateral</th>\n",
       "      <th>ipsilateral</th>\n",
       "    </tr>\n",
       "  </thead>\n",
       "  <tbody>\n",
       "    <tr>\n",
       "      <th>0</th>\n",
       "      <td>130</td>\n",
       "      <td>54</td>\n",
       "    </tr>\n",
       "    <tr>\n",
       "      <th>1</th>\n",
       "      <td>101</td>\n",
       "      <td>133</td>\n",
       "    </tr>\n",
       "    <tr>\n",
       "      <th>2</th>\n",
       "      <td>50</td>\n",
       "      <td>87</td>\n",
       "    </tr>\n",
       "    <tr>\n",
       "      <th>3</th>\n",
       "      <td>33</td>\n",
       "      <td>75</td>\n",
       "    </tr>\n",
       "    <tr>\n",
       "      <th>4</th>\n",
       "      <td>54</td>\n",
       "      <td>144</td>\n",
       "    </tr>\n",
       "  </tbody>\n",
       "</table>\n",
       "</div>"
      ]
     },
     "metadata": {},
     "execution_count": 9
    }
   ],
   "metadata": {
    "scrolled": true
   }
  },
  {
   "cell_type": "code",
   "execution_count": null,
   "source": [
    "hour_1 = [9.4, 7.8, 7.645113, 7.506638, 6.388628, 5.879534, 6.30877, 10.17189, 8.694524, 11.10024]\n",
    "day_10 = [13.7, 8.747743, 23.88229, 21.5893, 16.30327, 13.2, 24.9, 25.6, 19.4, 25.4, 18.7, 23.4]\n",
    "cell_body = [31.19128, 41, 29, 26.90802, 36.84701, 53.33333, 32.27459, 56.7, 32.7, 41.9, 38.1, 36, 46.1, 39, 56.2]\n",
    "\n",
    "point_box_3 = plotly_utils.plot_point_box_revised(['1h background', '10d background', 'Cell body'], [hour_1, day_10, cell_body], title='Capsid density'.format(pvalue), width=500, height=500)\n",
    "point_box_3.show('svg')\n",
    "\n",
    "saving_utils.dict_to_csv({'hour_1' : hour_1, 'day_10' : day_10, 'cell_body' : cell_body}, 'capsid_density_data', output_folder)"
   ],
   "outputs": [],
   "metadata": {}
  },
  {
   "cell_type": "code",
   "execution_count": null,
   "source": [
    "saving_utils.save_plotly_fig(point_box, os.path.join(output_folder, 'gw_control'), width=500, height=500)\n",
    "saving_utils.save_plotly_fig(point_box_2, os.path.join(output_folder,'contralateral_ipsilateral'), width=500, height=500)\n",
    "saving_utils.save_plotly_fig(point_box_3, os.path.join(output_folder, 'capsid_density'), width=500, height=500)"
   ],
   "outputs": [],
   "metadata": {}
  },
  {
   "cell_type": "code",
   "execution_count": null,
   "source": [
    "astro_layer_1 = [0, 0, 0, 0, 0, 0, 0, 0, 5.32067721579603, 12.5926609971708, 9.27966593202645, 3.82719451333395, 0, 0, 0]\n",
    "astro_layer_2 = [3.17242779554337, 4.65003813031267, 2.06905684112954, 6.60870829492022, 4.64707048676514, 6.49481389110795, 3.99167602492935, 5.28865477777073, 4.25484839975152, 5.17090486957039, 1.42577080734272, 1.89136026630353, 2.72485503771199, 4.48552789280665, 3.59658540181951]\n",
    "astro_layer_3 = [10.8124685455461, 11.9126004990297, 15.1936429797773, 23.6802690078559, 32.1863787245238, 19.4141583574069, 30.4454040835812, 30.7918471135127, 25.8392925201708, 15.3295921267215, 12.9844835421671, 14.9698606804966, 15.3139356814701, 16.167213231928, 15.0158166602154]\n",
    "astro_layer_4 = [5.39728, 2.95308, 4.20275, 3.80695, 4.8694, 5.93932, 5.36313, 7.92186, 4.2738, 4.13724, 4.49476, 3.49989, 4.78446, 4.47299, 6.61117]\n",
    "import numpy as np, scipy.stats as st\n",
    "astro_layers = [astro_layer_1, astro_layer_2, astro_layer_3, astro_layer_4]\n",
    "\n",
    "for i, astro_layer in enumerate(astro_layers):\n",
    "    m, ci_low, ci_up = stat_utils.mean_confidence_interval(astro_layer)\n",
    "    ci = m - ci_low\n",
    "    print(f'Astro layer: {i+1} Mean: {np.mean(astro_layer)} Std: {np.std(astro_layer)} CI: {ci}')\n",
    "\n",
    "point_box_4 = plotly_utils.plot_point_box_revised(['astro_layer_1', 'astro_layer_2', 'astro_layer_3', 'astro_layer_4'], [astro_layer_1, astro_layer_2, astro_layer_3, astro_layer_4], title='Layer density (Astrocyte)', width=500, height=500)\n",
    "point_box_4.show('svg')\n",
    "\n",
    "\n",
    "saving_utils.dict_to_csv({'astro_layer_1' : astro_layer_1, 'astro_layer_2' : astro_layer_2, 'astro_layer_3' : astro_layer_3, 'astro_layer_4' : astro_layer_4}, 'layer_density_astrocyte_data', output_folder)\n",
    "\n",
    "saving_utils.save_plotly_fig(point_box_4, os.path.join(output_folder, 'layer_density_astrocyte'), width=500, height=500)"
   ],
   "outputs": [],
   "metadata": {}
  },
  {
   "cell_type": "code",
   "execution_count": null,
   "source": [
    "axon_layer_1 = [0, 0, 0, 10.3813053, 0, 0, 0, 0, 2.69623175]\n",
    "axon_layer_2 = [0, 0.68306944, 0.48791365, 2.4766575, 0.92149252, 1.10027947, 5.40956825, 5.09145527, 6.36754488]\n",
    "axon_layer_3 = [5.24155106, 5.18161563, 4.47253195, 16.3689745, 14.1505351, 22.3286278, 12.9293347, 8.15240196, 9.36809103]\n",
    "axon_layer_4 = [8.7271679, 6.14310989, 4.60144577, 10.039829, 7.96686653, 9.54529677, 13.8465799, 17.432792, 4.89236791]\n",
    "\n",
    "axon_layers = [axon_layer_1, axon_layer_2, axon_layer_3, axon_layer_4]\n",
    "\n",
    "for i, axon_layer in enumerate(axon_layers):\n",
    "    m, ci_low, ci_up = stat_utils.mean_confidence_interval(axon_layer)\n",
    "    ci = m - ci_low\n",
    "    print(f'Axon layer: {i+1} Mean: {np.mean(axon_layer)} Std: {np.std(axon_layer)} CI: {ci}')\n",
    "\n",
    "point_box_5 = plotly_utils.plot_point_box_revised(['axon_layer_1', 'axon_layer_2', 'axon_layer_3', 'axon_layer_4'], [axon_layer_1, axon_layer_2, axon_layer_3, axon_layer_4], title='Layer density (Neuron)', width=500, height=500)\n",
    "point_box_5.show('svg')\n",
    "\n",
    "saving_utils.dict_to_csv({'axon_layer_1' : axon_layer_1, 'axon_layer_2' : axon_layer_2, 'axon_layer_3' : axon_layer_3, 'axon_layer_4' : axon_layer_4}, 'layer_density_neuron_data', output_folder)\n",
    "\n",
    "saving_utils.save_plotly_fig(point_box_5, os.path.join(output_folder, 'layer_density_neuron'), width=500, height=500)\n"
   ],
   "outputs": [],
   "metadata": {}
  }
 ],
 "metadata": {
  "kernelspec": {
   "name": "python3",
   "display_name": "Python 3.7.8 64-bit ('aqua_env': venv)"
  },
  "language_info": {
   "codemirror_mode": {
    "name": "ipython",
    "version": 3
   },
   "file_extension": ".py",
   "mimetype": "text/x-python",
   "name": "python",
   "nbconvert_exporter": "python",
   "pygments_lexer": "ipython3",
   "version": "3.7.8"
  },
  "interpreter": {
   "hash": "00da1a886205395fce514562ea7482b747c51608420d1b6b361b04877c328b5f"
  }
 },
 "nbformat": 4,
 "nbformat_minor": 2
}