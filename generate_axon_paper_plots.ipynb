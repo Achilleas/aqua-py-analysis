{
 "cells": [
  {
   "cell_type": "code",
   "execution_count": null,
   "source": [
    "import numpy as np\n",
    "from analysis import AxonAstroAnalyzer, AxonAstroPlotter\n",
    "from importlib import reload  # Python 3.4+ only\n",
    "import os\n",
    "from preprocessing import analysis_pp\n",
    "from analysis.general_utils import aqua_utils, saving_utils, plotly_utils, general_utils, compare_astro_utils, correlation_utils, duration_utils, stat_utils\n",
    "from analysis import paper_plots\n",
    "\n",
    "analysis_pp = reload(analysis_pp)\n",
    "aqua_utils = reload(aqua_utils)\n",
    "plotly_utils = reload(plotly_utils)\n",
    "saving_utils = reload(saving_utils)\n",
    "duration_utils = reload(duration_utils)\n",
    "compare_astro_utils = reload(compare_astro_utils)\n",
    "correlation_utils = reload(correlation_utils)\n",
    "stat_utils = reload(stat_utils)\n",
    "general_utils = reload(general_utils)\n",
    "paper_plots = reload(paper_plots)\n",
    "AxonAstroAnalyzer = reload(AxonAstroAnalyzer)\n",
    "AxonAstroPlotter = reload(AxonAstroPlotter)"
   ],
   "outputs": [],
   "metadata": {}
  },
  {
   "cell_type": "code",
   "execution_count": null,
   "source": [
    "# Change these paths\n",
    "output_folder = '/Users/achilleasgeorgiou/Desktop/data_output'\n",
    "data_folder = '/Users/achilleasgeorgiou/Dropbox/Data/'\n",
    "\n",
    "axon_astro_plotter = AxonAstroPlotter.AxonAstroPlotter(output_folder)"
   ],
   "outputs": [],
   "metadata": {}
  },
  {
   "cell_type": "code",
   "execution_count": null,
   "source": [
    "base_path = os.path.join(data_folder, '180912_003')\n",
    "print(os.path.exists(base_path))\n",
    "day = '0'\n",
    "num_axons=3\n",
    "num_astro_far=3\n",
    "AA1 = AxonAstroAnalyzer.AxonAstroAnalyzer(base_path, day, num_axons=num_axons, num_astro_far=num_astro_far)"
   ],
   "outputs": [],
   "metadata": {}
  },
  {
   "cell_type": "code",
   "execution_count": null,
   "source": [
    "base_path = os.path.join(data_folder, '181012_002')\n",
    "print(os.path.exists(base_path))\n",
    "day = '0'\n",
    "num_axons=2\n",
    "num_astro_far=2\n",
    "AA2 = AxonAstroAnalyzer.AxonAstroAnalyzer(base_path, day, num_axons=num_axons, num_astro_far=num_astro_far)"
   ],
   "outputs": [],
   "metadata": {}
  },
  {
   "cell_type": "code",
   "execution_count": null,
   "source": [
    "base_path = os.path.join(data_folder, '181022_003')\n",
    "print(os.path.exists(base_path))\n",
    "day = '0'\n",
    "num_axons=3\n",
    "num_astro_far=2\n",
    "AA3 = AxonAstroAnalyzer.AxonAstroAnalyzer(base_path, day, num_axons=num_axons, num_astro_far=num_astro_far)"
   ],
   "outputs": [],
   "metadata": {}
  },
  {
   "cell_type": "code",
   "execution_count": null,
   "source": [
    "AA_l = [AA1, AA2, AA3]"
   ],
   "outputs": [],
   "metadata": {}
  },
  {
   "cell_type": "code",
   "execution_count": null,
   "source": [
    "paper_plots.generate_axon_plots(axon_plotter=axon_astro_plotter, AA_l=AA_l, output_folder=output_folder)"
   ],
   "outputs": [],
   "metadata": {}
  },
  {
   "cell_type": "code",
   "execution_count": null,
   "source": [],
   "outputs": [],
   "metadata": {}
  }
 ],
 "metadata": {
  "interpreter": {
   "hash": "00da1a886205395fce514562ea7482b747c51608420d1b6b361b04877c328b5f"
  },
  "kernelspec": {
   "name": "python3",
   "display_name": "Python 3.7.8 64-bit ('aqua_env': venv)"
  },
  "language_info": {
   "codemirror_mode": {
    "name": "ipython",
    "version": 3
   },
   "file_extension": ".py",
   "mimetype": "text/x-python",
   "name": "python",
   "nbconvert_exporter": "python",
   "pygments_lexer": "ipython3",
   "version": "3.7.8"
  }
 },
 "nbformat": 4,
 "nbformat_minor": 2
}