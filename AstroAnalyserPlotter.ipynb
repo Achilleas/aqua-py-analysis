{
 "cells": [
  {
   "cell_type": "code",
   "execution_count": 9,
   "metadata": {},
   "outputs": [],
   "source": [
    "import numpy as np\n",
    "from analysis import AstrocyteAnalyzer\n",
    "from analysis import AstrocytePlotter\n",
    "from importlib import reload  # Python 3.4+ only\n",
    "AstrocyteAnalyzer = reload(AstrocyteAnalyzer)\n",
    "AstrocytePlotter = reload(AstrocytePlotter)\n",
    "import os, sys, glob\n",
    "import plotly.offline as offline\n",
    "from preprocessing import analysis_pp\n",
    "from analysis.general_utils import aqua_utils, saving_utils, plotly_utils, general_utils, compare_astro_utils, correlation_utils, duration_utils, stat_utils\n",
    "import pandas\n",
    "\n",
    "analysis_pp = reload(analysis_pp)\n",
    "aqua_utils = reload(aqua_utils)\n",
    "plotly_utils = reload(plotly_utils)\n",
    "saving_utils = reload(saving_utils)\n",
    "duration_utils = reload(duration_utils)\n",
    "compare_astro_utils = reload(compare_astro_utils)\n",
    "correlation_utils = reload(correlation_utils)\n",
    "stat_utils = reload(stat_utils)"
   ]
  },
  {
   "cell_type": "code",
   "execution_count": null,
   "metadata": {},
   "outputs": [],
   "source": [
    "output_folder = '/Users/achilleasgeorgiou/Desktop/data_output'\n",
    "astroP = AstrocytePlotter.AstrocytePlotter(output_folder)"
   ]
  },
  {
   "cell_type": "code",
   "execution_count": null,
   "metadata": {
    "scrolled": true
   },
   "outputs": [],
   "source": [
    "astroA_l = [astroA_0, astroB_0, astroB_3, astroC_0, astroC_2, astroD_A_0, astroD_A_1, astroD_B_0, astroD_B_1]\n",
    "astroA_l_good = [astroA_0, astroB_0, astroB_3, astroD_A_0, astroD_A_1, astroD_B_0, astroD_B_1]\n",
    "#Long (70+ min recordings)\n",
    "astroA_long_l = [astroA_0, astroD_A_0, astroD_A_1, astroD_B_0, astroD_B_1]\n",
    "fig = astroP.plot_comparisons_all(astroA_l, \n",
    "                            astroA_l_pairs=[[astroB_0, astroB_3], \n",
    "                                            [astroC_0, astroC_2], \n",
    "                                            [astroD_A_0, astroD_A_1], \n",
    "                                            [astroD_B_0, astroD_B_1]], \n",
    "                            astroA_l_good_pairs=[[astroB_0, astroB_3], \n",
    "                                                 [astroD_A_0, astroD_A_1], \n",
    "                                                 [astroD_B_0, astroD_B_1]], \n",
    "                            astroA_l_good=astroA_l_good,\n",
    "                            astroA_long_l=astroA_long_l)"
   ]
  },
  {
   "cell_type": "code",
   "execution_count": null,
   "metadata": {},
   "outputs": [],
   "source": [
    "base_path_a = '/Users/achilleasgeorgiou/Desktop/data_local/astro_only/m181129_d190111_c001/'\n",
    "astroA_0 = AstrocyteAnalyzer.AstrocyteAnalyzer(base_path_a, day=0, aqua_bound=True)\n",
    "\n",
    "base_path_b = '/Users/achilleasgeorgiou/Desktop/data_local/astro_only/m181129_d190222_c005/'\n",
    "\n",
    "astroB_0 = AstrocyteAnalyzer.AstrocyteAnalyzer(base_path_b, day=0, aqua_bound=True)\n",
    "astroB_3 = AstrocyteAnalyzer.AstrocyteAnalyzer(base_path_b, day=3, aqua_bound=True)\n",
    "\n",
    "\n",
    "base_path_c = '/Users/achilleasgeorgiou/Desktop/data_local/astro_only/m190129_d190226_cx/'\n",
    "\n",
    "astroC_0 = AstrocyteAnalyzer.AstrocyteAnalyzer(base_path_c, day=0, aqua_bound=True)\n",
    "astroC_2 = AstrocyteAnalyzer.AstrocyteAnalyzer(base_path_c, day=2, aqua_bound=True)\n",
    "\n",
    "base_path_d_A = '/Users/achilleasgeorgiou/Desktop/data_local/astro_only/m2000219_d190411_c003/'\n",
    "\n",
    "astroD_A_0 = AstrocyteAnalyzer.AstrocyteAnalyzer(base_path_d_A, day=0, aqua_bound=True)\n",
    "astroD_A_1 = AstrocyteAnalyzer.AstrocyteAnalyzer(base_path_d_A, day=1, aqua_bound=True)\n",
    "\n",
    "base_path_d_B = '/Users/achilleasgeorgiou/Desktop/data_local/astro_only/m2000219_d190411_c004/'\n",
    "\n",
    "astroD_B_0 = AstrocyteAnalyzer.AstrocyteAnalyzer(base_path_d_B, day=0, aqua_bound=True)\n",
    "astroD_B_1 = AstrocyteAnalyzer.AstrocyteAnalyzer(base_path_d_B, day=1, aqua_bound=True)\n"
   ]
  },
  {
   "cell_type": "markdown",
   "metadata": {},
   "source": [
    "### Astro A:"
   ]
  },
  {
   "cell_type": "code",
   "execution_count": null,
   "metadata": {
    "scrolled": true
   },
   "outputs": [],
   "source": [
    "base_path_a = '/Users/achilleasgeorgiou/Desktop/data_local/astro_only/m181129_d190111_c001/'\n",
    "astroA_0 = AstrocyteAnalyzer.AstrocyteAnalyzer(base_path_a, day=0, aqua_bound=True)"
   ]
  },
  {
   "cell_type": "code",
   "execution_count": null,
   "metadata": {},
   "outputs": [],
   "source": [
    "offline.iplot(fig)"
   ]
  },
  {
   "cell_type": "code",
   "execution_count": null,
   "metadata": {},
   "outputs": [],
   "source": [
    "#astroP.generate_corr_data(astroA)"
   ]
  },
  {
   "cell_type": "code",
   "execution_count": null,
   "metadata": {},
   "outputs": [],
   "source": [
    "astroP.plot_all_single(astroA)"
   ]
  },
  {
   "cell_type": "markdown",
   "metadata": {},
   "source": [
    "### Astro B_0, B_3"
   ]
  },
  {
   "cell_type": "code",
   "execution_count": null,
   "metadata": {},
   "outputs": [],
   "source": [
    "base_path_b = '/Users/achilleasgeorgiou/Desktop/data_local/astro_only/m181129_d190222_c005/'\n",
    "\n",
    "astroB_0 = AstrocyteAnalyzer.AstrocyteAnalyzer(base_path_b, day=0, aqua_bound=True)\n",
    "astroB_3 = AstrocyteAnalyzer.AstrocyteAnalyzer(base_path_b, day=3, aqua_bound=True)"
   ]
  },
  {
   "cell_type": "code",
   "execution_count": null,
   "metadata": {
    "scrolled": false
   },
   "outputs": [],
   "source": [
    "#astroP.generate_corr_data(astroB_0)\n",
    "#astroP.generate_corr_data(astroB_3)\n",
    "#astroP.generate_corr_data_pair([astroB_0, astroB_3])"
   ]
  },
  {
   "cell_type": "code",
   "execution_count": null,
   "metadata": {
    "scrolled": true
   },
   "outputs": [],
   "source": [
    "astroP.plot_all_single(astroB_0)\n",
    "astroP.plot_all_single(astroB_3)\n",
    "#astroP.plot_comparisons([astroB_0, astroB_3])"
   ]
  },
  {
   "cell_type": "markdown",
   "metadata": {},
   "source": [
    "### Astro C"
   ]
  },
  {
   "cell_type": "code",
   "execution_count": null,
   "metadata": {
    "scrolled": true
   },
   "outputs": [],
   "source": [
    "base_path_c = '/Users/achilleasgeorgiou/Desktop/data_local/astro_only/m190129_d190226_cx/'\n",
    "\n",
    "astroC_0 = AstrocyteAnalyzer.AstrocyteAnalyzer(base_path_c, day=0, aqua_bound=True)\n",
    "astroC_2 = AstrocyteAnalyzer.AstrocyteAnalyzer(base_path_c, day=2, aqua_bound=True)"
   ]
  },
  {
   "cell_type": "code",
   "execution_count": null,
   "metadata": {},
   "outputs": [],
   "source": [
    "#astroP.generate_corr_data(astroC_0)\n",
    "#astroP.generate_corr_data(astroC_2)\n",
    "#astroP.generate_corr_data_pair([astroC_0, astroC_2])"
   ]
  },
  {
   "cell_type": "code",
   "execution_count": null,
   "metadata": {},
   "outputs": [],
   "source": [
    "astroP.plot_all_single(astroC_0)\n",
    "astroP.plot_all_single(astroC_2)\n",
    "#astroP.plot_comparisons([astroC_0, astroC_2])"
   ]
  },
  {
   "cell_type": "markdown",
   "metadata": {},
   "source": [
    "### Astro D_A"
   ]
  },
  {
   "cell_type": "code",
   "execution_count": null,
   "metadata": {},
   "outputs": [],
   "source": [
    "base_path_d_A = '/Users/achilleasgeorgiou/Desktop/data_local/astro_only/m2000219_d190411_c003/'\n",
    "\n",
    "astroD_A_0 = AstrocyteAnalyzer.AstrocyteAnalyzer(base_path_d_A, day=0, aqua_bound=True)\n",
    "astroD_A_1 = AstrocyteAnalyzer.AstrocyteAnalyzer(base_path_d_A, day=1, aqua_bound=True)"
   ]
  },
  {
   "cell_type": "code",
   "execution_count": null,
   "metadata": {},
   "outputs": [],
   "source": [
    "#astroP.generate_corr_data(astroD_A_0)\n",
    "#astroP.generate_corr_data(astroD_A_1)\n",
    "#astroP.generate_corr_data_pair([astroD_A_0, astroD_A_1])"
   ]
  },
  {
   "cell_type": "code",
   "execution_count": null,
   "metadata": {},
   "outputs": [],
   "source": [
    "astroP.plot_all_single(astroD_A_0)\n",
    "astroP.plot_all_single(astroD_A_1)\n",
    "#astroP.plot_comparisons([astroD_A_0, astroD_A_1])"
   ]
  },
  {
   "cell_type": "markdown",
   "metadata": {},
   "source": [
    "### Astro D_B"
   ]
  },
  {
   "cell_type": "code",
   "execution_count": null,
   "metadata": {
    "scrolled": true
   },
   "outputs": [],
   "source": [
    "base_path_d_B = '/Users/achilleasgeorgiou/Desktop/data_local/astro_only/m2000219_d190411_c004/'\n",
    "\n",
    "astroD_B_0 = AstrocyteAnalyzer.AstrocyteAnalyzer(base_path_d_B, day=0, aqua_bound=True)\n",
    "astroD_B_1 = AstrocyteAnalyzer.AstrocyteAnalyzer(base_path_d_B, day=1, aqua_bound=True)"
   ]
  },
  {
   "cell_type": "code",
   "execution_count": null,
   "metadata": {},
   "outputs": [],
   "source": [
    "#astroP.plot_all_single(astroD_B_0)\n",
    "#astroP.plot_all_single(astroD_B_1)\n",
    "#astroP.plot_comparisons([astroD_B_0, astroD_B_1])"
   ]
  },
  {
   "cell_type": "markdown",
   "metadata": {},
   "source": [
    "### Signals with stick running sample"
   ]
  },
  {
   "cell_type": "code",
   "execution_count": null,
   "metadata": {
    "scrolled": true
   },
   "outputs": [],
   "source": [
    "p = {'fit' : True, 'delay_step_size' : 1, 'confidence' : True}\n",
    "astroA_l = [astroA, astroB_0, astroB_3, astroC_0, astroC_2, astroD_A_0, astroD_A_1, astroD_B_0, astroD_B_1]\n",
    "\n",
    "sum_inds_filt = 0 \n",
    "inds_filt_arr = []\n",
    "sum_inds = 0\n",
    "sum_events = 0\n",
    "for astroX in astroA_l:\n",
    "    before_bh='rest_semi_exact'\n",
    "    inds_bh='running_exact_start'\n",
    "    after_bh='running_semi_exact'\n",
    "\n",
    "    before_range, after_range = 30, 361\n",
    "    print('Before range: {}, After range: {}'.format(before_range, after_range))\n",
    "    inds = astroX.indices_d[inds_bh]\n",
    "\n",
    "    print('Num inds: {}'.format(len(inds)))\n",
    "    #Filter indices\n",
    "    indices_filt_before = aqua_utils.filter_range_inds(inds, astroX.indices_d[before_bh], range=(-before_range, -1), prop=1.0)\n",
    "    indices_filt_after = aqua_utils.filter_range_inds(inds, astroX.indices_d[after_bh], range=(1, after_range), prop=1.0)\n",
    "    indices_filt = np.array(np.sort(list(set(indices_filt_before) & set(indices_filt_after))))\n",
    "\n",
    "    print('Len indices {} len filt before {} len filt after {} len filt {}'.format(len(inds), len(indices_filt_before), len(indices_filt_after), len(indices_filt)))\n",
    "\n",
    "    #print('LEN INDICES FILT : {}'.format(len(indices_filt)))\n",
    "\n",
    "    delay_info_args = {'event_inds_subset' : astroX.event_subsets['default'],\n",
    "                   'min_delay' : -before_range,\n",
    "                   'max_delay' : after_range,\n",
    "                   'max_duration' : None,\n",
    "                   'unique_events' : False,\n",
    "                   'return_non_unique_delays_arr' : True\n",
    "                   }\n",
    "\n",
    "    _, _, _, signal_delays_l_l, peak_mins_l_l, valid_event_i_l_l = aqua_utils.get_delay_info_from_res(indices_filt, astroX.res_d, **delay_info_args)\n",
    "    \n",
    "    #print('EN SIGNAL DELAYS L L', len(signal_delays_l_l), 'LEN INDICES', len(indices_filt))\n",
    "\n",
    "    #print(signal_delays_l_l)\n",
    "    #break\n",
    "    total_events = np.sum([len(signal_delays_all_l) for signal_delays_all_l in signal_delays_l_l])\n",
    "    print('Total signals {} {}-{} delay {} {}'.format(total_events, before_bh, after_bh, before_range, after_range))\n",
    "    \n",
    "    sum_inds_filt += len(indices_filt)\n",
    "    sum_events += total_events\n",
    "    sum_inds += len(inds)\n",
    "    inds_filt_arr.append(len(indices_filt))\n",
    "    \n",
    "    print('INDICES FILT', indices_filt)\n",
    "print('Sum potential inds: {}, Sum inds_filt: {}, Sum events: {}'.format(sum_inds, sum_inds_filt, sum_events))\n",
    "print(inds_filt_arr)\n",
    "#Total signals 1164 rest_semi_exact-running_semi_exact delay 31 61\n",
    "#Sum inds: 796, Sum events: 4282\n",
    "\n",
    "\n",
    "#Sum inds: 801, Sum events: 3122\n",
    "\n",
    "\n",
    "#Run to rest : Sum potential inds: 801, Sum inds_filt: 177, Sum events: 3089\n",
    "#                 [27, 13, 22, 8, 17, 7, 39, 11, 33]\n",
    "                                      #[10015 17000 33164 36021 36512 38118 38889]\n",
    "#Rest to run : Sum potential inds: 796, Sum inds_filt: 226, Sum events: 4263\n",
    "#                [29, 19, 21, 10, 20, 11, 50, 18, 48]\n",
    "                                    #[ 3030  4614  9756 16723 19779 25706 32922 35776 36283 37880 38721]\n",
    "    \n",
    "    \n",
    "#    108"
   ]
  },
  {
   "cell_type": "code",
   "execution_count": null,
   "metadata": {},
   "outputs": [],
   "source": [
    "time_from = 11700\n",
    "time_to = 12000\n",
    "#Obtain stick signal\n",
    "\n",
    "stick_start_bin = np.zeros([len(astroA.stick_bin)])\n",
    "stick_start_bin[astroA.indices_d['stick_exact_start']] = 1\n",
    "\n",
    "stick_signal = stick_start_bin[time_from:time_to]\n",
    "#Obtain running signal\n",
    "running_signal = astroA.speed_values[time_from:time_to]\n",
    "\n",
    "fig_running = plotly_utils.plot_scatter_fmt(np.arange(len(running_signal)), running_signal, astype='float')\n",
    "fig_stick = plotly_utils.plot_scatter_fmt(np.arange(len(stick_signal)), stick_signal, astype='int')\n",
    "\n",
    "saving_utils.save_plotly_fig(fig_running, os.path.join(stick_run_sample_path, 'running'), width=1000, height=1000, font_size=None, save_multiple_formats=True)\n",
    "saving_utils.save_plotly_fig(fig_stick, os.path.join(stick_run_sample_path, 'stick'), width=1000, height=1000, font_size=None, save_multiple_formats=True)\n",
    "\n",
    "offline.iplot(fig_running)\n",
    "offline.iplot(fig_stick)\n",
    "\n",
    "#Obtain available events during this period\n",
    "interval_events = list(set(np.where(astroA.res_d['tBegin'] > time_from)[0]) & set(np.where(astroA.res_d['tEnd'] < time_to)[0]))\n",
    "\n",
    "for i, event_i in enumerate(interval_events[0:10]):\n",
    "    adj_from = int(time_from % astroA.input_shape[2])\n",
    "    adj_to = int(time_to % astroA.input_shape[2])\n",
    "    \n",
    "    if adj_to < adj_from:\n",
    "        print('Skipping: change time from to')\n",
    "        continue\n",
    "    \n",
    "    print('ADJ FROM {} ADJ TO {}'.format(adj_from, adj_to))\n",
    "    y = astroA.res_d['dff_only'][event_i][adj_from:adj_to]\n",
    "    x = np.arange(0, adj_to-adj_from)\n",
    "    \n",
    "    adj_begin = int(astroA.res_d['tBegin'][event_i] % astroA.input_shape[2]) - adj_from\n",
    "    adj_end = int(astroA.res_d['tEnd'][event_i] % astroA.input_shape[2]) - adj_from\n",
    "    \n",
    "    print(adj_begin, adj_end)\n",
    "    fig = plotly_utils.plot_scatter_signal(x, y, adj_begin, adj_end, mode='lines', title='scatter', x_title='', y_title='', with_legend=False)\n",
    "    saving_utils.save_plotly_fig(fig, os.path.join(stick_run_sample_path, 'event_{}'.format(i)))\n",
    "    offline.iplot(fig)"
   ]
  }
 ],
 "metadata": {
  "kernelspec": {
   "display_name": "Python 3",
   "language": "python",
   "name": "python3"
  },
  "language_info": {
   "codemirror_mode": {
    "name": "ipython",
    "version": 3
   },
   "file_extension": ".py",
   "mimetype": "text/x-python",
   "name": "python",
   "nbconvert_exporter": "python",
   "pygments_lexer": "ipython3",
   "version": "3.7.0"
  }
 },
 "nbformat": 4,
 "nbformat_minor": 2
}
